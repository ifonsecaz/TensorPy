{
 "cells": [
  {
   "cell_type": "markdown",
   "metadata": {},
   "source": [
    "# Week 3: Using RNNs to predict time series\n",
    "\n",
    "Welcome! In the previous assignment you used a vanilla deep neural network to create forecasts for generated time series. This time you will be using Tensorflow's layers for processing sequence data such as Recurrent layers or LSTMs to see how these two approaches compare.\n",
    "\n",
    "#### TIPS FOR SUCCESSFUL GRADING OF YOUR ASSIGNMENT:\n",
    "\n",
    "- All cells are frozen except for the ones where you need to submit your solutions or when explicitly mentioned you can interact with it.\n",
    "\n",
    "- You can add new cells to experiment but these will be omitted by the grader, so don't rely on newly created cells to host your solution code, use the provided places for this.\n",
    "\n",
    "- You can add the comment # grade-up-to-here in any graded cell to signal the grader that it must only evaluate up to that point. This is helpful if you want to check if you are on the right track even if you are not done with the whole assignment. Be sure to remember to delete the comment afterwards!\n",
    "\n",
    "- Avoid using global variables unless you absolutely have to. The grader tests your code in an isolated environment without running all cells from the top. As a result, global variables may be unavailable when scoring your submission. Global variables that are meant to be used will be defined in UPPERCASE.\n",
    "\n",
    "- To submit your notebook, save it and then click on the blue submit button at the beginning of the page.\n",
    "  \n",
    "Let's get started!"
   ]
  },
  {
   "cell_type": "code",
   "execution_count": 1,
   "metadata": {
    "colab": {
     "base_uri": "https://localhost:8080/"
    },
    "deletable": false,
    "editable": false,
    "id": "BOjujz601HcS",
    "outputId": "b0a53dee-523b-4a27-b31d-2a1daed0df1c",
    "tags": [
     "graded"
    ]
   },
   "outputs": [],
   "source": [
    "import tensorflow as tf\n",
    "import numpy as np\n",
    "import matplotlib.pyplot as plt\n",
    "import pickle"
   ]
  },
  {
   "cell_type": "markdown",
   "metadata": {},
   "source": [
    "## Generating the data\n",
    "\n",
    "Let's begin by defining a bunch of helper functions to generate and plot the time series: "
   ]
  },
  {
   "cell_type": "code",
   "execution_count": 2,
   "metadata": {
    "deletable": false,
    "editable": false,
    "tags": [
     "graded"
    ]
   },
   "outputs": [],
   "source": [
    "def plot_series(time, series, format=\"-\", start=0, end=None):\n",
    "    \"\"\"Plot the series\"\"\"\n",
    "    plt.plot(time[start:end], series[start:end], format)\n",
    "    plt.xlabel(\"Time\")\n",
    "    plt.ylabel(\"Value\")\n",
    "    plt.grid(False)\n",
    "\n",
    "def trend(time, slope=0):\n",
    "    \"\"\"A trend over time\"\"\"\n",
    "    return slope * time\n",
    "\n",
    "def seasonal_pattern(season_time):\n",
    "    \"\"\"Just an arbitrary pattern, you can change it if you wish\"\"\"\n",
    "    return np.where(season_time < 0.1,\n",
    "                    np.cos(season_time * 6 * np.pi),\n",
    "                    2 / np.exp(9 * season_time))\n",
    "\n",
    "def seasonality(time, period, amplitude=1, phase=0):\n",
    "    \"\"\"Repeats the same pattern at each period\"\"\"\n",
    "    season_time = ((time + phase) % period) / period\n",
    "    return amplitude * seasonal_pattern(season_time)\n",
    "\n",
    "def noise(time, noise_level=1, seed=None):\n",
    "    \"\"\"Adds noise to the series\"\"\"\n",
    "    rnd = np.random.RandomState(seed)\n",
    "    return rnd.randn(len(time)) * noise_level"
   ]
  },
  {
   "cell_type": "markdown",
   "metadata": {},
   "source": [
    "These are the same you have been using in the previous assignments, so you will be generating the same time series data. You can do that with the following function:"
   ]
  },
  {
   "cell_type": "code",
   "execution_count": 3,
   "metadata": {
    "deletable": false,
    "editable": false,
    "tags": [
     "graded"
    ]
   },
   "outputs": [],
   "source": [
    "def generate_time_series():\n",
    "    \"\"\" Creates timestamps and values of the time series \"\"\"\n",
    "    \n",
    "    # The time dimension or the x-coordinate of the time series\n",
    "    time = np.arange(4 * 365 + 1, dtype=\"float32\")\n",
    "\n",
    "    # Initial series is just a straight line with a y-intercept\n",
    "    y_intercept = 10\n",
    "    slope = 0.005\n",
    "    series = trend(time, slope) + y_intercept\n",
    "\n",
    "    # Adding seasonality\n",
    "    amplitude = 50\n",
    "    series += seasonality(time, period=365, amplitude=amplitude)\n",
    "\n",
    "    # Adding some noise\n",
    "    noise_level = 3\n",
    "    series += noise(time, noise_level, seed=51)\n",
    "    \n",
    "    return time, series"
   ]
  },
  {
   "cell_type": "markdown",
   "metadata": {},
   "source": [
    "## Defining some useful global variables\n",
    "\n",
    "Next, you will define some global variables that will be used throughout the assignment. Feel free to reference them in the upcoming exercises:\n",
    "\n",
    "`SPLIT_TIME`: time index to split between train and validation sets\n",
    "\n",
    "`WINDOW_SIZE`: length od the window to use for smoothing the series\n",
    "\n",
    "`BATCH_SIZE`: batch size for training the model\n",
    "\n",
    "`SHUFFLE_BUFFER_SIZE`: number of elements from the dataset used to sample for a new shuffle of the dataset. For more information about the use of this variable you can take a look at the [docs](https://www.tensorflow.org/api_docs/python/tf/data/Dataset#shuffle).\n",
    "\n",
    "**A note about grading:**\n",
    "\n",
    "**When you submit this assignment for grading these same values for these globals will be used so make sure that all your code works well with these values. After submitting and passing this assignment, you are encouraged to come back here and play with these parameters to see the impact they have in the classification process. Since this next cell is frozen, you will need to copy the contents into a new cell and run it to overwrite the values for these globals.**\n"
   ]
  },
  {
   "cell_type": "code",
   "execution_count": 4,
   "metadata": {
    "deletable": false,
    "editable": false,
    "tags": [
     "graded"
    ]
   },
   "outputs": [],
   "source": [
    "SPLIT_TIME = 1100\n",
    "WINDOW_SIZE = 20\n",
    "BATCH_SIZE = 32\n",
    "SHUFFLE_BUFFER_SIZE = 1000"
   ]
  },
  {
   "cell_type": "markdown",
   "metadata": {},
   "source": [
    "Finally, put everything together and create the times series you will use for this assignment. You will save them in the global variables `TIME` and `SERIES`."
   ]
  },
  {
   "cell_type": "code",
   "execution_count": 5,
   "metadata": {
    "deletable": false,
    "editable": false,
    "tags": [
     "graded"
    ]
   },
   "outputs": [],
   "source": [
    "# Create the time series\n",
    "TIME, SERIES = generate_time_series()"
   ]
  },
  {
   "cell_type": "code",
   "execution_count": 6,
   "metadata": {
    "deletable": false,
    "editable": false,
    "tags": []
   },
   "outputs": [
    {
     "data": {
      "image/png": "[encoded data removed]",
      "text/plain": [
       "<Figure size 1000x600 with 1 Axes>"
      ]
     },
     "metadata": {},
     "output_type": "display_data"
    }
   ],
   "source": [
    "# Plot the generated series\n",
    "plt.figure(figsize=(10, 6))\n",
    "plot_series(TIME, SERIES)\n",
    "plt.show()"
   ]
  },
  {
   "cell_type": "markdown",
   "metadata": {},
   "source": [
    "## Processing the data\n",
    "\n",
    "Since you already coded the `train_val_split` and `windowed_dataset` functions during past week's assignments, this time they are provided for you. Notice that in `windowed_dataset` an extra step is added which expands the series to have an extra dimension. This is done because you will be working with RNN-like layers which expect the dimensionality of its inputs to be 3 (including the batch dimension). In the previous weeks you used simple Dense layers which don't have this requirement.\n"
   ]
  },
  {
   "cell_type": "code",
   "execution_count": 7,
   "metadata": {
    "deletable": false,
    "editable": false,
    "tags": [
     "graded"
    ]
   },
   "outputs": [],
   "source": [
    "def train_val_split(time, series):\n",
    "    \"\"\" Splits time series into train and validation sets\"\"\"\n",
    "    time_train = time[:SPLIT_TIME]\n",
    "    series_train = series[:SPLIT_TIME]\n",
    "    time_valid = time[SPLIT_TIME:]\n",
    "    series_valid = series[SPLIT_TIME:]\n",
    "\n",
    "    return time_train, series_train, time_valid, series_valid"
   ]
  },
  {
   "cell_type": "code",
   "execution_count": 8,
   "metadata": {
    "deletable": false,
    "editable": false,
    "id": "4sTTIOCbyShY",
    "tags": [
     "graded"
    ]
   },
   "outputs": [],
   "source": [
    "def windowed_dataset(series, window_size):\n",
    "    \"\"\"Creates windowed dataset\"\"\"\n",
    "    series = tf.expand_dims(series, axis=-1)\n",
    "    dataset = tf.data.Dataset.from_tensor_slices(series)\n",
    "    dataset = dataset.window(window_size + 1, shift=1, drop_remainder=True)\n",
    "    dataset = dataset.flat_map(lambda window: window.batch(window_size + 1))\n",
    "    dataset = dataset.shuffle(SHUFFLE_BUFFER_SIZE)\n",
    "    dataset = dataset.map(lambda window: (window[:-1], window[-1]))\n",
    "    dataset = dataset.batch(BATCH_SIZE).prefetch(1)\n",
    "    return dataset"
   ]
  },
  {
   "cell_type": "markdown",
   "metadata": {},
   "source": [
    "Now, run the cell below to call these two functions and generate your training dataset:"
   ]
  },
  {
   "cell_type": "code",
   "execution_count": 9,
   "metadata": {
    "deletable": false,
    "editable": false,
    "id": "4sTTIOCbyShY",
    "tags": []
   },
   "outputs": [],
   "source": [
    "# Split the dataset\n",
    "time_train, series_train, time_valid, series_valid = train_val_split(TIME, SERIES)\n",
    "# Apply the transformation to the training set\n",
    "dataset = windowed_dataset(series_train, WINDOW_SIZE)"
   ]
  },
  {
   "cell_type": "markdown",
   "metadata": {},
   "source": [
    "## Defining the model architecture\n",
    "\n",
    "### Exercise 1: create_uncompiled_model\n",
    "\n",
    "Now that you have a function that will process the data before it is fed into your neural network for training, it is time to define your layer architecture. \n",
    "\n",
    "In previous weeks or courses you defined your layers and compiled the model in the same function. However, here you will do thing a little bit different: you will first define the `create_uncompiled_model` function, which only determines your model's structure, and later on you will compile it. This way you can can reuse your model's layers for the learning rate adjusting and the actual training.\n",
    "\n",
    "Remember that, as you saw on the lectures, there are a couple of layers you will need to add. Firstly, since LSTM and RNN layers expect three dimensions for the input (`batch_size`, `window_size`, `series_dimensionality`), and you have just a univariate time series, you will need to account for this, which can be done via the `tf.keras.Input` (this is already provided for you). Also, it is a good practice to add a layer at the end to make the output values, which are between -1 and 1 for the tanh activation function, be of the same order as the actual values of the series. \n",
    "\n",
    "Hint:\n",
    "- You should use `SimpleRNN` or `Bidirectional(LSTM)` as intermediate layers.\n",
    "\n",
    "- The last layer of the network (before the last `Lambda`) should be a `Dense` layer.\n",
    "- Fill in the `Lambda` layer at the end of the network with the correct lambda function."
   ]
  },
  {
   "cell_type": "code",
   "execution_count": 10,
   "metadata": {
    "deletable": false,
    "tags": [
     "graded"
    ]
   },
   "outputs": [],
   "source": [
    "# GRADED FUNCTION: create_uncompiled_model\n",
    "def create_uncompiled_model():\n",
    "    \"\"\"Define uncompiled model\n",
    "\n",
    "    Returns:\n",
    "        tf.keras.Model: uncompiled model\n",
    "    \"\"\"\n",
    "    ### START CODE HERE ###\n",
    "    \n",
    "    model = tf.keras.models.Sequential([ \n",
    "        tf.keras.Input((WINDOW_SIZE, 1)), \n",
    "\t\t# Your layers go here\n",
    "        tf.keras.layers.Bidirectional(tf.keras.layers.LSTM(32, return_sequences=True)),\n",
    "        tf.keras.layers.Bidirectional(tf.keras.layers.LSTM(32)),\n",
    "        tf.keras.layers.Dense(1),\n",
    "        tf.keras.layers.Lambda(lambda x: x * 100.0)\n",
    "    ]) \n",
    "    \n",
    "    ### END CODE HERE ###\n",
    "    \n",
    "    return model"
   ]
  },
  {
   "cell_type": "markdown",
   "metadata": {},
   "source": [
    "The next cell allows you to check the number of total and trainable parameters of your model and prompts a warning in case these exceeds those of a reference solution, this serves the following 3 purposes listed in order of priority:\n",
    "\n",
    "- Helps you prevent crashing the kernel during training.\n",
    "\n",
    "- Helps you avoid longer-than-necessary training times.\n",
    "\n",
    "- Provides a reasonable estimate of the size of your model. In general you will usually prefer smaller models given that they accomplish their goal successfully.\n",
    "\n",
    "**Notice that this is just informative** and may be very well below the actual limit for size of the model necessary to crash the kernel. So even if you exceed this reference you are probably fine. However, **if the kernel crashes during training or it is taking a very long time and your model is larger than the reference, come back here and try to get the number of parameters closer to the reference.**\n"
   ]
  },
  {
   "cell_type": "code",
   "execution_count": 11,
   "metadata": {},
   "outputs": [],
   "source": [
    "# Define your uncompiled model\n",
    "uncompiled_model = create_uncompiled_model()"
   ]
  },
  {
   "cell_type": "code",
   "execution_count": 12,
   "metadata": {
    "deletable": false,
    "editable": false
   },
   "outputs": [
    {
     "name": "stdout",
     "output_type": "stream",
     "text": [
      "Your current architecture is compatible with the windowed dataset! :)\n",
      "predictions have shape: (32, 1)\n"
     ]
    }
   ],
   "source": [
    "example_batch = dataset.take(1)\n",
    "\n",
    "try:\n",
    "\tpredictions = uncompiled_model.predict(example_batch, verbose=False)\n",
    "except:\n",
    "\tprint(\"Your model is not compatible with the dataset you defined earlier. Check that the loss function and last layer are compatible with one another.\")\n",
    "else:\n",
    "\tprint(\"Your current architecture is compatible with the windowed dataset! :)\")\n",
    "\tprint(f\"predictions have shape: {predictions.shape}\")"
   ]
  },
  {
   "cell_type": "markdown",
   "metadata": {},
   "source": [
    "**Expected output:**\n",
    "\n",
    "```\n",
    "Your current architecture is compatible with the windowed dataset! :)\n",
    "predictions have shape: (NUM_BATCHES, 1)\n",
    "```\n",
    "Where `NUM_BATCHES` is the number of batches you have set to your dataset."
   ]
  },
  {
   "cell_type": "markdown",
   "metadata": {},
   "source": [
    "As a last check, you can also print a summary of your model to see what the architecture looks like. This can be useful to get a sense of how big your model is."
   ]
  },
  {
   "cell_type": "code",
   "execution_count": 13,
   "metadata": {
    "deletable": false,
    "editable": false,
    "tags": []
   },
   "outputs": [
    {
     "name": "stdout",
     "output_type": "stream",
     "text": [
      "Model: \"sequential\"\n",
      "_________________________________________________________________\n",
      " Layer (type)                Output Shape              Param #   \n",
      "=================================================================\n",
      " bidirectional (Bidirectiona  (None, 20, 64)           8704      \n",
      " l)                                                              \n",
      "                                                                 \n",
      " bidirectional_1 (Bidirectio  (None, 64)               24832     \n",
      " nal)                                                            \n",
      "                                                                 \n",
      " dense (Dense)               (None, 1)                 65        \n",
      "                                                                 \n",
      " lambda (Lambda)             (None, 1)                 0         \n",
      "                                                                 \n",
      "=================================================================\n",
      "Total params: 33,601\n",
      "Trainable params: 33,601\n",
      "Non-trainable params: 0\n",
      "_________________________________________________________________\n"
     ]
    }
   ],
   "source": [
    "uncompiled_model.summary()"
   ]
  },
  {
   "cell_type": "markdown",
   "metadata": {},
   "source": [
    "## Adjusting the learning rate - (Optional Exercise)\n",
    "\n",
    "As you saw in the lectures you can leverage Tensorflow's callbacks to dinamically vary the learning rate during training. This can be helpful to get a better sense of which learning rate better acommodates to the problem at hand.\n",
    "\n",
    "**Notice that this is only changing the learning rate during the training process to give you an idea of what a reasonable learning rate is and should not be confused with selecting the best learning rate, this is known as hyperparameter optimization and it is outside the scope of this course.**\n",
    "\n",
    "For the optimizers you can try out:\n",
    "- [`tf.keras.optimizers.Adam`](https://www.tensorflow.org/api_docs/python/tf/keras/optimizers/Adam)\n",
    "- [`tf.keras.optimizers.SGD`](https://www.tensorflow.org/api_docs/python/tf/keras/optimizers/SGD) with a momentum of 0.9"
   ]
  },
  {
   "cell_type": "code",
   "execution_count": 14,
   "metadata": {
    "deletable": false,
    "tags": []
   },
   "outputs": [],
   "source": [
    "def adjust_learning_rate(model):\n",
    "    \"\"\"Fit model using different learning rates\n",
    "\n",
    "    Args:\n",
    "        model (tf.keras.Model): uncompiled model\n",
    "\n",
    "    Returns:\n",
    "        tf.keras.callbacks.History: callback history\n",
    "    \"\"\"\n",
    "    \n",
    "    lr_schedule = tf.keras.callbacks.LearningRateScheduler(lambda epoch: 1e-6 * 10**(epoch / 20))\n",
    "    \n",
    "    ### START CODE HERE ###\n",
    "    \n",
    "    # Select your optimizer\n",
    "    optimizer = tf.keras.optimizers.SGD(momentum=0.9)\n",
    "\n",
    "    # Compile the model passing in the appropriate loss\n",
    "    model.compile(loss=tf.keras.losses.Huber(),\n",
    "                  optimizer=optimizer, \n",
    "                  metrics=[\"mae\"]) \n",
    "    \n",
    "    ### END CODE HERE ###\n",
    "    \n",
    "    history = model.fit(dataset, epochs=100, callbacks=[lr_schedule])\n",
    "    \n",
    "    return history"
   ]
  },
  {
   "cell_type": "code",
   "execution_count": 15,
   "metadata": {
    "deletable": false,
    "editable": false,
    "scrolled": true,
    "tags": []
   },
   "outputs": [
    {
     "name": "stdout",
     "output_type": "stream",
     "text": [
      "Epoch 1/100\n",
      "34/34 [==============================] - 4s 22ms/step - loss: 12.2963 - mae: 12.7855 - lr: 1.0000e-06\n",
      "Epoch 2/100\n",
      "34/34 [==============================] - 1s 17ms/step - loss: 6.0121 - mae: 6.4806 - lr: 1.1220e-06\n",
      "Epoch 3/100\n",
      "34/34 [==============================] - 1s 19ms/step - loss: 5.3583 - mae: 5.8242 - lr: 1.2589e-06\n",
      "Epoch 4/100\n",
      "34/34 [==============================] - 1s 20ms/step - loss: 5.1269 - mae: 5.5900 - lr: 1.4125e-06\n",
      "Epoch 5/100\n",
      "34/34 [==============================] - 1s 14ms/step - loss: 4.9511 - mae: 5.4119 - lr: 1.5849e-06\n",
      "Epoch 6/100\n",
      "34/34 [==============================] - 1s 17ms/step - loss: 4.6879 - mae: 5.1469 - lr: 1.7783e-06\n",
      "Epoch 7/100\n",
      "34/34 [==============================] - 1s 17ms/step - loss: 4.5076 - mae: 4.9697 - lr: 1.9953e-06\n",
      "Epoch 8/100\n",
      "34/34 [==============================] - 1s 14ms/step - loss: 4.3415 - mae: 4.8040 - lr: 2.2387e-06\n",
      "Epoch 9/100\n",
      "34/34 [==============================] - 1s 15ms/step - loss: 4.1180 - mae: 4.5809 - lr: 2.5119e-06\n",
      "Epoch 10/100\n",
      "34/34 [==============================] - 1s 19ms/step - loss: 4.0409 - mae: 4.5018 - lr: 2.8184e-06\n",
      "Epoch 11/100\n",
      "34/34 [==============================] - 1s 18ms/step - loss: 3.8227 - mae: 4.2842 - lr: 3.1623e-06\n",
      "Epoch 12/100\n",
      "34/34 [==============================] - 1s 18ms/step - loss: 3.6967 - mae: 4.1591 - lr: 3.5481e-06\n",
      "Epoch 13/100\n",
      "34/34 [==============================] - 1s 16ms/step - loss: 3.5778 - mae: 4.0344 - lr: 3.9811e-06\n",
      "Epoch 14/100\n",
      "34/34 [==============================] - 1s 18ms/step - loss: 3.5736 - mae: 4.0385 - lr: 4.4668e-06\n",
      "Epoch 15/100\n",
      "34/34 [==============================] - 1s 18ms/step - loss: 3.3900 - mae: 3.8503 - lr: 5.0119e-06\n",
      "Epoch 16/100\n",
      "34/34 [==============================] - 1s 20ms/step - loss: 3.4355 - mae: 3.8996 - lr: 5.6234e-06\n",
      "Epoch 17/100\n",
      "34/34 [==============================] - 1s 19ms/step - loss: 3.2925 - mae: 3.7503 - lr: 6.3096e-06\n",
      "Epoch 18/100\n",
      "34/34 [==============================] - 1s 17ms/step - loss: 3.1425 - mae: 3.6015 - lr: 7.0795e-06\n",
      "Epoch 19/100\n",
      "34/34 [==============================] - 1s 15ms/step - loss: 3.1813 - mae: 3.6466 - lr: 7.9433e-06\n",
      "Epoch 20/100\n",
      "34/34 [==============================] - 1s 19ms/step - loss: 3.2392 - mae: 3.6995 - lr: 8.9125e-06\n",
      "Epoch 21/100\n",
      "34/34 [==============================] - 1s 14ms/step - loss: 3.1572 - mae: 3.6242 - lr: 1.0000e-05\n",
      "Epoch 22/100\n",
      "34/34 [==============================] - 1s 18ms/step - loss: 3.3059 - mae: 3.7754 - lr: 1.1220e-05\n",
      "Epoch 23/100\n",
      "34/34 [==============================] - 1s 19ms/step - loss: 3.0721 - mae: 3.5306 - lr: 1.2589e-05\n",
      "Epoch 24/100\n",
      "34/34 [==============================] - 1s 20ms/step - loss: 3.4577 - mae: 3.9332 - lr: 1.4125e-05\n",
      "Epoch 25/100\n",
      "34/34 [==============================] - 1s 22ms/step - loss: 3.0482 - mae: 3.5109 - lr: 1.5849e-05\n",
      "Epoch 26/100\n",
      "34/34 [==============================] - 1s 15ms/step - loss: 2.9882 - mae: 3.4498 - lr: 1.7783e-05\n",
      "Epoch 27/100\n",
      "34/34 [==============================] - 1s 15ms/step - loss: 3.5289 - mae: 3.9963 - lr: 1.9953e-05\n",
      "Epoch 28/100\n",
      "34/34 [==============================] - 1s 15ms/step - loss: 3.2757 - mae: 3.7430 - lr: 2.2387e-05\n",
      "Epoch 29/100\n",
      "34/34 [==============================] - 1s 15ms/step - loss: 3.9062 - mae: 4.3801 - lr: 2.5119e-05\n",
      "Epoch 30/100\n",
      "34/34 [==============================] - 1s 16ms/step - loss: 3.2426 - mae: 3.7077 - lr: 2.8184e-05\n",
      "Epoch 31/100\n",
      "34/34 [==============================] - 1s 17ms/step - loss: 4.2367 - mae: 4.7161 - lr: 3.1623e-05\n",
      "Epoch 32/100\n",
      "34/34 [==============================] - 1s 20ms/step - loss: 3.9566 - mae: 4.4298 - lr: 3.5481e-05\n",
      "Epoch 33/100\n",
      "34/34 [==============================] - 1s 17ms/step - loss: 3.7674 - mae: 4.2417 - lr: 3.9811e-05\n",
      "Epoch 34/100\n",
      "34/34 [==============================] - 1s 15ms/step - loss: 3.4669 - mae: 3.9356 - lr: 4.4668e-05\n",
      "Epoch 35/100\n",
      "34/34 [==============================] - 1s 16ms/step - loss: 3.5342 - mae: 4.0093 - lr: 5.0119e-05\n",
      "Epoch 36/100\n",
      "34/34 [==============================] - 1s 18ms/step - loss: 3.7145 - mae: 4.1839 - lr: 5.6234e-05\n",
      "Epoch 37/100\n",
      "34/34 [==============================] - 1s 19ms/step - loss: 3.1736 - mae: 3.6409 - lr: 6.3096e-05\n",
      "Epoch 38/100\n",
      "34/34 [==============================] - 1s 16ms/step - loss: 4.1530 - mae: 4.6281 - lr: 7.0795e-05\n",
      "Epoch 39/100\n",
      "34/34 [==============================] - 1s 14ms/step - loss: 5.4804 - mae: 5.9666 - lr: 7.9433e-05\n",
      "Epoch 40/100\n",
      "34/34 [==============================] - 1s 18ms/step - loss: 5.5301 - mae: 6.0147 - lr: 8.9125e-05\n",
      "Epoch 41/100\n",
      "34/34 [==============================] - 1s 19ms/step - loss: 4.3772 - mae: 4.8550 - lr: 1.0000e-04\n",
      "Epoch 42/100\n",
      "34/34 [==============================] - 1s 14ms/step - loss: 3.3012 - mae: 3.7730 - lr: 1.1220e-04\n",
      "Epoch 43/100\n",
      "34/34 [==============================] - 1s 19ms/step - loss: 4.9602 - mae: 5.4431 - lr: 1.2589e-04\n",
      "Epoch 44/100\n",
      "34/34 [==============================] - 1s 18ms/step - loss: 7.4446 - mae: 7.9302 - lr: 1.4125e-04\n",
      "Epoch 45/100\n",
      "34/34 [==============================] - 1s 19ms/step - loss: 4.0159 - mae: 4.4881 - lr: 1.5849e-04\n",
      "Epoch 46/100\n",
      "34/34 [==============================] - 1s 14ms/step - loss: 3.0194 - mae: 3.4837 - lr: 1.7783e-04\n",
      "Epoch 47/100\n",
      "34/34 [==============================] - 1s 14ms/step - loss: 4.2476 - mae: 4.7183 - lr: 1.9953e-04\n",
      "Epoch 48/100\n",
      "34/34 [==============================] - 1s 14ms/step - loss: 6.5728 - mae: 7.0541 - lr: 2.2387e-04\n",
      "Epoch 49/100\n",
      "34/34 [==============================] - 1s 15ms/step - loss: 5.8773 - mae: 6.3612 - lr: 2.5119e-04\n",
      "Epoch 50/100\n",
      "34/34 [==============================] - 1s 14ms/step - loss: 3.4609 - mae: 3.9320 - lr: 2.8184e-04\n",
      "Epoch 51/100\n",
      "34/34 [==============================] - 1s 18ms/step - loss: 4.3282 - mae: 4.8005 - lr: 3.1623e-04\n",
      "Epoch 52/100\n",
      "34/34 [==============================] - 1s 14ms/step - loss: 4.1530 - mae: 4.6259 - lr: 3.5481e-04\n",
      "Epoch 53/100\n",
      "34/34 [==============================] - 1s 16ms/step - loss: 4.3446 - mae: 4.8246 - lr: 3.9811e-04\n",
      "Epoch 54/100\n",
      "34/34 [==============================] - 1s 18ms/step - loss: 4.0521 - mae: 4.5289 - lr: 4.4668e-04\n",
      "Epoch 55/100\n",
      "34/34 [==============================] - 1s 18ms/step - loss: 4.0912 - mae: 4.5665 - lr: 5.0119e-04\n",
      "Epoch 56/100\n",
      "34/34 [==============================] - 1s 17ms/step - loss: 4.1027 - mae: 4.5773 - lr: 5.6234e-04\n",
      "Epoch 57/100\n",
      "34/34 [==============================] - 1s 18ms/step - loss: 4.4091 - mae: 4.8895 - lr: 6.3096e-04\n",
      "Epoch 58/100\n",
      "34/34 [==============================] - 1s 15ms/step - loss: 4.5083 - mae: 4.9851 - lr: 7.0795e-04\n",
      "Epoch 59/100\n",
      "34/34 [==============================] - 1s 14ms/step - loss: 5.3475 - mae: 5.8283 - lr: 7.9433e-04\n",
      "Epoch 60/100\n",
      "34/34 [==============================] - 1s 17ms/step - loss: 8.1202 - mae: 8.6050 - lr: 8.9125e-04\n",
      "Epoch 61/100\n",
      "34/34 [==============================] - 1s 19ms/step - loss: 8.4882 - mae: 8.9800 - lr: 0.0010\n",
      "Epoch 62/100\n",
      "34/34 [==============================] - 1s 17ms/step - loss: 8.0454 - mae: 8.5316 - lr: 0.0011\n",
      "Epoch 63/100\n",
      "34/34 [==============================] - 1s 14ms/step - loss: 8.0792 - mae: 8.5686 - lr: 0.0013\n",
      "Epoch 64/100\n",
      "34/34 [==============================] - 1s 18ms/step - loss: 6.2891 - mae: 6.7716 - lr: 0.0014\n",
      "Epoch 65/100\n",
      "34/34 [==============================] - 1s 18ms/step - loss: 8.1483 - mae: 8.6336 - lr: 0.0016\n",
      "Epoch 66/100\n",
      "34/34 [==============================] - 1s 18ms/step - loss: 6.6009 - mae: 7.0890 - lr: 0.0018\n",
      "Epoch 67/100\n",
      "34/34 [==============================] - 1s 18ms/step - loss: 11.1785 - mae: 11.6712 - lr: 0.0020\n",
      "Epoch 68/100\n",
      "34/34 [==============================] - 1s 18ms/step - loss: 10.3091 - mae: 10.7996 - lr: 0.0022\n",
      "Epoch 69/100\n",
      "34/34 [==============================] - 1s 15ms/step - loss: 13.0488 - mae: 13.5467 - lr: 0.0025\n",
      "Epoch 70/100\n",
      "34/34 [==============================] - 1s 16ms/step - loss: 35.6404 - mae: 36.1376 - lr: 0.0028\n",
      "Epoch 71/100\n",
      "34/34 [==============================] - 1s 18ms/step - loss: 34.2342 - mae: 34.7338 - lr: 0.0032\n",
      "Epoch 72/100\n",
      "34/34 [==============================] - 1s 18ms/step - loss: 24.8906 - mae: 25.3878 - lr: 0.0035\n",
      "Epoch 73/100\n",
      "34/34 [==============================] - 1s 14ms/step - loss: 55.7597 - mae: 56.2584 - lr: 0.0040\n",
      "Epoch 74/100\n",
      "34/34 [==============================] - 1s 18ms/step - loss: 50.9145 - mae: 51.4114 - lr: 0.0045\n",
      "Epoch 75/100\n",
      "34/34 [==============================] - 1s 16ms/step - loss: 63.9348 - mae: 64.4337 - lr: 0.0050\n",
      "Epoch 76/100\n",
      "34/34 [==============================] - 1s 14ms/step - loss: 127.3329 - mae: 127.8329 - lr: 0.0056\n",
      "Epoch 77/100\n",
      "34/34 [==============================] - 1s 18ms/step - loss: 144.3805 - mae: 144.8800 - lr: 0.0063\n",
      "Epoch 78/100\n",
      "34/34 [==============================] - 1s 18ms/step - loss: 41.7771 - mae: 42.2744 - lr: 0.0071\n",
      "Epoch 79/100\n",
      "34/34 [==============================] - 1s 19ms/step - loss: 45.6614 - mae: 46.1581 - lr: 0.0079\n",
      "Epoch 80/100\n",
      "34/34 [==============================] - 1s 18ms/step - loss: 82.0438 - mae: 82.5429 - lr: 0.0089\n",
      "Epoch 81/100\n",
      "34/34 [==============================] - 1s 19ms/step - loss: 148.6854 - mae: 149.1848 - lr: 0.0100\n",
      "Epoch 82/100\n",
      "34/34 [==============================] - 1s 17ms/step - loss: 162.8057 - mae: 163.3052 - lr: 0.0112\n",
      "Epoch 83/100\n",
      "34/34 [==============================] - 1s 17ms/step - loss: 154.6518 - mae: 155.1512 - lr: 0.0126\n",
      "Epoch 84/100\n",
      "34/34 [==============================] - 1s 14ms/step - loss: 146.6833 - mae: 147.1818 - lr: 0.0141\n",
      "Epoch 85/100\n",
      "34/34 [==============================] - 1s 19ms/step - loss: 225.2717 - mae: 225.7714 - lr: 0.0158\n",
      "Epoch 86/100\n",
      "34/34 [==============================] - 1s 16ms/step - loss: 284.4557 - mae: 284.9557 - lr: 0.0178\n",
      "Epoch 87/100\n",
      "34/34 [==============================] - 1s 14ms/step - loss: 307.7989 - mae: 308.2989 - lr: 0.0200\n",
      "Epoch 88/100\n",
      "34/34 [==============================] - 1s 18ms/step - loss: 244.2724 - mae: 244.7713 - lr: 0.0224\n",
      "Epoch 89/100\n",
      "34/34 [==============================] - 1s 18ms/step - loss: 241.6707 - mae: 242.1707 - lr: 0.0251\n",
      "Epoch 90/100\n",
      "34/34 [==============================] - 1s 19ms/step - loss: 331.3760 - mae: 331.8752 - lr: 0.0282\n",
      "Epoch 91/100\n",
      "34/34 [==============================] - 1s 18ms/step - loss: 272.0429 - mae: 272.5427 - lr: 0.0316\n",
      "Epoch 92/100\n",
      "34/34 [==============================] - 1s 20ms/step - loss: 263.5397 - mae: 264.0397 - lr: 0.0355\n",
      "Epoch 93/100\n",
      "34/34 [==============================] - 1s 19ms/step - loss: 286.9807 - mae: 287.4807 - lr: 0.0398\n",
      "Epoch 94/100\n",
      "34/34 [==============================] - 1s 19ms/step - loss: 508.7138 - mae: 509.2129 - lr: 0.0447\n",
      "Epoch 95/100\n",
      "34/34 [==============================] - 1s 20ms/step - loss: 598.4972 - mae: 598.9972 - lr: 0.0501\n",
      "Epoch 96/100\n",
      "34/34 [==============================] - 1s 16ms/step - loss: 426.4725 - mae: 426.9725 - lr: 0.0562\n",
      "Epoch 97/100\n",
      "34/34 [==============================] - 1s 14ms/step - loss: 741.0964 - mae: 741.5961 - lr: 0.0631\n",
      "Epoch 98/100\n",
      "34/34 [==============================] - 1s 15ms/step - loss: 1076.3314 - mae: 1076.8314 - lr: 0.0708\n",
      "Epoch 99/100\n",
      "34/34 [==============================] - 1s 19ms/step - loss: 503.7175 - mae: 504.2173 - lr: 0.0794\n",
      "Epoch 100/100\n",
      "34/34 [==============================] - 1s 18ms/step - loss: 824.4813 - mae: 824.9808 - lr: 0.0891\n"
     ]
    }
   ],
   "source": [
    "# Run the training with dynamic LR\n",
    "lr_history = adjust_learning_rate(uncompiled_model)"
   ]
  },
  {
   "cell_type": "markdown",
   "metadata": {},
   "source": [
    "Plot the achieved loss for each learning rate value, this way you can select an appropriate learning rate for your training."
   ]
  },
  {
   "cell_type": "code",
   "execution_count": 19,
   "metadata": {},
   "outputs": [
    {
     "data": {
      "text/plain": [
       "(1e-06, 1.0, 0.0, 30.0)"
      ]
     },
     "execution_count": 19,
     "metadata": {},
     "output_type": "execute_result"
    },
    {
     "data": {
      "image/png": "[encoded data removed]",
      "text/plain": [
       "<Figure size 640x480 with 1 Axes>"
      ]
     },
     "metadata": {},
     "output_type": "display_data"
    }
   ],
   "source": [
    "lrs = 1e-6 * (10 ** (np.arange(100) / 20))\n",
    "plt.semilogx(lrs, lr_history.history[\"loss\"])\n",
    "plt.axis([1e-6, 1, 0, 30])"
   ]
  },
  {
   "cell_type": "markdown",
   "metadata": {},
   "source": [
    "Based on this plot, which learning rate would you choose? You will get to use it on the next exercise."
   ]
  },
  {
   "cell_type": "markdown",
   "metadata": {},
   "source": [
    "## Compiling the model\n",
    "\n",
    "### Exercise 2: create_model\n",
    "\n",
    "Now it is time to do the actual training that will be used to forecast the time series. For this complete the `create_model` function below.\n",
    "\n",
    "Notice that you are reusing the architecture you defined in the `create_uncompiled_model` earlier. Now you only need to compile this model using the appropriate loss, optimizer (and learning rate). If you completed the previous optional exercise, you should have a pretty good idea of which combinations might work better. \n",
    "\n",
    "Hint:\n",
    "- The training should be really quick so if you notice that each epoch is taking more than a few seconds, consider trying a different architecture.\n",
    "\n",
    "- If after the first epoch you get an output like this: `loss: nan - mae: nan` it is very likely that your network is suffering from exploding gradients. This is a common problem if you used `SGD` as optimizer and set a learning rate that is too high. **If you encounter this problem consider lowering the learning rate or using Adam with the default learning rate.**"
   ]
  },
  {
   "cell_type": "code",
   "execution_count": 20,
   "metadata": {
    "deletable": false,
    "tags": [
     "graded"
    ]
   },
   "outputs": [],
   "source": [
    "# GRADED FUNCTION: create_model\n",
    "def create_model():\n",
    "    \"\"\"Creates and compiles the model\n",
    "\n",
    "    Returns:\n",
    "        tf.keras.Model: compiled model\n",
    "    \"\"\"\n",
    "    model = create_uncompiled_model()\n",
    "\n",
    "    ### START CODE HERE ###\n",
    "    learning_rate = 10e-6\n",
    "\n",
    "    model.compile(loss=tf.keras.losses.MeanSquaredError(),\n",
    "                  optimizer=tf.keras.optimizers.SGD(learning_rate=learning_rate, momentum=0.9),\n",
    "                  metrics=[\"mae\"])   \n",
    "    \n",
    "    ### END CODE HERE ###\n",
    "\n",
    "    return model"
   ]
  },
  {
   "cell_type": "code",
   "execution_count": 21,
   "metadata": {
    "deletable": false,
    "editable": false,
    "tags": []
   },
   "outputs": [],
   "source": [
    "# Create an instance of the model\n",
    "model = create_model()"
   ]
  },
  {
   "cell_type": "markdown",
   "metadata": {},
   "source": [
    "Now go ahead and train your model:"
   ]
  },
  {
   "cell_type": "code",
   "execution_count": 22,
   "metadata": {
    "deletable": false,
    "editable": false,
    "scrolled": true,
    "tags": []
   },
   "outputs": [
    {
     "name": "stdout",
     "output_type": "stream",
     "text": [
      "Epoch 1/50\n",
      "34/34 [==============================] - 4s 18ms/step - loss: 2939.7061 - mae: 38.4047\n",
      "Epoch 2/50\n",
      "34/34 [==============================] - 1s 14ms/step - loss: 157.5963 - mae: 8.9279\n",
      "Epoch 3/50\n",
      "34/34 [==============================] - 1s 19ms/step - loss: 89.7013 - mae: 6.0506\n",
      "Epoch 4/50\n",
      "34/34 [==============================] - 1s 18ms/step - loss: 64.2935 - mae: 4.9115\n",
      "Epoch 5/50\n",
      "34/34 [==============================] - 1s 16ms/step - loss: 47.7887 - mae: 4.2951\n",
      "Epoch 6/50\n",
      "34/34 [==============================] - 1s 18ms/step - loss: 50.9111 - mae: 4.8590\n",
      "Epoch 7/50\n",
      "34/34 [==============================] - 1s 15ms/step - loss: 41.4564 - mae: 4.2865\n",
      "Epoch 8/50\n",
      "34/34 [==============================] - 1s 15ms/step - loss: 34.0157 - mae: 3.7152\n",
      "Epoch 9/50\n",
      "34/34 [==============================] - 1s 17ms/step - loss: 37.0771 - mae: 4.1099\n",
      "Epoch 10/50\n",
      "34/34 [==============================] - 1s 17ms/step - loss: 30.5441 - mae: 3.5456\n",
      "Epoch 11/50\n",
      "34/34 [==============================] - 1s 18ms/step - loss: 27.2534 - mae: 3.2905\n",
      "Epoch 12/50\n",
      "34/34 [==============================] - 1s 14ms/step - loss: 27.9032 - mae: 3.4503\n",
      "Epoch 13/50\n",
      "34/34 [==============================] - 1s 16ms/step - loss: 30.1375 - mae: 3.5602\n",
      "Epoch 14/50\n",
      "34/34 [==============================] - 1s 16ms/step - loss: 26.3849 - mae: 3.3098\n",
      "Epoch 15/50\n",
      "34/34 [==============================] - 1s 13ms/step - loss: 29.3755 - mae: 3.5895\n",
      "Epoch 16/50\n",
      "34/34 [==============================] - 1s 15ms/step - loss: 27.6956 - mae: 3.4375\n",
      "Epoch 17/50\n",
      "34/34 [==============================] - 1s 17ms/step - loss: 31.0365 - mae: 3.8120\n",
      "Epoch 18/50\n",
      "34/34 [==============================] - 1s 17ms/step - loss: 28.1898 - mae: 3.5665\n",
      "Epoch 19/50\n",
      "34/34 [==============================] - 1s 17ms/step - loss: 26.3481 - mae: 3.3486\n",
      "Epoch 20/50\n",
      "34/34 [==============================] - 1s 14ms/step - loss: 28.5450 - mae: 3.5848\n",
      "Epoch 21/50\n",
      "34/34 [==============================] - 1s 18ms/step - loss: 26.3181 - mae: 3.4106\n",
      "Epoch 22/50\n",
      "34/34 [==============================] - 1s 17ms/step - loss: 28.5680 - mae: 3.5916\n",
      "Epoch 23/50\n",
      "34/34 [==============================] - 1s 19ms/step - loss: 32.8098 - mae: 3.9378\n",
      "Epoch 24/50\n",
      "34/34 [==============================] - 1s 17ms/step - loss: 27.9378 - mae: 3.5548\n",
      "Epoch 25/50\n",
      "34/34 [==============================] - 1s 17ms/step - loss: 25.1097 - mae: 3.2360\n",
      "Epoch 26/50\n",
      "34/34 [==============================] - 1s 16ms/step - loss: 28.0814 - mae: 3.5722\n",
      "Epoch 27/50\n",
      "34/34 [==============================] - 1s 14ms/step - loss: 26.4706 - mae: 3.3988\n",
      "Epoch 28/50\n",
      "34/34 [==============================] - 1s 18ms/step - loss: 26.4115 - mae: 3.3865\n",
      "Epoch 29/50\n",
      "34/34 [==============================] - 1s 19ms/step - loss: 28.7317 - mae: 3.6129\n",
      "Epoch 30/50\n",
      "34/34 [==============================] - 1s 15ms/step - loss: 27.7139 - mae: 3.5049\n",
      "Epoch 31/50\n",
      "34/34 [==============================] - 1s 15ms/step - loss: 24.7245 - mae: 3.1893\n",
      "Epoch 32/50\n",
      "34/34 [==============================] - 1s 17ms/step - loss: 24.8556 - mae: 3.2128\n",
      "Epoch 33/50\n",
      "34/34 [==============================] - 1s 15ms/step - loss: 25.0355 - mae: 3.2210\n",
      "Epoch 34/50\n",
      "34/34 [==============================] - 1s 15ms/step - loss: 26.5140 - mae: 3.4161\n",
      "Epoch 35/50\n",
      "34/34 [==============================] - 1s 17ms/step - loss: 25.6415 - mae: 3.3821\n",
      "Epoch 36/50\n",
      "34/34 [==============================] - 1s 17ms/step - loss: 23.8510 - mae: 3.1795\n",
      "Epoch 37/50\n",
      "34/34 [==============================] - 1s 18ms/step - loss: 24.0537 - mae: 3.1885\n",
      "Epoch 38/50\n",
      "34/34 [==============================] - 1s 17ms/step - loss: 27.8175 - mae: 3.5616\n",
      "Epoch 39/50\n",
      "34/34 [==============================] - 1s 14ms/step - loss: 27.5440 - mae: 3.5266\n",
      "Epoch 40/50\n",
      "34/34 [==============================] - 1s 15ms/step - loss: 26.6613 - mae: 3.4457\n",
      "Epoch 41/50\n",
      "34/34 [==============================] - 1s 17ms/step - loss: 22.9401 - mae: 3.0713\n",
      "Epoch 42/50\n",
      "34/34 [==============================] - 1s 17ms/step - loss: 24.8537 - mae: 3.2446\n",
      "Epoch 43/50\n",
      "34/34 [==============================] - 1s 14ms/step - loss: 24.4623 - mae: 3.2166\n",
      "Epoch 44/50\n",
      "34/34 [==============================] - 1s 16ms/step - loss: 23.3464 - mae: 3.0679\n",
      "Epoch 45/50\n",
      "34/34 [==============================] - 1s 17ms/step - loss: 23.9266 - mae: 3.1954\n",
      "Epoch 46/50\n",
      "34/34 [==============================] - 1s 14ms/step - loss: 25.7689 - mae: 3.3368\n",
      "Epoch 47/50\n",
      "34/34 [==============================] - 1s 16ms/step - loss: 25.6038 - mae: 3.3309\n",
      "Epoch 48/50\n",
      "34/34 [==============================] - 1s 17ms/step - loss: 23.4508 - mae: 3.1469\n",
      "Epoch 49/50\n",
      "34/34 [==============================] - 1s 14ms/step - loss: 23.6131 - mae: 3.1422\n",
      "Epoch 50/50\n",
      "34/34 [==============================] - 1s 15ms/step - loss: 23.5150 - mae: 3.1846\n"
     ]
    }
   ],
   "source": [
    "# Train it\n",
    "history = model.fit(dataset, epochs=50)"
   ]
  },
  {
   "cell_type": "markdown",
   "metadata": {},
   "source": [
    "Now go ahead and plot the training loss so you can monitor the learning process."
   ]
  },
  {
   "cell_type": "code",
   "execution_count": 23,
   "metadata": {
    "deletable": false,
    "editable": false,
    "tags": []
   },
   "outputs": [
    {
     "data": {
      "image/png": "[encoded data removed]",
      "text/plain": [
       "<Figure size 640x480 with 1 Axes>"
      ]
     },
     "metadata": {},
     "output_type": "display_data"
    }
   ],
   "source": [
    "# Plot the training loss for each epoch\n",
    "\n",
    "loss = history.history['loss']\n",
    "\n",
    "epochs = range(len(loss))\n",
    "\n",
    "plt.plot(epochs, loss, 'r', label='Training loss')\n",
    "plt.title('Training loss')\n",
    "plt.legend(loc=0)\n",
    "plt.show()"
   ]
  },
  {
   "cell_type": "markdown",
   "metadata": {},
   "source": [
    "## Evaluating the forecast\n",
    "\n",
    "Now it is time to evaluate the performance of the forecast. For this you can use the `compute_metrics` function that you coded in a previous assignment:"
   ]
  },
  {
   "cell_type": "code",
   "execution_count": 24,
   "metadata": {
    "deletable": false,
    "editable": false,
    "tags": [
     "graded"
    ]
   },
   "outputs": [],
   "source": [
    "def compute_metrics(true_series, forecast):\n",
    "    \"\"\"Computes MSE and MAE metrics for the forecast\"\"\"\n",
    "    mse = tf.keras.losses.MSE(true_series, forecast)\n",
    "    mae = tf.keras.losses.MAE(true_series, forecast)\n",
    "    return mse, mae"
   ]
  },
  {
   "cell_type": "markdown",
   "metadata": {},
   "source": [
    "At this point you have trained the model that will perform the forecast, but you still need to compute the actual forecast. For this, you will use the `generate_forecast` function. This function, which is the same you used on previous assignments, generates the next value given a set of the previous `window_size` points for every point in the validation set. "
   ]
  },
  {
   "cell_type": "code",
   "execution_count": 25,
   "metadata": {
    "colab": {
     "base_uri": "https://localhost:8080/",
     "height": 388
    },
    "deletable": false,
    "editable": false,
    "id": "icGDaND7z0ne",
    "outputId": "278c6772-ccda-4a4b-9940-bbd9a69bfae6",
    "tags": [
     "graded"
    ]
   },
   "outputs": [],
   "source": [
    "def generate_forecast(model, series, window_size):\n",
    "    \"\"\"Generates a forecast using your trained model\"\"\"\n",
    "    forecast = []\n",
    "    for time in range(SPLIT_TIME, len(series)):\n",
    "        pred = model.predict(series[time-window_size:time][np.newaxis])\n",
    "        forecast.append(pred[0][0])\n",
    "    return forecast"
   ]
  },
  {
   "cell_type": "markdown",
   "metadata": {},
   "source": [
    "Now, run the cells below to generate and plot the forecast series:"
   ]
  },
  {
   "cell_type": "code",
   "execution_count": 26,
   "metadata": {
    "colab": {
     "base_uri": "https://localhost:8080/",
     "height": 388
    },
    "deletable": false,
    "editable": false,
    "id": "icGDaND7z0ne",
    "outputId": "278c6772-ccda-4a4b-9940-bbd9a69bfae6",
    "scrolled": true,
    "tags": []
   },
   "outputs": [
    {
     "name": "stdout",
     "output_type": "stream",
     "text": [
      "1/1 [==============================] - 1s 1s/step\n",
      "1/1 [==============================] - 0s 18ms/step\n",
      "1/1 [==============================] - 0s 16ms/step\n",
      "1/1 [==============================] - 0s 16ms/step\n",
      "1/1 [==============================] - 0s 17ms/step\n",
      "1/1 [==============================] - 0s 15ms/step\n",
      "1/1 [==============================] - 0s 25ms/step\n",
      "1/1 [==============================] - 0s 18ms/step\n",
      "1/1 [==============================] - 0s 21ms/step\n",
      "1/1 [==============================] - 0s 27ms/step\n",
      "1/1 [==============================] - 0s 25ms/step\n",
      "1/1 [==============================] - 0s 25ms/step\n",
      "1/1 [==============================] - 0s 21ms/step\n",
      "1/1 [==============================] - 0s 17ms/step\n",
      "1/1 [==============================] - 0s 16ms/step\n",
      "1/1 [==============================] - 0s 17ms/step\n",
      "1/1 [==============================] - 0s 26ms/step\n",
      "1/1 [==============================] - 0s 17ms/step\n",
      "1/1 [==============================] - 0s 16ms/step\n",
      "1/1 [==============================] - 0s 27ms/step\n",
      "1/1 [==============================] - 0s 25ms/step\n",
      "1/1 [==============================] - 0s 16ms/step\n",
      "1/1 [==============================] - 0s 25ms/step\n",
      "1/1 [==============================] - 0s 16ms/step\n",
      "1/1 [==============================] - 0s 16ms/step\n",
      "1/1 [==============================] - 0s 17ms/step\n",
      "1/1 [==============================] - 0s 19ms/step\n",
      "1/1 [==============================] - 0s 31ms/step\n",
      "1/1 [==============================] - 0s 24ms/step\n",
      "1/1 [==============================] - 0s 16ms/step\n",
      "1/1 [==============================] - 0s 16ms/step\n",
      "1/1 [==============================] - 0s 15ms/step\n",
      "1/1 [==============================] - 0s 15ms/step\n",
      "1/1 [==============================] - 0s 16ms/step\n",
      "1/1 [==============================] - 0s 15ms/step\n",
      "1/1 [==============================] - 0s 15ms/step\n",
      "1/1 [==============================] - 0s 15ms/step\n",
      "1/1 [==============================] - 0s 18ms/step\n",
      "1/1 [==============================] - 0s 19ms/step\n",
      "1/1 [==============================] - 0s 18ms/step\n",
      "1/1 [==============================] - 0s 16ms/step\n",
      "1/1 [==============================] - 0s 17ms/step\n",
      "1/1 [==============================] - 0s 16ms/step\n",
      "1/1 [==============================] - 0s 16ms/step\n",
      "1/1 [==============================] - 0s 16ms/step\n",
      "1/1 [==============================] - 0s 15ms/step\n",
      "1/1 [==============================] - 0s 15ms/step\n",
      "1/1 [==============================] - 0s 15ms/step\n",
      "1/1 [==============================] - 0s 15ms/step\n",
      "1/1 [==============================] - 0s 16ms/step\n",
      "1/1 [==============================] - 0s 16ms/step\n",
      "1/1 [==============================] - 0s 15ms/step\n",
      "1/1 [==============================] - 0s 17ms/step\n",
      "1/1 [==============================] - 0s 16ms/step\n",
      "1/1 [==============================] - 0s 19ms/step\n",
      "1/1 [==============================] - 0s 16ms/step\n",
      "1/1 [==============================] - 0s 17ms/step\n",
      "1/1 [==============================] - 0s 19ms/step\n",
      "1/1 [==============================] - 0s 17ms/step\n",
      "1/1 [==============================] - 0s 16ms/step\n",
      "1/1 [==============================] - 0s 18ms/step\n",
      "1/1 [==============================] - 0s 15ms/step\n",
      "1/1 [==============================] - 0s 15ms/step\n",
      "1/1 [==============================] - 0s 20ms/step\n",
      "1/1 [==============================] - 0s 15ms/step\n",
      "1/1 [==============================] - 0s 16ms/step\n",
      "1/1 [==============================] - 0s 15ms/step\n",
      "1/1 [==============================] - 0s 15ms/step\n",
      "1/1 [==============================] - 0s 15ms/step\n",
      "1/1 [==============================] - 0s 15ms/step\n",
      "1/1 [==============================] - 0s 20ms/step\n",
      "1/1 [==============================] - 0s 15ms/step\n",
      "1/1 [==============================] - 0s 15ms/step\n",
      "1/1 [==============================] - 0s 19ms/step\n",
      "1/1 [==============================] - 0s 15ms/step\n",
      "1/1 [==============================] - 0s 15ms/step\n",
      "1/1 [==============================] - 0s 16ms/step\n",
      "1/1 [==============================] - 0s 16ms/step\n",
      "1/1 [==============================] - 0s 16ms/step\n",
      "1/1 [==============================] - 0s 15ms/step\n",
      "1/1 [==============================] - 0s 20ms/step\n",
      "1/1 [==============================] - 0s 17ms/step\n",
      "1/1 [==============================] - 0s 20ms/step\n",
      "1/1 [==============================] - 0s 16ms/step\n",
      "1/1 [==============================] - 0s 18ms/step\n",
      "1/1 [==============================] - 0s 16ms/step\n",
      "1/1 [==============================] - 0s 16ms/step\n",
      "1/1 [==============================] - 0s 16ms/step\n",
      "1/1 [==============================] - 0s 15ms/step\n",
      "1/1 [==============================] - 0s 16ms/step\n",
      "1/1 [==============================] - 0s 16ms/step\n",
      "1/1 [==============================] - 0s 15ms/step\n",
      "1/1 [==============================] - 0s 16ms/step\n",
      "1/1 [==============================] - 0s 15ms/step\n",
      "1/1 [==============================] - 0s 15ms/step\n",
      "1/1 [==============================] - 0s 17ms/step\n",
      "1/1 [==============================] - 0s 27ms/step\n",
      "1/1 [==============================] - 0s 15ms/step\n",
      "1/1 [==============================] - 0s 19ms/step\n",
      "1/1 [==============================] - 0s 16ms/step\n",
      "1/1 [==============================] - 0s 16ms/step\n",
      "1/1 [==============================] - 0s 18ms/step\n",
      "1/1 [==============================] - 0s 15ms/step\n",
      "1/1 [==============================] - 0s 16ms/step\n",
      "1/1 [==============================] - 0s 16ms/step\n",
      "1/1 [==============================] - 0s 19ms/step\n",
      "1/1 [==============================] - 0s 16ms/step\n",
      "1/1 [==============================] - 0s 16ms/step\n",
      "1/1 [==============================] - 0s 15ms/step\n",
      "1/1 [==============================] - 0s 16ms/step\n",
      "1/1 [==============================] - 0s 15ms/step\n",
      "1/1 [==============================] - 0s 17ms/step\n",
      "1/1 [==============================] - 0s 15ms/step\n",
      "1/1 [==============================] - 0s 15ms/step\n",
      "1/1 [==============================] - 0s 16ms/step\n",
      "1/1 [==============================] - 0s 16ms/step\n",
      "1/1 [==============================] - 0s 16ms/step\n",
      "1/1 [==============================] - 0s 15ms/step\n",
      "1/1 [==============================] - 0s 16ms/step\n",
      "1/1 [==============================] - 0s 16ms/step\n",
      "1/1 [==============================] - 0s 16ms/step\n",
      "1/1 [==============================] - 0s 15ms/step\n",
      "1/1 [==============================] - 0s 15ms/step\n",
      "1/1 [==============================] - 0s 15ms/step\n",
      "1/1 [==============================] - 0s 17ms/step\n",
      "1/1 [==============================] - 0s 16ms/step\n",
      "1/1 [==============================] - 0s 17ms/step\n",
      "1/1 [==============================] - 0s 20ms/step\n",
      "1/1 [==============================] - 0s 17ms/step\n",
      "1/1 [==============================] - 0s 16ms/step\n",
      "1/1 [==============================] - 0s 16ms/step\n",
      "1/1 [==============================] - 0s 15ms/step\n",
      "1/1 [==============================] - 0s 15ms/step\n",
      "1/1 [==============================] - 0s 17ms/step\n",
      "1/1 [==============================] - 0s 47ms/step\n",
      "1/1 [==============================] - 0s 15ms/step\n",
      "1/1 [==============================] - 0s 16ms/step\n",
      "1/1 [==============================] - 0s 24ms/step\n",
      "1/1 [==============================] - 0s 16ms/step\n",
      "1/1 [==============================] - 0s 15ms/step\n",
      "1/1 [==============================] - 0s 25ms/step\n",
      "1/1 [==============================] - 0s 16ms/step\n",
      "1/1 [==============================] - 0s 22ms/step\n",
      "1/1 [==============================] - 0s 16ms/step\n",
      "1/1 [==============================] - 0s 24ms/step\n",
      "1/1 [==============================] - 0s 17ms/step\n",
      "1/1 [==============================] - 0s 17ms/step\n",
      "1/1 [==============================] - 0s 19ms/step\n",
      "1/1 [==============================] - 0s 16ms/step\n",
      "1/1 [==============================] - 0s 16ms/step\n",
      "1/1 [==============================] - 0s 16ms/step\n",
      "1/1 [==============================] - 0s 16ms/step\n",
      "1/1 [==============================] - 0s 16ms/step\n",
      "1/1 [==============================] - 0s 16ms/step\n",
      "1/1 [==============================] - 0s 17ms/step\n",
      "1/1 [==============================] - 0s 17ms/step\n",
      "1/1 [==============================] - 0s 22ms/step\n",
      "1/1 [==============================] - 0s 17ms/step\n",
      "1/1 [==============================] - 0s 16ms/step\n",
      "1/1 [==============================] - 0s 25ms/step\n",
      "1/1 [==============================] - 0s 17ms/step\n",
      "1/1 [==============================] - 0s 16ms/step\n",
      "1/1 [==============================] - 0s 26ms/step\n",
      "1/1 [==============================] - 0s 26ms/step\n",
      "1/1 [==============================] - 0s 17ms/step\n",
      "1/1 [==============================] - 0s 22ms/step\n",
      "1/1 [==============================] - 0s 26ms/step\n",
      "1/1 [==============================] - 0s 18ms/step\n",
      "1/1 [==============================] - 0s 21ms/step\n",
      "1/1 [==============================] - 0s 24ms/step\n",
      "1/1 [==============================] - 0s 17ms/step\n",
      "1/1 [==============================] - 0s 16ms/step\n",
      "1/1 [==============================] - 0s 17ms/step\n",
      "1/1 [==============================] - 0s 16ms/step\n",
      "1/1 [==============================] - 0s 16ms/step\n",
      "1/1 [==============================] - 0s 17ms/step\n",
      "1/1 [==============================] - 0s 18ms/step\n",
      "1/1 [==============================] - 0s 16ms/step\n",
      "1/1 [==============================] - 0s 16ms/step\n",
      "1/1 [==============================] - 0s 26ms/step\n",
      "1/1 [==============================] - 0s 17ms/step\n",
      "1/1 [==============================] - 0s 18ms/step\n",
      "1/1 [==============================] - 0s 18ms/step\n",
      "1/1 [==============================] - 0s 17ms/step\n",
      "1/1 [==============================] - 0s 27ms/step\n",
      "1/1 [==============================] - 0s 17ms/step\n",
      "1/1 [==============================] - 0s 17ms/step\n",
      "1/1 [==============================] - 0s 22ms/step\n",
      "1/1 [==============================] - 0s 16ms/step\n",
      "1/1 [==============================] - 0s 16ms/step\n",
      "1/1 [==============================] - 0s 18ms/step\n",
      "1/1 [==============================] - 0s 24ms/step\n",
      "1/1 [==============================] - 0s 18ms/step\n",
      "1/1 [==============================] - 0s 18ms/step\n",
      "1/1 [==============================] - 0s 25ms/step\n",
      "1/1 [==============================] - 0s 30ms/step\n",
      "1/1 [==============================] - 0s 61ms/step\n",
      "1/1 [==============================] - 0s 18ms/step\n",
      "1/1 [==============================] - 0s 25ms/step\n",
      "1/1 [==============================] - 0s 17ms/step\n",
      "1/1 [==============================] - 0s 18ms/step\n",
      "1/1 [==============================] - 0s 26ms/step\n",
      "1/1 [==============================] - 0s 17ms/step\n",
      "1/1 [==============================] - 0s 17ms/step\n",
      "1/1 [==============================] - 0s 17ms/step\n",
      "1/1 [==============================] - 0s 23ms/step\n",
      "1/1 [==============================] - 0s 26ms/step\n",
      "1/1 [==============================] - 0s 50ms/step\n",
      "1/1 [==============================] - 0s 18ms/step\n",
      "1/1 [==============================] - 0s 15ms/step\n",
      "1/1 [==============================] - 0s 19ms/step\n",
      "1/1 [==============================] - 0s 16ms/step\n",
      "1/1 [==============================] - 0s 15ms/step\n",
      "1/1 [==============================] - 0s 16ms/step\n",
      "1/1 [==============================] - 0s 16ms/step\n",
      "1/1 [==============================] - 0s 16ms/step\n",
      "1/1 [==============================] - 0s 15ms/step\n",
      "1/1 [==============================] - 0s 16ms/step\n",
      "1/1 [==============================] - 0s 16ms/step\n",
      "1/1 [==============================] - 0s 15ms/step\n",
      "1/1 [==============================] - 0s 17ms/step\n",
      "1/1 [==============================] - 0s 16ms/step\n",
      "1/1 [==============================] - 0s 17ms/step\n",
      "1/1 [==============================] - 0s 15ms/step\n",
      "1/1 [==============================] - 0s 21ms/step\n",
      "1/1 [==============================] - 0s 16ms/step\n",
      "1/1 [==============================] - 0s 20ms/step\n",
      "1/1 [==============================] - 0s 15ms/step\n",
      "1/1 [==============================] - 0s 15ms/step\n",
      "1/1 [==============================] - 0s 15ms/step\n",
      "1/1 [==============================] - 0s 15ms/step\n",
      "1/1 [==============================] - 0s 20ms/step\n",
      "1/1 [==============================] - 0s 16ms/step\n",
      "1/1 [==============================] - 0s 17ms/step\n",
      "1/1 [==============================] - 0s 21ms/step\n",
      "1/1 [==============================] - 0s 16ms/step\n",
      "1/1 [==============================] - 0s 20ms/step\n",
      "1/1 [==============================] - 0s 16ms/step\n",
      "1/1 [==============================] - 0s 15ms/step\n",
      "1/1 [==============================] - 0s 15ms/step\n",
      "1/1 [==============================] - 0s 15ms/step\n",
      "1/1 [==============================] - 0s 15ms/step\n",
      "1/1 [==============================] - 0s 16ms/step\n",
      "1/1 [==============================] - 0s 17ms/step\n",
      "1/1 [==============================] - 0s 16ms/step\n",
      "1/1 [==============================] - 0s 16ms/step\n",
      "1/1 [==============================] - 0s 16ms/step\n",
      "1/1 [==============================] - 0s 20ms/step\n",
      "1/1 [==============================] - 0s 15ms/step\n",
      "1/1 [==============================] - 0s 15ms/step\n",
      "1/1 [==============================] - 0s 16ms/step\n",
      "1/1 [==============================] - 0s 15ms/step\n",
      "1/1 [==============================] - 0s 16ms/step\n",
      "1/1 [==============================] - 0s 16ms/step\n",
      "1/1 [==============================] - 0s 15ms/step\n",
      "1/1 [==============================] - 0s 16ms/step\n",
      "1/1 [==============================] - 0s 16ms/step\n",
      "1/1 [==============================] - 0s 16ms/step\n",
      "1/1 [==============================] - 0s 18ms/step\n",
      "1/1 [==============================] - 0s 17ms/step\n",
      "1/1 [==============================] - 0s 23ms/step\n",
      "1/1 [==============================] - 0s 17ms/step\n",
      "1/1 [==============================] - 0s 22ms/step\n",
      "1/1 [==============================] - 0s 17ms/step\n",
      "1/1 [==============================] - 0s 15ms/step\n",
      "1/1 [==============================] - 0s 17ms/step\n",
      "1/1 [==============================] - 0s 22ms/step\n",
      "1/1 [==============================] - 0s 26ms/step\n",
      "1/1 [==============================] - 0s 19ms/step\n",
      "1/1 [==============================] - 0s 26ms/step\n",
      "1/1 [==============================] - 0s 24ms/step\n",
      "1/1 [==============================] - 0s 15ms/step\n",
      "1/1 [==============================] - 0s 24ms/step\n",
      "1/1 [==============================] - 0s 16ms/step\n",
      "1/1 [==============================] - 0s 18ms/step\n",
      "1/1 [==============================] - 0s 17ms/step\n",
      "1/1 [==============================] - 0s 16ms/step\n",
      "1/1 [==============================] - 0s 23ms/step\n",
      "1/1 [==============================] - 0s 16ms/step\n",
      "1/1 [==============================] - 0s 23ms/step\n",
      "1/1 [==============================] - 0s 16ms/step\n",
      "1/1 [==============================] - 0s 20ms/step\n",
      "1/1 [==============================] - 0s 18ms/step\n",
      "1/1 [==============================] - 0s 25ms/step\n",
      "1/1 [==============================] - 0s 23ms/step\n",
      "1/1 [==============================] - 0s 18ms/step\n",
      "1/1 [==============================] - 0s 17ms/step\n",
      "1/1 [==============================] - 0s 17ms/step\n",
      "1/1 [==============================] - 0s 17ms/step\n",
      "1/1 [==============================] - 0s 16ms/step\n",
      "1/1 [==============================] - 0s 16ms/step\n",
      "1/1 [==============================] - 0s 22ms/step\n",
      "1/1 [==============================] - 0s 16ms/step\n",
      "1/1 [==============================] - 0s 17ms/step\n",
      "1/1 [==============================] - 0s 17ms/step\n",
      "1/1 [==============================] - 0s 18ms/step\n",
      "1/1 [==============================] - 0s 17ms/step\n",
      "1/1 [==============================] - 0s 23ms/step\n",
      "1/1 [==============================] - 0s 17ms/step\n",
      "1/1 [==============================] - 0s 17ms/step\n",
      "1/1 [==============================] - 0s 18ms/step\n",
      "1/1 [==============================] - 0s 19ms/step\n",
      "1/1 [==============================] - 0s 17ms/step\n",
      "1/1 [==============================] - 0s 26ms/step\n",
      "1/1 [==============================] - 0s 28ms/step\n",
      "1/1 [==============================] - 0s 16ms/step\n",
      "1/1 [==============================] - 0s 26ms/step\n",
      "1/1 [==============================] - 0s 20ms/step\n",
      "1/1 [==============================] - 0s 25ms/step\n",
      "1/1 [==============================] - 0s 22ms/step\n",
      "1/1 [==============================] - 0s 16ms/step\n",
      "1/1 [==============================] - 0s 16ms/step\n",
      "1/1 [==============================] - 0s 17ms/step\n",
      "1/1 [==============================] - 0s 27ms/step\n",
      "1/1 [==============================] - 0s 23ms/step\n",
      "1/1 [==============================] - 0s 15ms/step\n",
      "1/1 [==============================] - 0s 26ms/step\n",
      "1/1 [==============================] - 0s 17ms/step\n",
      "1/1 [==============================] - 0s 17ms/step\n",
      "1/1 [==============================] - 0s 23ms/step\n",
      "1/1 [==============================] - 0s 29ms/step\n",
      "1/1 [==============================] - 0s 46ms/step\n",
      "1/1 [==============================] - 0s 17ms/step\n",
      "1/1 [==============================] - 0s 17ms/step\n",
      "1/1 [==============================] - 0s 17ms/step\n",
      "1/1 [==============================] - 0s 17ms/step\n",
      "1/1 [==============================] - 0s 17ms/step\n",
      "1/1 [==============================] - 0s 27ms/step\n",
      "1/1 [==============================] - 0s 32ms/step\n",
      "1/1 [==============================] - 0s 16ms/step\n",
      "1/1 [==============================] - 0s 29ms/step\n",
      "1/1 [==============================] - 0s 15ms/step\n",
      "1/1 [==============================] - 0s 15ms/step\n",
      "1/1 [==============================] - 0s 20ms/step\n",
      "1/1 [==============================] - 0s 16ms/step\n",
      "1/1 [==============================] - 0s 19ms/step\n",
      "1/1 [==============================] - 0s 17ms/step\n",
      "1/1 [==============================] - 0s 16ms/step\n",
      "1/1 [==============================] - 0s 16ms/step\n",
      "1/1 [==============================] - 0s 16ms/step\n",
      "1/1 [==============================] - 0s 15ms/step\n",
      "1/1 [==============================] - 0s 16ms/step\n",
      "1/1 [==============================] - 0s 20ms/step\n",
      "1/1 [==============================] - 0s 17ms/step\n",
      "1/1 [==============================] - 0s 15ms/step\n",
      "1/1 [==============================] - 0s 16ms/step\n",
      "1/1 [==============================] - 0s 19ms/step\n",
      "1/1 [==============================] - 0s 17ms/step\n",
      "1/1 [==============================] - 0s 17ms/step\n",
      "1/1 [==============================] - 0s 16ms/step\n",
      "1/1 [==============================] - 0s 17ms/step\n",
      "1/1 [==============================] - 0s 17ms/step\n",
      "1/1 [==============================] - 0s 17ms/step\n",
      "1/1 [==============================] - 0s 17ms/step\n",
      "1/1 [==============================] - 0s 16ms/step\n",
      "1/1 [==============================] - 0s 17ms/step\n",
      "1/1 [==============================] - 0s 20ms/step\n",
      "1/1 [==============================] - 0s 17ms/step\n",
      "1/1 [==============================] - 0s 16ms/step\n",
      "1/1 [==============================] - 0s 20ms/step\n",
      "1/1 [==============================] - 0s 16ms/step\n"
     ]
    }
   ],
   "source": [
    "# Save the forecast\n",
    "rnn_forecast = generate_forecast(model, SERIES, WINDOW_SIZE)"
   ]
  },
  {
   "cell_type": "code",
   "execution_count": 27,
   "metadata": {
    "colab": {
     "base_uri": "https://localhost:8080/",
     "height": 388
    },
    "deletable": false,
    "editable": false,
    "id": "icGDaND7z0ne",
    "outputId": "278c6772-ccda-4a4b-9940-bbd9a69bfae6",
    "tags": []
   },
   "outputs": [
    {
     "data": {
      "image/png": "[encoded data removed]",
      "text/plain": [
       "<Figure size 1000x600 with 1 Axes>"
      ]
     },
     "metadata": {},
     "output_type": "display_data"
    }
   ],
   "source": [
    "# Plot your forecast\n",
    "plt.figure(figsize=(10, 6))\n",
    "\n",
    "plot_series(time_valid, series_valid)\n",
    "plot_series(time_valid, rnn_forecast)"
   ]
  },
  {
   "cell_type": "markdown",
   "metadata": {},
   "source": [
    "**Expected Output:**\n",
    "\n",
    "A series similar to this one:\n",
    "\n",
    "<div>\n",
    "<img src=\"images/expected.png\" width=\"650\"/>\n",
    "</div>"
   ]
  },
  {
   "cell_type": "markdown",
   "metadata": {},
   "source": [
    "Now use the `compute_metrics function` to find the MSE and MAE of your forecast. "
   ]
  },
  {
   "cell_type": "code",
   "execution_count": 28,
   "metadata": {
    "deletable": false,
    "editable": false,
    "tags": []
   },
   "outputs": [
    {
     "name": "stdout",
     "output_type": "stream",
     "text": [
      "mse: 29.27, mae: 3.35 for forecast\n"
     ]
    }
   ],
   "source": [
    "mse, mae = compute_metrics(series_valid, rnn_forecast)\n",
    "\n",
    "print(f\"mse: {mse:.2f}, mae: {mae:.2f} for forecast\")"
   ]
  },
  {
   "cell_type": "markdown",
   "metadata": {},
   "source": [
    "**You will be graded based on your model performance. To pass this assignment your forecast should achieve an MAE of 4.5 or less.**\n",
    "\n",
    "- If your forecast didn't achieve this threshold try re-training your model with a different architecture (you will need to re-run both `create_uncompiled_model` and `create_model` functions) or tweaking the optimizer's parameters.\n",
    "\n",
    "\n",
    "- If your forecast did achieve this threshold run the following cell to save your achieved MAE for the forecast, which will be used for grading. After doing so, submit your assignment for grading."
   ]
  },
  {
   "cell_type": "code",
   "execution_count": 29,
   "metadata": {
    "deletable": false,
    "editable": false,
    "tags": []
   },
   "outputs": [],
   "source": [
    "# Save your mae in a pickle file\n",
    "with open('forecast_mae.pkl', 'wb') as f:\n",
    "    pickle.dump(mae.numpy(), f)"
   ]
  },
  {
   "cell_type": "markdown",
   "metadata": {},
   "source": [
    "**Congratulations on finishing this week's assignment!**\n",
    "\n",
    "You have successfully implemented a neural network capable of forecasting time series leveraging Tensorflow's layers for sequence modelling such as `RNNs` and `LSTMs`! **This resulted in a forecast that matches (or even surpasses) the one from last week while training for half of the epochs.**\n",
    "\n",
    "**Keep it up!**"
   ]
  },
  {
   "cell_type": "code",
   "execution_count": null,
   "metadata": {
    "deletable": false,
    "editable": false,
    "tags": []
   },
   "outputs": [],
   "source": [
    "import unittests"
   ]
  },
  {
   "cell_type": "code",
   "execution_count": null,
   "metadata": {
    "deletable": false,
    "editable": false,
    "tags": []
   },
   "outputs": [],
   "source": [
    "# Test your code!\n",
    "unittests.test_create_model(create_model)"
   ]
  },
  {
   "cell_type": "code",
   "execution_count": null,
   "metadata": {
    "deletable": false,
    "editable": false,
    "tags": []
   },
   "outputs": [],
   "source": [
    "# Test your code!\n",
    "unittests.test_create_uncompiled_model(create_uncompiled_model)"
   ]
  },
  {
   "cell_type": "code",
   "execution_count": null,
   "metadata": {
    "deletable": false,
    "editable": false,
    "tags": []
   },
   "outputs": [],
   "source": [
    "# Define your uncompiled model\n",
    "uncompiled_model = create_uncompiled_model()\n",
    "\n",
    "# Check the parameter count against a reference solution\n",
    "unittests.parameter_count(uncompiled_model)"
   ]
  },
  {
   "cell_type": "code",
   "execution_count": 17,
   "metadata": {
    "deletable": false,
    "editable": false,
    "tags": []
   },
   "outputs": [
    {
     "ename": "KeyError",
     "evalue": "'learning_rate'",
     "output_type": "error",
     "traceback": [
      "\u001b[1;31m---------------------------------------------------------------------------\u001b[0m",
      "\u001b[1;31mKeyError\u001b[0m                                  Traceback (most recent call last)",
      "Cell \u001b[1;32mIn[17], line 2\u001b[0m\n\u001b[0;32m      1\u001b[0m \u001b[38;5;66;03m# Plot the loss for every LR\u001b[39;00m\n\u001b[1;32m----> 2\u001b[0m plt\u001b[38;5;241m.\u001b[39msemilogx(\u001b[43mlr_history\u001b[49m\u001b[38;5;241;43m.\u001b[39;49m\u001b[43mhistory\u001b[49m\u001b[43m[\u001b[49m\u001b[38;5;124;43m\"\u001b[39;49m\u001b[38;5;124;43mlearning_rate\u001b[39;49m\u001b[38;5;124;43m\"\u001b[39;49m\u001b[43m]\u001b[49m, lr_history\u001b[38;5;241m.\u001b[39mhistory[\u001b[38;5;124m\"\u001b[39m\u001b[38;5;124mloss\u001b[39m\u001b[38;5;124m\"\u001b[39m])\n\u001b[0;32m      3\u001b[0m plt\u001b[38;5;241m.\u001b[39maxis([\u001b[38;5;241m1e-6\u001b[39m, \u001b[38;5;241m1\u001b[39m, \u001b[38;5;241m0\u001b[39m, \u001b[38;5;241m30\u001b[39m])\n",
      "\u001b[1;31mKeyError\u001b[0m: 'learning_rate'"
     ]
    }
   ],
   "source": [
    "# Plot the loss for every LR\n",
    "plt.semilogx(lr_history.history[\"learning_rate\"], lr_history.history[\"loss\"])\n",
    "plt.axis([1e-6, 1, 0, 30])"
   ]
  }
 ],
 "metadata": {
  "colab": {
   "collapsed_sections": [],
   "name": "C4_W3_Assignment_Solution.ipynb",
   "provenance": [],
   "toc_visible": true
  },
  "grader_version": "1",
  "kernelspec": {
   "display_name": "Python 3 (ipykernel)",
   "language": "python",
   "name": "python3"
  },
  "language_info": {
   "codemirror_mode": {
    "name": "ipython",
    "version": 3
   },
   "file_extension": ".py",
   "mimetype": "text/x-python",
   "name": "python",
   "nbconvert_exporter": "python",
   "pygments_lexer": "ipython3",
   "version": "3.9.19"
  }
 },
 "nbformat": 4,
 "nbformat_minor": 4
}
