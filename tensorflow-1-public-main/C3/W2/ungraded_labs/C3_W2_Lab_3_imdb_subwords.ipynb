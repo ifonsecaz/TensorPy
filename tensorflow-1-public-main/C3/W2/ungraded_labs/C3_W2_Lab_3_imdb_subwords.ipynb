{
 "cells": [
  {
   "cell_type": "markdown",
   "metadata": {
    "id": "cLKIel77CJPi"
   },
   "source": [
    "# Ungraded Lab: Subword Tokenization with the IMDB Reviews Dataset\n",
    "\n",
    "In this lab, you will look at tokenizing a dataset using subword text encoding. This is an alternative to word-based tokenization which you have been using in the previous labs. You will see how it works and its effect on preparing your data and training your model.\n",
    "\n",
    "Let's begin!\n"
   ]
  },
  {
   "cell_type": "markdown",
   "metadata": {
    "id": "ULU4nGg2F7Bm"
   },
   "source": [
    "## Lab Setup\n",
    "\n",
    "First, you will install some additional packages in Colab and import the ones you will use in the next sections."
   ]
  },
  {
   "cell_type": "code",
   "execution_count": 1,
   "metadata": {
    "id": "KgvM3LABFnLm"
   },
   "outputs": [
    {
     "name": "stdout",
     "output_type": "stream",
     "text": [
      "Using TensorFlow backend\n"
     ]
    }
   ],
   "source": [
    "import tensorflow as tf\n",
    "import tensorflow_datasets as tfds\n",
    "import matplotlib.pyplot as plt\n",
    "import keras_nlp"
   ]
  },
  {
   "cell_type": "markdown",
   "metadata": {
    "id": "qrzOn9quZ0Sv"
   },
   "source": [
    "## Load the IMDB Reviews dataset\n",
    "\n",
    "As you did in the first ungraded lab, you will load the [IMDB Reviews](https://www.tensorflow.org/datasets/catalog/imdb_reviews) dataset from Tensorflow Datasets."
   ]
  },
  {
   "cell_type": "code",
   "execution_count": 2,
   "metadata": {
    "id": "_IoM4VFxWpMR"
   },
   "outputs": [],
   "source": [
    "# Load the dataset\n",
    "imdb = tfds.load(\"imdb_reviews\", as_supervised=True, data_dir='./data', download=False)"
   ]
  },
  {
   "cell_type": "markdown",
   "metadata": {
    "id": "v3rwL6H3G9Cv"
   },
   "source": [
    "Then, extract the reviews and labels so you can preprocess them."
   ]
  },
  {
   "cell_type": "code",
   "execution_count": 3,
   "metadata": {
    "id": "zAYgHw6TyfpQ"
   },
   "outputs": [],
   "source": [
    "train_reviews = imdb['train'].map(lambda review, label: review)\n",
    "train_labels = imdb['train'].map(lambda review, label: label)\n",
    "\n",
    "test_reviews = imdb['test'].map(lambda review, label: review)\n",
    "test_labels = imdb['test'].map(lambda review, label: label)"
   ]
  },
  {
   "cell_type": "markdown",
   "metadata": {
    "id": "LPJXhkOKIl_f"
   },
   "source": [
    "You can preview a few reviews as a sanity check."
   ]
  },
  {
   "cell_type": "code",
   "execution_count": 4,
   "metadata": {
    "id": "LdUcjsr0ILO4"
   },
   "outputs": [
    {
     "data": {
      "text/plain": [
       "[<tf.Tensor: shape=(), dtype=string, numpy=b\"This was an absolutely terrible movie. Don't be lured in by Christopher Walken or Michael Ironside. Both are great actors, but this must simply be their worst role in history. Even their great acting could not redeem this movie's ridiculous storyline. This movie is an early nineties US propaganda piece. The most pathetic scenes were those when the Columbian rebels were making their cases for revolutions. Maria Conchita Alonso appeared phony, and her pseudo-love affair with Walken was nothing but a pathetic emotional plug in a movie that was devoid of any real meaning. I am disappointed that there are movies like this, ruining actor's like Christopher Walken's good name. I could barely sit through it.\">,\n",
       " <tf.Tensor: shape=(), dtype=string, numpy=b'I have been known to fall asleep during films, but this is usually due to a combination of things including, really tired, being warm and comfortable on the sette and having just eaten a lot. However on this occasion I fell asleep because the film was rubbish. The plot development was constant. Constantly slow and boring. Things seemed to happen, but with no explanation of what was causing them or why. I admit, I may have missed part of the film, but i watched the majority of it and everything just seemed to happen of its own accord without any real concern for anything else. I cant recommend this film at all.'>]"
      ]
     },
     "execution_count": 4,
     "metadata": {},
     "output_type": "execute_result"
    }
   ],
   "source": [
    "# Show two reviews\n",
    "list(train_reviews.take(2))"
   ]
  },
  {
   "cell_type": "markdown",
   "metadata": {
    "id": "YKrbY2fjjFHM"
   },
   "source": [
    "## Subword Tokenization\n",
    "\n",
    "From previous labs, the number of tokens in the sequence is the same as the number of words in the text (i.e. word tokenization). The following cells shows a review of this process."
   ]
  },
  {
   "cell_type": "code",
   "execution_count": 5,
   "metadata": {
    "id": "QduauF7D1n3g"
   },
   "outputs": [],
   "source": [
    "# Parameters for tokenization and padding\n",
    "VOCAB_SIZE = 10000\n",
    "MAX_LENGTH = 120\n",
    "PADDING_TYPE = 'pre'\n",
    "TRUNC_TYPE = 'post'"
   ]
  },
  {
   "cell_type": "code",
   "execution_count": 6,
   "metadata": {
    "id": "-N6Yd_TE3gZ5"
   },
   "outputs": [],
   "source": [
    "# Instantiate the vectorization layer\n",
    "vectorize_layer = tf.keras.layers.TextVectorization(\n",
    "    max_tokens=VOCAB_SIZE\n",
    ")\n",
    "\n",
    "# Generate the vocabulary based only on the training set\n",
    "vectorize_layer.adapt(train_reviews)"
   ]
  },
  {
   "cell_type": "code",
   "execution_count": 7,
   "metadata": {
    "id": "KmuvzVS31OLA"
   },
   "outputs": [],
   "source": [
    "def padding_func(sequences):\n",
    "  '''Generates padded sequences from a tf.data.Dataset'''\n",
    "\n",
    "  # Put all elements in a single ragged batch\n",
    "  #sequences = sequences.ragged_batch(batch_size=sequences.cardinality())\n",
    "# First, you can expand along the 0 axis for each data point\n",
    "  sequences = sequences.map(lambda x: tf.expand_dims(x, 0))\n",
    "# Then create a RaggedTensor with a ragged rank of 1\n",
    "  sequences = sequences.map(lambda x: tf.RaggedTensor.from_tensor(x))\n",
    "# Create batches\n",
    "  sequences = sequences.batch(sequences.cardinality())\n",
    "# Squeeze the extra dimension from the created batches\n",
    "  sequences = sequences.map(lambda x: tf.squeeze(x, axis=1))\n",
    "  # Output a tensor from the single batch\n",
    "  sequences = sequences.get_single_element()\n",
    "\n",
    "  # Pad the sequences\n",
    "  padded_sequences = tf.keras.utils.pad_sequences(sequences.numpy(), \n",
    "                                                  maxlen=MAX_LENGTH, \n",
    "                                                  truncating=TRUNC_TYPE, \n",
    "                                                  padding=PADDING_TYPE\n",
    "                                                 )\n",
    "\n",
    "  # Convert back to a tf.data.Dataset\n",
    "  padded_sequences = tf.data.Dataset.from_tensor_slices(padded_sequences)\n",
    "\n",
    "  return padded_sequences"
   ]
  },
  {
   "cell_type": "code",
   "execution_count": 23,
   "metadata": {},
   "outputs": [
    {
     "data": {
      "text/plain": [
       "TensorSpec(shape=(), dtype=tf.string, name=None)"
      ]
     },
     "execution_count": 23,
     "metadata": {},
     "output_type": "execute_result"
    }
   ],
   "source": [
    "train_reviews.element_spec"
   ]
  },
  {
   "cell_type": "code",
   "execution_count": 8,
   "metadata": {
    "id": "aknxBrRY1KTo"
   },
   "outputs": [],
   "source": [
    "# Apply the vectorization layer and padding on the training inputs\n",
    "train_sequences = train_reviews.map(lambda text: vectorize_layer(text)).apply(padding_func)"
   ]
  },
  {
   "cell_type": "markdown",
   "metadata": {
    "id": "nNUlDp76lf94"
   },
   "source": [
    "The cell above uses a `vocab_size` of 10000 but you'll find that it's easy to find OOV tokens when decoding using the lookup dictionary it created. See the result below and notice the `[UNK]` tags:"
   ]
  },
  {
   "cell_type": "code",
   "execution_count": 9,
   "metadata": {
    "id": "YmsECyVr4OPE"
   },
   "outputs": [
    {
     "name": "stdout",
     "output_type": "stream",
     "text": [
      "    this was an absolutely terrible movie dont be [UNK] in by christopher walken or michael [UNK] both are great actors but this must simply be their worst role in history even their great acting could not redeem this movies ridiculous storyline this movie is an early nineties us propaganda piece the most pathetic scenes were those when the [UNK] rebels were making their cases for [UNK] maria [UNK] [UNK] appeared phony and her [UNK] affair with walken was nothing but a pathetic emotional plug in a movie that was devoid of any real meaning i am disappointed that there are movies like this ruining actors like christopher [UNK] good name i could barely sit through it\n"
     ]
    }
   ],
   "source": [
    "# Get the vocabulary\n",
    "imdb_vocab_fullword = vectorize_layer.get_vocabulary()\n",
    "\n",
    "# Get a sample integer sequence\n",
    "sample_sequence = train_sequences.take(1).get_single_element()\n",
    "\n",
    "# Lookup each token in the vocabulary\n",
    "decoded_text = [imdb_vocab_fullword[token] for token in sample_sequence]\n",
    "\n",
    "# Combine the words\n",
    "decoded_text = ' '.join(decoded_text)\n",
    "\n",
    "# Print the output\n",
    "print(decoded_text)"
   ]
  },
  {
   "cell_type": "raw",
   "metadata": {
    "id": "O0HQqkBmpujb",
    "jupyter": {
     "source_hidden": true
    }
   },
   "source": [
    "For binary classifiers, this might not have a big impact but you may have other applications that will benefit from avoiding OOV tokens when training the model (e.g. text generation). If you want the tokenizer above to not have OOVs, then you might have to increase the vocabulary size to more than 88k. Right now, it's only at 10k. This can slow down training and bloat the model size. The encoder also won't be robust when used on other datasets which may contain new words, thus resulting in OOVs again."
   ]
  },
  {
   "cell_type": "markdown",
   "metadata": {
    "id": "McxNKhHIsNvl"
   },
   "source": [
    "*Subword text encoding* gets around this problem by using parts of the word to compose whole words. This makes it more flexible when it encounters uncommon words. You can use the [KerasNLP](https://keras.io/api/keras_nlp/) API to do just that."
   ]
  },
  {
   "cell_type": "markdown",
   "metadata": {
    "id": "gwByl7OCNGl3"
   },
   "source": [
    "First, you will compute the subword vocabulary using the [compute_word_piece_vocabulary()](https://keras.io/api/keras_nlp/tokenizers/compute_word_piece_vocabulary/#compute_word_piece_vocabulary-function) function. You will tell it to:\n",
    "* learn from the `train_reviews`\n",
    "* set a max vocabulary size of 8k\n",
    "* reserve special tokens similar to the full word vocabulary\n",
    "* save the output to a file in the current directory\n",
    "\n",
    "***Note: This will take around 5 minutes to run. If you want to save some time, you can skip it and download the subword vocabulary in the next cell.***"
   ]
  },
  {
   "cell_type": "code",
   "execution_count": 10,
   "metadata": {
    "id": "h-tvKmx2Lqxj"
   },
   "outputs": [],
   "source": [
    "# Compute the subword vocabulary and save to a file\n",
    "keras_nlp.tokenizers.compute_word_piece_vocabulary(\n",
    "    train_reviews,\n",
    "    vocabulary_size=8000,\n",
    "    reserved_tokens=[\"[PAD]\", \"[UNK]\"],\n",
    "    vocabulary_output_file='imdb_vocab_subwords.txt'\n",
    ")"
   ]
  },
  {
   "cell_type": "markdown",
   "metadata": {
    "id": "3aS030JMRyt6"
   },
   "source": [
    "Next, you will initialize a [WordPieceTokenizer](https://keras.io/api/keras_nlp/tokenizers/word_piece_tokenizer/#wordpiecetokenizer-class) using the vocabulary. This will behave similar to the `TextVectorization` layer you've been using so far, but it is able to generate subword sequences."
   ]
  },
  {
   "cell_type": "code",
   "execution_count": null,
   "metadata": {
    "id": "hwJHhfTLXhsx"
   },
   "outputs": [],
   "source": [
    "# Uncomment this line if you skipped the cell above and want to use a pre-saved vocabulary\n",
    "# !wget -nc https://storage.googleapis.com/tensorflow-1-public/course3/imdb_vocab_subwords.txt"
   ]
  },
  {
   "cell_type": "code",
   "execution_count": 11,
   "metadata": {
    "id": "yd-WGsVOLvch"
   },
   "outputs": [],
   "source": [
    "# Initialize the subword tokenizer\n",
    "subword_tokenizer = keras_nlp.tokenizers.WordPieceTokenizer(\n",
    "    vocabulary='./imdb_vocab_subwords.txt'\n",
    ")"
   ]
  },
  {
   "cell_type": "markdown",
   "metadata": {
    "id": "yMNCxZ9xSgEy"
   },
   "source": [
    "See the vocabulary below. You'll notice that many of them are just parts of words, sometimes just single characters. Some also have a `##` which indicates that it is a suffix (i.e. something that is connected to a previous token). You'll see how this behaves later with an example."
   ]
  },
  {
   "cell_type": "code",
   "execution_count": 12,
   "metadata": {
    "id": "SqyMSZbnwFBo"
   },
   "outputs": [
    {
     "data": {
      "text/plain": [
       "ListWrapper(['[PAD]', '[UNK]', '!', '\"', '#', '$', '%', '&', \"'\", '(', ')', '*', '+', ',', '-', '.', '/', '0', '1', '2', '3', '4', '5', '6', '7', '8', '9', ':', ';', '<', '=', '>', '?', '@', 'A', 'B', 'C', 'D', 'E', 'F', 'G', 'H', 'I', 'J', 'K', 'L', 'M', 'N', 'O', 'P', 'Q', 'R', 'S', 'T', 'U', 'V', 'W', 'X', 'Y', 'Z', '[', '\\\\', ']', '^', '_', '`', 'a', 'b', 'c', 'd', 'e', 'f', 'g', 'h', 'i', 'j', 'k', 'l', 'm', 'n', 'o', 'p', 'q', 'r', 's', 't', 'u', 'v', 'w', 'x', 'y', 'z', '{', '|', '}', '~', '', '¡', '¢', '£', '¤', '¦', '§', '¨', '«', '®', '°', '³', '´', '·', 'º', '»', '½', '¾', '¿', 'À', 'Á', 'Ã', 'Ä', 'Å', 'È', 'É', 'Ê', 'Õ', 'Ø', 'Ü', 'ß', 'à', 'á', 'â', 'ã', 'ä', 'å', 'æ', 'ç', 'è', 'é', 'ê', 'ë', 'ì', 'í', 'î', 'ï', 'ð', 'ñ', 'ò', 'ó', 'ô', 'ö', 'ø', 'ù', 'ú', 'û', 'ü', 'ý', 'ō', '–', '‘', '’', '“', '”', '…', '₤', '\\uf0b7', 'the', 'and', 'of', 'to', 'is', 'br', 'in', 'it', 'that', 'this', '##s', 'was', 'The', 'as', 'movie', 'with', 'for', 'film', 'but', 'on', 'you', 'are', 'not', 'his', 'have', 'be', 'he', 'one', 'by', 'at', 'all', 'an', 'who', 'they', 'from', 'like', 'It', 'so', 'her', 'or', '##ing', 'about', 'out', 'has', 'just', 'This', 'good', 'some', '##ed', 'can', 'more', 'very', 'up', '##ly', 'what', 'there', 'time', 'would', 'which', 'when', 'story', 'she', 'if', 'only', 'really', 'had', 'see', 'their', 'even', 'no', 'were', 'me', 'my', '##d', '##y', 'than', 'much', 'been', 'well', 'get', 'into', '##er', 'bad', 'him', 'people', 'other', 'will', 'we', 'because', '##e', 'do', 'great', 'made', 'first', 'most', 'them', 'make', 'way', 'also', 'could', 'how', 'too', 'movies', 'its', 'don', 'any', 'But', 'think', 'characters', 'character', 'And', 'films', 'then', 'seen', 'watch', 'plot', 'two', 'being', 'acting', 'life', 'many', 'There', 'never', 'over', 'know', 'after', 'little', '##t', 'show', 'off', 'In', 'did', 'where', '##a', 'love', 'best', 'ever', 'does', 'better', '##o', 'end', 'your', '##r', 'If', 'He', 'say', 'scene', '##n', 'scenes', 've', 'still', 'here', 'such', 'should', 'man', 'something', 'through', 'go', 'back', 'these', 'real', 'doesn', 're', 'thing', 'actors', 'years', 'those', 'watching', '10', 'work', 'old', 'didn', '##es', 'funny', 'makes', 'find', 'though', 'going', 'actually', 'few', 'before', 'same', 'why', 'look', 'lot', 'while', 'director', 'part', 'cast', 'nothing', 'again', 'another', '##al', '##i', 'want', 'quite', 'down', 'around', 'seems', '##on', 'pretty', 'fact', 'got', 'things', 'every', '##l', 'enough', 'thought', 'between', 'As', 'own', 'now', 'original', 'take', 'What', 'world', 'series', 'You', 'horror', 'long', 'young', 'action', 'us', 'They', 'give', 'gets', 'role', 'right', 'must', 'always', 'may', 'times', 'isn', 'least', 'comedy', 'point', 'interesting', 'done', 'saw', 'new', 'whole', 'family', 'bit', 'both', 'without', 'script', 'almost', 'come', 'big', 'minutes', 'feel', 'making', 'performance', 'might', 'far', 'll', 'music', 'anything', 'guy', '##man', 'She', 'kind', 'TV', 'am', 'That', 'probably', 'away', '##h', 'So', 'last', 'woman', 'fun', 'girl', 'rather', 'since', 'found', 'played', 'hard', 'worst', '##an', '##ers', '##ness', 'course', 'screen', '##ic', 'comes', 'When', 'trying', 'believe', 'goes', 'looking', 'each', 'day', 'looks', 'anyone', 'different', 'place', 'set', 'yet', 'especially', 'book', 'ending', 'put', 'DVD', 'reason', 'our', 'money', 'actor', 'wasn', 'shows', 'One', 'sense', 'sure', 'year', '##m', 'job', '##in', '##ie', 'main', 'watched', 'plays', 'having', 'American', 'audience', 'together', 'takes', 'John', 'said', 'effects', 'play', 'seem', 'worth', 'himself', 'someone', 'true', 'version', '##le', '##able', 'wife', 'My', 'beautiful', 'We', 'For', 'three', 'All', 'left', '##k', 'idea', 'half', 'Not', 'special', 'father', 'seeing', '##ity', 'else', 'shot', 'However', 'later', 'everything', 'less', '##less', 'excellent', 'during', 'mind', 'once', 'everyone', 'nice', '##ion', 'fan', 'high', 'read', 'simply', 'help', 'Hollywood', 'used', 'completely', '##ry', '##ation', '##ting', '##or', 'budget', '##ia', 'short', 'performances', 'let', '##S', '##en', 'either', 'need', 'rest', 'use', 'poor', 'second', 'line', 'low', 'try', 'classic', 'camera', '##ive', 'given', 'kids', 'top', 'production', 'boring', 'home', 'wrong', 'enjoy', 'women', '##ies', 'until', '##ment', 'friends', 'start', '##ling', 'tell', '##ful', 'couple', '##us', 'mean', 'won', 'recommend', 'truly', 'moments', 'men', 'house', 'No', 'instead', 'came', 'understand', 'night', 'death', 'awful', 'stupid', 'Even', 'along', '##u', '##te', 'video', 'episode', 'stars', 'sex', 'playing', 'small', 'At', 'getting', 'doing', 'full', 'person', 'remember', 'style', 'gives', 'After', 'To', 'itself', 'although', 'Well', 'wonderful', 'however', 'often', 'face', 'become', 'next', 'lines', 'name', 'keep', 'written', 'terrible', 'school', 'others', 'black', '##re', 'dialogue', 'felt', 'piece', 'early', 'maybe', 'perfect', 'human', 'liked', 'supposed', '##g', '##ar', '##th', 'star', 'head', '##rs', 'THE', 'couldn', 'case', 'entire', 'went', 'against', 'sort', 'children', 'entertaining', 'waste', '##ge', 'His', 'live', 'Mr', 'title', 'While', 'problem', '##ine', 'called', '##est', 'war', 'Then', 'worse', '##nt', 'absolutely', 'definitely', 'friend', 'mother', '##ted', 'beginning', 'Don', 'becomes', 'Also', 'drama', '##ate', 'boy', 'picture', 'already', 'cinema', 'seemed', 'certainly', 'laugh', 'lives', 'example', '##E', 'fans', '##ist', '##z', 'care', 'wanted', 'Michael', 'loved', 'several', 'based', 'turn', 'dead', '##ce', 'direction', 'lost', 'hope', '##ally', 'Of', 'humor', 'under', 'fine', 'lead', 'Why', 'quality', 'son', 'wants', '##et', 'writing', 'works', 'tries', '##ty', '##p', 'Some', 'guess', 'past', 'able', 'guys', 'viewer', 'How', 'killer', 'totally', '##tion', 'Now', '##st', 'flick', 'genre', 'history', 'throughout', 'sound', 'enjoyed', 'heart', 'amazing', 'New', 'turns', '##el', 'side', 'finally', 'evil', 'hand', 'close', 'starts', 'gave', 'behind', 'etc', '##ian', 'town', 'child', 'favorite', '##ism', 'game', 'car', 'themselves', 'act', 'today', '##ch', 'final', 'art', 'parts', 'late', 'self', 'days', 'expect', 'perhaps', 'white', '##it', 'actress', 'thinking', '##ous', 'With', 'stuff', 'hour', 'stories', '##ish', 'feeling', 'decent', 'myself', 'voice', '##ble', 'Just', 'directed', '##nce', '##ant', 'girls', 'brilliant', 'daughter', 'roles', 'type', 'horrible', '##ra', 'matter', 'run', 'says', 'heard', 'slow', 'moment', 'killed', 'took', 'eyes', 'kid', 'fight', 'cannot', 'dark', 'involved', 'happens', 'kill', 'known', '##ping', '##um', 'writer', 'hit', 'obvious', '##ne', 'James', 'experience', 'violence', 'soon', 'happened', 'attempt', '##se', 'told', 'lack', 'including', 'happen', 'particularly', 'interest', 'ago', 'extremely', 'On', 'leave', 'strong', 'group', '##x', 'chance', 'David', 'stop', 'husband', 'wouldn', 'complete', 'sometimes', 'coming', 'except', 'brother', '##id', 'looked', 'career', 'obviously', 'crap', '##age', 'score', 'shown', 'highly', 'wonder', 'age', 'whose', 'hero', 'Although', 'annoying', '##ey', 'number', '##ck', 'serious', 'Oh', 'alone', 'taken', 'English', 'musical', 'relationship', '##ated', '##f', 'jokes', 'hours', 'yourself', 'First', 'simple', 'started', 'exactly', 'released', 'somewhat', 'ends', 'novel', 'level', 'opinion', 'change', 'possible', '##ton', '##ts', 'sad', '##led', 'opening', 'Robert', 'reality', 'finds', 'gore', '##il', 'ridiculous', 'across', 'shots', 'usual', 'cinematography', 'ones', 'Man', 'murder', 'hilarious', 'light', 'cut', 'view', 'song', 'talking', 'documentary', 'female', '##at', '##ent', 'despite', 'body', 'episodes', 'saying', '##ure', 'talent', 'turned', 'running', 'living', 'save', 'important', 'police', 'disappointed', 'single', 'taking', 'events', 'OK', 'cool', 'attention', 'word', 'huge', 'wish', 'British', 'middle', 'Paul', 'modern', 'usually', 'order', 'songs', 'blood', 'knew', 'mostly', 'scary', 'non', 'tells', 'Jack', 'happy', 'thriller', 'problems', 'comic', 'room', 'sequence', 'knows', 'local', 'call', 'aren', 'due', 'silly', 'future', 'cheap', 'television', 'country', 'easily', 'George', 'class', '##Y', '##ve', 'sets', 'bring', 'words', 'Richard', 'supporting', 'strange', '##ible', 'Oscar', 'appears', 'major', 'similar', '##am', '##D', '##T', 'predictable', 'romantic', 'clearly', 'enjoyable', 'moving', 'seriously', 'needs', 'entertainment', 'Maybe', 'Unfortunately', 'falls', 'Yes', 'giving', 'message', 'review', '##A', 'From', 'God', 'herself', 'fast', 'mention', 'sequel', 'hell', 'points', 'four', '##ious', 'feels', 'Lee', '##is', 'stand', 'theme', 'ways', 'York', 'above', 'five', 'surprised', '##ll', 'near', '##ning', 'release', 'animation', 'King', 'effort', 'none', 'straight', '##ring', 'power', 'haven', 'storyline', 'dull', 'upon', 'actual', 'named', 'within', 'clear', 'nearly', 'talk', 'working', 'elements', '##ary', '##ley', 'bunch', 'minute', 'overall', '##les', 'beyond', '##1', 'viewers', 'begins', 'feature', 'team', 'tried', '##b', '##ped', 'Peter', '##c', 'form', 'means', 'dialog', 'easy', '##ized', 'comments', 'rating', 'showing', 'tale', 'typical', 'Her', 'material', 'Tom', 'figure', 'follow', 'using', '##dy', 'realistic', 'soundtrack', 'famous', 'editing', 'sister', 'Who', 'hate', 'kept', 'fantastic', 'doubt', 'fall', '##ay', 'Disney', 'ten', 'weak', 'theater', 'leads', '##ating', 'An', 'certain', 'period', '##ny', '##w', 'viewing', 'Like', '##ual', '##ue', 'brought', 'Its', '##ner', 'atmosphere', 'particular', 'whether', 'hear', 'sequences', 'parents', '##land', 'America', 'eye', 'Is', 'filmed', '##0', 'among', 'city', 'crime', '##ke', 'reviews', '##ut', 'suspense', 'Japanese', 'stay', 'learn', '##as', 'These', 'apparently', 'move', 'premise', 'greatest', 'stage', 'believable', 'sexual', 'Most', 'decided', 'subject', 'basically', 'expected', 'lame', '##2', 'average', 'buy', 'French', 'deal', '20', 'mystery', 'became', '##de', '##na', 'surprise', 'difficult', 'sit', 'nature', 'poorly', 'By', '##ably', 'killing', '##son', 'add', 'leaves', 'needed', 'Dr', 'yes', '##ma', '##ter', 'lots', 'question', 'Here', 'Joe', 'begin', '##ad', 'credits', 'gone', '##per', '##ile', '##ving', 'situation', 'NOT', 'meets', 'possibly', 'somehow', 'forced', '##by', 'Overall', 'memorable', 'write', '##ice', 'free', 'acted', 'dramatic', 'dance', 'earlier', 'emotional', 'realize', 'screenplay', 'older', 'reading', 'Jane', 'male', 'season', 'truth', 'die', 'superb', '##ial', 'laughs', '##5', 'interested', 'comment', 'third', 'footage', 'writers', 'directors', 'forward', '##ess', 'keeps', 'romance', 'anyway', 'society', 'badly', 'mess', 'rent', 'wait', 'whom', 'open', 'War', 'features', 'imagine', 'worked', 'perfectly', 'result', 'quickly', 'setting', 'creepy', 'effect', 'unique', 'please', 'brings', 'weird', 'development', 'directing', 'forget', 'meet', 'nor', 'previous', 'admit', '30', 'appear', 'ask', 'joke', 'rate', '##4', '##O', 'personal', 'background', 'girlfriend', '##9', 'Another', 'business', 'create', 'cheesy', 'meant', 'Christmas', 'powerful', '##ance', '##ard', 'eventually', '##ier', 'fails', '##ud', 'general', 'present', 'towards', 'check', 'political', 'potential', 'fantasy', '80', 'hands', 'leading', 'masterpiece', 'portrayed', '##fully', 'telling', '##os', 'Ben', 'William', 'box', 'deep', 'incredibly', 'villain', 'sorry', 'various', 'Or', 'ideas', 'reasons', 'IMDb', 'fighting', 'note', '##way', 'casting', 'era', 'shame', '##R', 'hot', 'pay', 'sounds', 'deserves', 'break', 'front', 'manages', 'Scott', 'expecting', 'indeed', '##ro', 'plenty', 'attempts', 'battle', 'remake', 'crazy', 'missing', '##cy', 'space', 'success', 'talented', '##mer', 'beauty', 'total', 'twist', '##my', 'cop', 'miss', 'copy', 'outside', '##ler', 'agree', 'fairly', '##N', 'nudity', '##line', 'whatever', '##7', '##me', 'flat', '##ging', '##io', 'Good', 'wrote', 'Great', 'dumb', 'inside', 'mentioned', '##ger', 'air', 'gay', 'married', 'social', 'hardly', '##pe', '##ur', 'cute', '##rd', 'monster', '##red', '##tic', '##tor', 'wasted', 'Mary', 'plain', 'recently', 'dream', '##ged', 'filmmakers', '##8', '##ns', '##tive', 'Instead', 'ended', 'crew', 'missed', '##un', 'Director', 'Let', 'caught', 'decides', 'members', '##ney', 'Bill', 'list', 'pace', '##up', 'co', 'created', 'large', 'popular', '##der', 'waiting', 'Star', 'lady', 'uses', '##ding', 'convincing', 'match', 'produced', 'sees', 'US', 'spent', 'familiar', 'slightly', '##ING', 'further', 'hold', '##3', '90', 'odd', 'rich', 'unless', '##istic', 'filled', 'dog', 'entirely', 'public', 'tension', 'unfortunately', 'Perhaps', 'moves', 'bored', '##ir', '##sh', '15', 'Best', 'laughing', 'value', 'boys', 'choice', 'successful', 'concept', 'intelligent', 'zombie', '##ise', 'credit', 'dancing', 'pure', '##ors', '##py', 'Italian', 'clever', '##tte', 'Movie', '##6', '##ize', 'Do', 'positive', 'World', 'cover', '##cing', 'Tony', 'cartoon', 'store', 'visual', '##ina', 'kills', 'language', 'speak', '##ick', 'depth', 'effective', 'following', '##K', 'portrayal', '##M', '##ates', 'appreciate', 'recent', 'House', 'exciting', 'focus', 'biggest', '##ast', 'German', '##ct', 'Dead', 'apart', 'escape', '##ee', 'amusing', 'common', 'control', 'runs', 'died', 'fire', 'former', 'incredible', 'singing', 'spend', 'Night', 'follows', 'violent', '##ung', 'impressive', 'younger', 'Still', 'amount', 'water', '##time', 'Black', 'books', 'sweet', 'compared', 'adult', 'bizarre', 'respect', '##ld', 'cause', 'office', '##ol', 'makers', 'revenge', 'win', 'avoid', 'pointless', 'showed', 'otherwise', 'chemistry', 'weren', 'culture', 'gun', 'solid', 'trouble', 'accent', 'changed', 'fi', 'fit', 'situations', '50', 'Smith', 'Steve', 'considered', 'decide', 'hair', '##ions', 'suddenly', 'Jim', 'secret', 'trash', 'failed', '##P', 'animated', 'disturbing', 'party', '##rt', 'Anyway', 'slasher', 'baby', 'longer', 'studio', '##ain', 'questions', 'barely', 'consider', 'producers', 'shooting', 'trip', 'walk', '##nd', '##oo', 'adventure', 'honest', 'conclusion', 'sick', 'Very', 'fake', 'Though', 'likes', 'values', 'City', 'audiences', 'impossible', 'involving', 'rock', 'Big', 'Stewart', 'Watch', 'tough', 'band', 'leaving', 'college', 'doctor', 'heavy', 'meaning', 'sci', 'state', '##ster', '100', 'London', 'People', '##ap', '##ical', 'earth', 'images', '##iness', 'charming', 'cult', 'rated', '##ned', '##ow', 'ability', 'awesome', 'bought', '##ily', 'anti', 'computer', 'starring', '##la', 'Only', 'company', 'return', '##ss', 'Where', '##G', 'appearance', '##H', 'explain', 'garbage', 'literally', 'normal', '##L', 'Earth', 'Harry', 'Sam', 'appeal', 'pathetic', 'Every', 'immediately', 'oh', 'adaptation', 'cold', 'prison', 'touch', 'week', '##ties', 'Two', 'basic', '##ds', '##ire', 'aspect', 'genius', 'Because', 'Despite', '##men', 'Love', 'somewhere', 'standard', 'ultimately', 'post', 'purpose', 'stick', 'rare', 'utterly', '##op', '##bly', 'Charlie', 'considering', 'red', 'fear', 'humour', '##ities', 'glad', 'neither', 'thinks', '70', 'shoot', 'loud', 'sitting', 'terms', 'twists', '##bs', 'Kelly', 'magic', 'project', '##king', '##tes', 'comedies', 'ex', 'drawn', 'military', 'sexy', 'spirit', 'generally', '##om', '##ug', 'mood', 'pick', 'zombies', '##C', 'added', 'managed', 'street', 'subtle', 'touching', '##its', 'OF', 'motion', 'natural', 'unbelievable', '##ans', '##ls', 'okay', 'tone', '##ks', 'Nothing', 'catch', 'likely', 'narrative', '##da', '##ray', 'nowhere', 'climax', 'force', 'fully', 'themes', 'Film', 'Frank', 'plus', '##ration', 'complex', 'taste', 'terrific', '##ot', 'Chris', 'Sure', 'issues', 'laughable', 'remains', 'century', 'mistake', '##one', '##to', '##ze', 'constantly', 'surprisingly', 'door', 'science', 'victim', '##her', 'date', 'finish', 'presented', '##ide', 'Christopher', 'equally', 'key', 'manner', 'presence', '##out', 'Yet', 'costumes', 'fair', '##lin', 'beautifully', 'drive', 'excuse', 'painful', 'pieces', 'scenery', 'Once', 'innocent', 'Paris', 'impression', '##ite', 'brain', 'developed', 'disappointing', 'knowing', 'marriage', 'cinematic', 'details', 'thrown', 'Charles', 'alive', 'Allen', 'historical', 'pass', 'places', '##co', 'animals', 'disappointment', 'exception', 'dreams', 'hoping', 'super', 'Henry', 'charm', 'numbers', '##oe', '##ries', 'aspects', 'photography', 'unlike', '##ery', '##v', 'stands', '##ves', 'expectations', 'slowly', 'Rock', 'feelings', 'outstanding', 'stunning', 'suppose', '##F', '##ons', '##ps', '##ress', 'Batman', 'Bruce', 'Jones', 'boyfriend', 'emotion', 'mysterious', 'recommended', 'sent', '##ack', 'drug', 'Indian', 'held', 'lovely', 'opportunity', 'track', 'fiction', 'filming', 'names', 'noir', 'support', 'walking', '##ky', '##ore', '40', 'Will', 'bother', 'intended', '##I', '##rn', 'Young', 'building', 'contains', 'soldiers', '##ron', 'Many', 'cat', '##tt', 'Little', 'South', 'acts', 'edge', 'emotions', 'likable', 'producer', '##ations', '##bed', 'attack', 'compelling', 'government', 'happening', 'silent', 'soul', 'gang', 'lived', 'pictures', '##all', 'changes', 'ride', '##ker', 'brief', 'puts', '##ward', 'available', 'dies', 'fascinating', 'loves', 'suggest', '##ple', 'Story', 'bar', 'detective', 'lover', 'tired', '##W', 'element', 'include', 'smart', '##im', '##ng', '##ust', 'De', 'difference', '##and', '##rate', 'bed', 'camp', 'critics', 'pain', 'victims', '##ants', '##ha', 'mainly', 'offer', 'Other', '11', 'journey', 'law', 'minor', 'spot', 'Christian', 'appeared', 'approach', 'dad', 'serial', '##right', 'fellow', 'hasn', 'western', '##V', '##lock', '##med', 'adults', 'actresses', 'train', 'II', 'Jerry', 'fresh', 'image', 'student', 'lacks', 'share', '##ms', '##ris', 'Martin', 'confused', 'falling', 'mad', '##ale', '##ba', 'Billy', 'Both', 'event', 'followed', 'god', '##uck', 'Americans', 'West', 'flaws', 'trailer', '##ber', 'Red', 'mix', '##ments', 'Arthur', 'confusing', 'helps', 'relationships', 'system', 'content', '##izing', 'Please', 'rape', 'road', 'shock', '##ta', '##uring', 'ahead', 'lighting', 'moral', 'proves', 'worthy', '##hy', '##ming', 'flicks', 'imagination', 'naked', '##ction', '##ill', '##ited', '##ured', 'laughed', 'mediocre', 'merely', 'porn', 'standards', 'sub', 'wondering', '##ric', 'Davis', 'brothers', 'color', 'delivers', 'students', '##day', '##ft', '##sed', '##sion', 'direct', 'latter', 'tragedy', '##ins', 'Brian', 'boss', 'creative', 'forever', 'gem', 'gorgeous', 'attractive', 'childhood', 'forgotten', 'negative', 'paid', 'provides', 'aside', 'impressed', 'nobody', 'throw', 'Alan', 'chase', 'random', '##ang', '##house', '##ude', 'IS', 'addition', 'justice', 'notice', 'offers', 'murders', 'putting', 'step', 'Having', 'Too', 'opera', 'surely', 'tragic', '##work', 'Williams', 'becoming', 'funniest', 'inspired', 'thoroughly', 'winning', '##ence', 'Jean', 'Van', 'island', 'sadly', 'thanks', '##ings', 'answer', 'central', 'cliché', '##ight', 'detail', 'fashion', 'million', 'stuck', 'double', 'fell', 'ghost', 'pull', 'reminded', 'twice', 'Bad', 'Ms', 'honestly', 'seemingly', 'ship', '##ied', '##ingly', '##lo', 'wall', '##lessly', 'Day', 'Jackson', 'adds', '##tle', 'wise', 'apartment', 'de', 'ground', 'personality', 'plan', 'planet', 'race', '##ges', 'Since', 'afraid', 'industry', 'information', 'intense', 'length', 'location', 'turning', '##side', 'Mark', 'affair', 'folks', 'supposedly', '##rated', '##sy', 'Life', 'ready', 'six', '##ering', '12', 'artistic', 'giant', 'rented', 'shocking', '##nts', 'AND', 'Danny', 'asks', 'describe', 'filmmaker', 'seconds', 'anymore', 'area', 'artist', 'design', '##B', '##ened', 'Chinese', 'absolute', 'deliver', 'hospital', 'onto', 'picked', '##ians', '##uous', 'extreme', 'faces', 'nasty', 'quick', 'speaking', '##den', '##ists', '##ver', 'Everything', 'finding', 'lose', 'redeeming', 'scientist', 'struggle', '##be', '##lan', '##non', 'cry', 'helped', 'member', 'professional', '##ade', '##field', 'Can', 'collection', 'holes', 'impact', 'led', 'Stephen', 'White', 'allowed', 'clothes', 'necessary', 'shouldn', 'wearing', 'Jason', 'moved', 'Their', 'began', 'drugs', '##ig', 'Ray', 'whatsoever', '##bing', '##li', '##ni', 'Which', 'build', 'includes', 'willing', 'bottom', 'damn', 'favourite', 'mouth', 'realized', '##ell', '##ki', '##light', 'angry', 'beat', 'flying', 'hotel', 'Before', 'deeply', 'energy', 'everybody', 'intelligence', 'master', 'sight', 'teen', '##ute', 'Taylor', 'sleep', 'vampire', 'wonderfully', 'wooden', '##que', 'Al', 'Douglas', 'born', 'comedic', '##LY', '##ens', 'accident', 'introduced', 'loving', 'mid', 'Andy', 'actions', 'phone', 'suicide', 'ugly', '##ball', '##ures', 'Finally', 'apparent', 'mark', 'tears', 'thus', '##ai', '##ator', '##ncy', 'epic', 'thin', 'Keaton', 'carry', 'disaster', 'martial', '##kes', 'Eddie', 'See', 'dying', 'extra', 'food', 'plane', 'superior', 'teacher', '##lt', 'Did', 'Johnny', 'commentary', 'continue', 'engaging', 'land', 'listen', 'provide', '##ino', 'Go', 'Those', '##ah', 'agent', 'humans', 'religious', 'remarkable', '##ford', '##ten', 'Tim', 'mental', 'physical', 'pleasure', '##ised', '60', '80s', 'Hitler', 'Joan', 'anywhere', 'personally', 'process', 'unnecessary', 'unusual', '##port', '000', 'accept', 'finished', 'memory', 'paced', 'scared', 'station', 'Fred', 'Jeff', 'Kate', 'Miss', 'Russian', 'technical', '##ea', '##ip', 'Adam', 'exist', 'teenage', '##ER', '##ced', '70s', 'Ford', 'lets', 'surprising', 'watchable', 'Horror', 'absurd', 'limited', '##ified', '##sm', 'CGI', 'allow', 'compare', 'holds', 'mom', 'pop', 'wild', 'Ed', 'England', 'bits', 'brutal', 'creature', 'news', '##ail', '##sing', 'criminal', 'desperate', 'independent', 'suspect', '##gy', 'asked', 'vision', 'woods', 'Everyone', 'Jr', 'Shakespeare', 'intriguing', 'pilot', 'soft', 'treat', 'wanting', '##ines', '##ka', '##well', 'Okay', 'Was', 'heroes', 'instance', 'rip', '##che', 'club', 'player', 'rarely', 'sat', 'search', 'issue', 'pacing', 'reminds', 'smile', '##ara', 'deserved', 'grade', 'heroine', 'Japan', 'arts', 'capture', 'clichés', 'count', 'deserve', 'gotten', 'jump', '##aking', '##rian', 'accurate', 'explained', 'media', 'thats', '##tions', 'Ann', 'Jesus', 'explanation', 'heads', 'players', 'plots', '##vin', 'Kevin', 'Lady', 'community', 'cops', 'creating', 'drunk', 'hated', 'hidden', 'knowledge', 'lovers', '##ave', 'blame', 'fights', 'ill', 'nicely', 'torture', '##ching', '##des', '##rain', '##sive', 'anybody', '##ces', '##cted', '##ded', 'Me', 'Superman', 'VHS', 'church', 'constant', '##ush', 'Freddy', 'channel', 'cross', 'desire', 'nonsense', 'pre', 'record', '##berg', 'Dark', 'European', 'Nick', 'Spanish', 'army', 'hadn', '##é', 'fail', 'floor', 'growing', 'hurt', 'Tarzan', 'animal', 'friendship', 'mixed', 'responsible', 'suit', 'toward', 'Morgan', 'games', 'returns', 'treated', '##ose', 'aware', 'humanity', 'partner', 'pulled', 'roll', 'villains', 'Jimmy', 'Lewis', 'cars', 'hopes', 'met', 'noticed', 'results', 'Dick', 'Simon', 'manage', 'quiet', 'realism', '##ative', '##bert', 'hits', 'included', 'lies', 'loss', 'memories', 'understanding', '##ane', '##ham', 'Gary', 'Lynch', 'conflict', 'loose', 'months', '##rity', 'Show', 'bloody', 'lacking', 'sign', 'twenty', '##lly', 'Mike', 'Washington', 'award', 'bland', 'concerned', 'finest', 'skills', 'soldier', 'talents', 'terribly', '##een', '##ub', 'Eric', 'author', 'cable', 'dangerous', 'discovered', 'mine', 'saved', '##ash', 'Blood', 'delightful', 'perspective', 'rubbish', '##ST', '##rey', 'Gene', 'Wow', 'dealing', 'discover', 'finale', '##ory', '##ular', 'Albert', 'Anthony', 'Santa', 'cuts', 'dated', 'eating', 'guns', 'keeping', 'passion', 'portray', 'pretentious', 'unknown', '##do', '13', 'Street', 'alien', 'originally', 'prove', 'youth', '##ca', 'THIS', 'behavior', 'bigger', 'driving', 'gags', 'humorous', 'kinda', 'locations', 'loses', 'regular', 'reviewers', 'soap', 'visit', 'Sean', 'continues', 'edited', 'joy', 'machine', 'murdered', 'numerous', 'opposite', 'owner', 'psychological', 'theatre', 'unfunny', '##uing', 'Death', 'High', 'context', 'empty', 'horse', 'received', 'sucks', '##ach', '##ever', 'ass', 'breaks', 'bright', 'deals', 'kick', 'satire', 'yeah', '##va', 'Jennifer', 'Last', 'Luke', 'Mrs', 'below', 'captured', 'existence', 'featuring', 'opens', 'remembered', 'traditional', 'ups', 'starting', '##ock', 'Bob', 'SPOILERS', 'advice', 'cameo', 'debut', 'ordinary', '##ini', '##ok', 'Howard', 'Lord', 'dimensional', 'efforts', 'faith', 'forces', 'ladies', 'revealed', 'summer', 'wide', '##val', '##ville', 'Avoid', 'Harris', 'Thomas', 'calls', '##back', '##oy', '##ually', 'African', 'genuine', 'learned', 'sing', '##ga', 'Really', 'Welles', 'blue', 'core', 'current', 'develop', 'somebody', 'survive', 'versions', 'witty', '##ri', 'Anna', 'Anne', 'Dan', 'Kong', 'Marie', 'visuals', '##ered', 'comparison', 'decade', 'grew', 'grown', '##our', 'Cage', 'awkward', 'gangster', 'genuinely', 'proved', 'seven', '##dle', '##olf', '##wood', 'Stone', 'allows', 'formula', 'officer', 'reach', 'reaction', 'segment', 'shallow', 'singer', '##AY', '##ics', '##pes', 'eat', 'types', '##go', 'Sinatra', 'brilliantly', 'creates', 'leader', 'overly', 'parody', 'passed', 'radio', 'study', 'suffering', 'therefore', 'unexpected', '##gs', '##rable', '##vy', '##zing', 'Much', 'Time', 'failure', 'frame', 'higher', 'program', 'references', 'site', 'spectacular', 'steal', 'strength', '##hip', 'Barbara', 'favor', 'stereotypes', 'trust', '##ature', '##els', 'Watching', 'delivered', 'sake', 'screaming', 'sheer', 'sucked', 'unable', 'wedding', '##ather', '##ship', '##tain', 'Anyone', 'Robin', 'blind', 'connection', 'executed', 'powers', 'relief', 'technology', '##ets', '##ght', 'curious', 'discovers', 'fate', '##gan', '##ime', '##lay', '##pt', '##ti', '##zy', 'Steven', 'Wars', 'corny', 'fault', 'laughter', 'lesson', 'morning', 'travel', 'window', '##fied', '##ome', '##res', '##unt', 'Are', 'Fox', 'Parker', 'board', 'gonna', 'pair', '##ES', '##au', '##board', 'Broadway', 'Gordon', 'bank', 'built', 'caused', 'emotionally', 'entertained', 'luck', 'majority', '##lish', '##ood', '##tch', 'monsters', 'protagonist', 'Daniel', 'More', 'clean', 'driven', 'families', 'flashbacks', 'relate', 'spoilers', '##AN', '##ax', '##bi', '##end', '##ising', '##ture', 'Academy', 'Men', 'Part', 'Wayne', 'attitude', 'commercial', 'gold', 'painfully', 'vehicle', 'Sadly', 'blonde', 'crappy', 'levels', 'treatment', 'ultimate', '##als', '##ken', '##od', 'France', 'Halloween', 'graphic', 'identity', 'individual', 'logic', 'meeting', 'occasionally', 'sell', 'wit', '##head', 'Joseph', 'Western', 'combination', 'gory', 'gratuitous', 'obsessed', '##kin', '##rid', '##ull', '##ury', 'Jackie', 'Victoria', 'described', 'dressed', 'fill', 'irritating', 'range', 'seat', 'stock', '##OW', '##ole', 'Asian', 'aged', 'dry', 'excited', 'magnificent', 'ran', 'sympathetic', '##OR', '##ald', '##ium', 'Again', 'Cinderella', 'IT', 'Prince', 'Victor', 'assume', 'believes', 'bet', 'broken', 'decision', 'dreadful', 'fat', 'pleasant', 'produce', 'underrated', '##nda', 'Woody', 'portrays', 'religion', 'reviewer', 'ring', 'seasons', 'send', 'standing', 'tape', 'thank', 'theaters', '##ition', '##oon', '##ree', '##tal', 'Alex', 'La', 'ages', 'asking', 'learns', 'lucky', 'model', 'product', 'stopped', '##ked', '##use', 'Being', 'Canadian', 'Grant', 'Matt', 'Nancy', 'None', 'capable', 'chosen', 'contrived', 'hearted', '##ued', '##ulated', 'Roy', 'Without', 'appealing', 'boat', 'embarrassing', 'endless', 'essentially', 'exploitation', 'foot', 'involves', 'mission', 'par', 'practically', 'proper', 'ruined', 'Actually', 'Anderson', 'Bond', 'Brown', 'Lost', 'desert', 'grow', 'handsome', 'largely', 'utter', 'warm', '##cher', '##mo', '##stic', 'Germany', 'Louis', 'May', 'feet', 'hey', 'normally', 'portraying', 'shop', '##nding', '##position', '##vation', '##zed', 'Later', 'Patrick', 'Plus', 'appropriate', 'cares', 'choose', 'claim', 'field', 'foreign', 'insane', 'unrealistic', '##ars', '##ich', '##iest', 'Girl', 'Trek', 'Walter', 'contrast', 'costs', 'evidence', 'safe', 'streets', 'warning', 'whilst', '##ett', '##rm', 'Captain', 'Moore', 'UK', 'depressing', 'dubbed', 'facts', 'fame', 'round', 'substance', '##ization', '##night', '##uff', 'Ryan', 'THAT', 'ancient', 'circumstances', 'hearing', 'judge', 'rescue', 'saving', 'thoughts', 'vs', 'zero', '##ak', '##form', '##ibly', 'About', 'excitement', 'naive', 'sequels', '##low', '##no', '##unk', 'Europe', 'chick', 'crowd', 'flesh', 'research', 'scare', 'village', 'visually', 'voices', '##ath', '##cle', 'Any', 'Never', 'cost', 'fits', 'satisfying', 'sports', 'talks', 'tend', 'theatrical', 'whenever', '##mate', '##ulate', 'captures', 'convinced', 'marry', 'nominated', '##ame', '##cies', '##iled', '##ils', '##read', '##room', 'ALL', 'Look', 'Park', 'Powell', 'asleep', 'ball', 'destroy', 'generation', 'lousy', 'matters', 'relatively', 'spoil', 'teenager', 'teenagers', '##ED', '##are', '##ube', 'Africa', 'Oliver', 'Saturday', 'Wood', 'cash', 'tedious', 'walks', '##RE', '##ically', '##late', '##nie', 'Apparently', 'amateurish', 'com', 'correct', 'covered', 'paper', 'rental', '##ith', '##oot', 'Murphy', 'Old', 'anime', 'bear', 'depicted', 'disgusting', 'fare', 'insult', 'losing', 'steals', 'strongly', '##ously', '##uise', '14', 'Che', 'Evil', 'Hitchcock', 'amateur', 'contemporary', 'factor', 'handled', 'market', '##ved', 'Besides', 'Russell', 'clue', 'inner', 'offensive', 'remain', 'unlikely', '##ability', '##aring', '##rant', 'Sometimes', 'Texas', 'believed', 'bodies', 'category', 'holding', 'qualities', 'vote', '##away', '##nds', '##und', 'Australian', 'Kim', 'bomb', 'costume', 'initial', 'liners', 'priest', 'promise', 'provided', 'rise', 'shocked', 'structure', 'test', '##ively', '##lls', '##lum', '##wing', 'NO', 'Thank', 'Three', 'angles', 'bringing', 'classics', 'dirty', 'display', 'drag', 'football', 'horribly', 'pile', 'pity', 'scale', 'semi', 'sudden', 'touches', 'unfortunate', 'viewed', 'virtually', '##LE', '##em', '##etic', '##nne', '##rious', 'Basically', 'Columbo', 'During', 'Page', 'Yeah', 'baseball', 'claims', 'lawyer', 'mini', 'refreshing', 'section', '##ear', '##fer', '##han', '##rier', 'cutting', 'evening', 'fly', 'focused', 'green', 'lower', 'makeup', 'promising', 'witch', '##art', 'Clark', 'accents', 'chose', 'designed', 'movement', 'plans', 'recall', 'reporter', 'serves', 'source', 'training', 'uncle', '##dom', '##ff', '##ral', '25', 'Caine', 'Emma', 'Our', 'besides', 'influence', 'latest', 'mainstream', 'ruin', 'speaks', 'suffers', 'surprises', '##J', '##ep', '##wn', 'Brothers', 'Festival', 'Meanwhile', 'Movies', 'Pacino', 'Rob', 'Roger', 'Wilson', 'continuity', 'deaths', 'degree', 'experiences', 'hanging', 'print', '##act', '##aving', '##matic', '##uss', 'Edward', 'MGM', 'accidentally', 'festival', 'forgettable', 'politics', 'presents', 'propaganda', 'realizes', 'related', 'repeated', 'skip', 'speech', 'surreal', '##dies', '##eed', '##itch', '##play', '##row', '##scent', 'States', 'cartoons', 'closer', 'draw', 'drop', 'harsh', 'hide', 'mistakes', 'notch', 'previously', 'routine', 'supernatural', '##atic', '##iac', 'breaking', 'convince', 'creatures', 'danger', 'faced', 'killers', 'private', 'uninteresting', 'weeks', '##ient', '##ul', 'Come', 'Especially', 'Queen', 'center', 'frankly', 'path', 'struggling', 'teens', 'witness', '##formed', '##ister', '##ranged', 'Lugosi', 'appreciated', 'highlight', 'la', 'nude', 'skin', '##cks', '##let', 'Alice', 'Sarah', 'Second', 'Take', 'Zombie', 'cant', 'legend', 'rules', 'sharp', '##ently', '##mark', '##rance', '##town', '##wards', 'Baby', 'Pitt', 'Rose', 'United', 'VERY', 'committed', 'freedom', 'frightening', 'recognize', 'walked', '##ntly', '##over', '##sa', '##sts', '##ule', 'Chan', 'Killer', 'Sullivan', 'combined', 'erotic', 'experienced', 'offered', '##ren', '##unch', 'Donald', 'Irish', 'Sci', 'kinds', 'narration', 'occasional', 'surface', '##gle', '##ining', 'Bourne', 'Drew', 'Friday', 'abuse', 'according', 'directly', 'forth', 'gritty', 'reputation', 'sorts', 'target', 'till', '##ches', '##rating', '##rew', '##ses', '##ump', 'Boy', 'California', 'Hell', 'Hong', 'Island', 'Vietnam', 'atrocious', 'changing', 'figures', 'reveal', '##rong', 'Back', 'Get', 'Rachel', 'Sunday', 'belief', 'castle', 'colors', 'dollars', 'dozen', 'execution', 'featured', 'paint', 'performed', 'remotely', 'spends', 'trilogy', '##anic', 'Green', 'Hoffman', 'Unlike', 'downright', 'effectively', 'explains', 'false', 'friendly', 'grace', 'grand', 'junk', 'massive', 'melodrama', 'passing', 'price', 'regret', 'required', 'speed', 'suspenseful', '##ogue', '##quire', 'Freeman', 'Max', 'Ted', 'account', 'anger', 'buddy', 'eight', 'everywhere', 'extras', 'fictional', 'figured', 'guilty', 'hired', 'imagery', 'jobs', 'legendary', 'placed', 'scares', 'stolen', 'werewolf', 'worthwhile', '##air', '##chy', '##hed', '##hin', '##ues', '##za', 'Definitely', 'Johnson', 'Jon', 'Music', 'Otherwise', 'Someone', 'bothered', 'crying', 'favorites', 'haunted', 'insight', 'river', 'statement', 'subtitles', 'twisted', '##ena', '##inal', '##ison', '##ita', '##lm', '##nes', '##old', '##rel', 'Branagh', 'Each', 'naturally', 'proud', 'spoiler', 'sympathy', 'wear', '##fe', '##kins', '##lia', '60s', 'Have', 'Hey', 'buying', 'pulls', 'starred', 'trapped', 'unconvincing', '##bit', '##gate', '1950', 'Devil', 'Lisa', 'Mexico', 'Ron', 'amazed', 'awards', 'blah', 'blown', 'brave', 'crude', 'focuses', 'handed', 'multiple', 'reveals', 'stayed', '##AR', '##ats', '##gn', '##ined', '##oom', '##ried', 'Julia', 'Larry', 'Ned', 'Sky', 'Susan', 'abandoned', 'bore', 'device', 'idiot', 'lesbian', 'magical', 'rough', 'tight', 'views', '##ched', '##hood', '##ished', '##ix', '##lip', '##lon', '##worth', 'Christ', 'Dean', 'Full', 'Moon', 'San', 'Sidney', 'Things', 'minds', 'page', 'paying', 'scenario', 'significant', 'status', 'stays', 'vampires', 'veteran', 'winner', '##aded', '##die', '##itive', '##ply', 'Over', 'achieve', 'bus', 'clichéd', 'delivery', 'exact', 'format', 'necessarily', 'skill', 'variety', '##EN', '##X', '##gue', '##iant', '##ider', '##oke', '##ope', '##tract', 'India', 'conversation', 'heavily', 'position', 'security', 'sensitive', 'spite', 'weekend', '##AL', '##ME', '##ban', '17', 'Mexican', 'Nazi', 'Police', 'Titanic', 'YOU', 'breath', 'teeth', 'understood', '##ern', '##ift', '##place', '##rk', 'complicated', 'decades', 'deeper', 'destroyed', 'flashback', 'intellectual', 'king', 'prior', 'suffer', 'wind', '##acy', '##alk', '##ama', '##lash', '##rie', 'Dennis', 'Your', 'cultural', 'listening', 'mature', 'murderer', 'pregnant', 'renting', 'table', '##ink', '##point', '##rry', '1980', 'Army', 'Brad', 'Does', 'Sorry', 'environment', 'expert', 'gas', 'inept', 'sounded', 'stereotypical', 'theory', '##iting', 'Elizabeth', 'Maria', 'Something', 'answers', 'blow', 'closing', 'facial', 'fu', 'helping', 'racist', 'settings', 'slapstick', 'task', 'welcome', '##cious', '##mon', '##ura', 'BBC', 'Fi', 'Julie', 'Leslie', 'Warner', 'artists', 'campy', 'depiction', 'description', 'forgot', 'haunting', 'ludicrous', 'prefer', 'screening', '##ON', '##ead', '##pers', '##rass', '##une', '##worthy', 'Acting', 'Blue', 'Lincoln', 'Soon', 'convey', 'disbelief', 'examples', 'expression', 'extent', 'greater', 'interview', 'native', 'peace', 'quirky', '##ening', '##gh', '##hi', '##mates', '##og', '##yer', 'Claire', 'MOVIE', 'Michelle', 'Seriously', 'birth', 'choices', 'con', 'criminals', 'critical', 'desperately', 'encounter', 'entertain', 'funnier', 'sisters', 'spoof', 'suck', '##GE', '##mb', '##mination', '##reed', '##tly', '##vated', 'China', 'Next', 'Rogers', 'basis', 'comical', 'criticism', 'dress', 'faithful', 'mere', 'mildly', 'picks', 'psycho', 'reminiscent', 'sea', 'storytelling', '##ass', '##ci', '##iment', '##ites', '##oney', 'IN', 'North', 'Sandler', 'Stanley', 'True', 'afternoon', 'cell', 'crash', 'department', 'drinking', 'heck', 'novels', 'praise', 'prepared', 'prime', 'raised', 'titles', 'touched', '##ache', '##beat', '##ibility', '##logy', '##ressive', '##rts', '##uel', 'Guy', 'aka', 'base', 'beloved', 'crafted', 'handle', 'indie', 'jail', 'kung', 'originality', 'stomach', 'throws', 'tiny', '##eon', '##mber', '##off', '##ram', '##ride', '2000', 'Brooks', 'Burt', 'Grade', 'Hardy', 'Jessica', 'Miller', 'Such', 'causes', 'enemy', 'extraordinary', 'inspiration', 'lights', 'lonely', 'properly', 'provoking', 'spoken', 'succeeds', 'term', 'throwing', 'timing', 'treasure', 'truck', '##bie', '##bles', '##don', '##down', '##ially', '##nal', '##otic', '2006', 'SPOILER', 'Space', 'authentic', 'caring', 'international', 'introduction', 'musicals', 'protect', 'regard', 'serve', 'via', 'warned', '##LD', '##ict', '##rates', '##ream', '##shed', '##udge', '1970', 'Cooper', 'Matrix', 'TO', 'Tracy', 'breathtaking', 'calling', 'hat', 'reference', 'sword', 'USA', 'carried', 'carries', 'established', 'gross', 'headed', 'mask', 'productions', 'purely', 'summary', 'universe', 'weapons', '##ents', '##ummy', '##wer', '##win', 'Be', 'DO', 'Holmes', 'Out', 'Philip', 'ain', 'arrives', 'carrying', 'challenge', 'confusion', 'escapes', 'gruesome', 'happiness', 'interpretation', 'minded', 'quest', 'remote', 'replaced', 'rights', 'rule', 'seek', 'sheriff', 'sitcom', 'sleazy', 'workers', '##CK', '##ulation', '##uth', '2001', 'Channel', 'Reed', 'Return', 'daughters', 'embarrassed', 'enjoying', 'essential', 'existent', 'graphics', 'halfway', 'hip', 'ignore', 'join', 'lazy', 'locked', 'maker', 'sold', 'successfully', 'tradition', '##mi', '##ody', '##osing', '##ys', 'Blair', 'Give', 'Stanwyck', 'Sutherland', 'attacked', 'balance', 'cases', 'determined', 'driver', 'everyday', 'exists', 'fairy', 'flow', 'jumps', 'lie', 'mentally', 'obnoxious', 'presentation', 'service', 'sinister', 'wears', '##asy', '##iving', '##mm', '##tors', 'Bettie', 'Brando', 'Laura', 'arms', 'bitter', 'clips', 'deadly', 'regarding', 'rolling', 'wins', '##ait', '##ike', 'Along', 'Jewish', 'Lucy', 'Power', 'Probably', 'WWII', 'Whatever', 'adventures', 'attempting', 'charge', 'goofy', 'intensity', 'laid', 'raise', 'ratings', 'retarded', 'topic', '##IN', '##cs', '##fy', '##lated', '##nder', '##nic', '##pring', '##sted', '##tory', '##tta', '##verse', '##ways', 'Long', 'Obviously', 'fabulous', 'sides', 'text', '##ales', '##igh', '##oes', '##uded', '##ula', '1950s', 'Doctor', 'General', 'Jake', 'Matthau', 'Planet', 'ashamed', 'bound', 'dogs', 'horrific', 'mountain', 'personalities', 'punch', 'remind', 'risk', 'rival', '##aling', '##hing', '##ique', '##lyn', '##orse', '##yle', '18', 'Had', 'chief', 'chilling', 'dude', 'nightmare', 'packed', 'poignant', 'stops', '##face', '##uate', 'Bo', 'Jay', 'Nightmare', 'Rochester', 'Spielberg', 'Way', 'delight', 'expressions', 'frequently', 'hole', 'learning', 'park', 'refuses', 'revolves', 'screenwriter', 'sleeping', 'spy', 'struggles', 'sum', 'thrilling', 'upset', 'wishes', '##ho', '##itor', '##ject', 'FBI', 'Sir', 'Widmark', 'advantage', 'angle', 'attacks', 'cheese', 'credible', 'ghosts', 'lesser', 'overcome', 'served', 'tongue', '##ades', '##bling', '##prise', '##rail', 'Bette', 'Heaven', 'Helen', 'Italy', 'Up', 'albeit', 'alike', 'credibility', 'cynical', 'flawed', 'interviews', 'mansion', 'metal', 'mindless', 'obsession', 'tense', '##OT', '##aze', '##ei', '##outs', 'Mystery', 'Streisand', 'amazingly', 'arm', 'broke', 'legs', 'mass', 'opened', 'scream', 'stupidity', '##aked', '##iction', '##ito', '##rent', 'Andrews', 'Award', 'Baker', 'Burton', 'Cat', 'Derek', 'Family', 'Seagal', 'alright', 'comedian', 'controversial', 'dislike', 'drives', 'fallen', 'greatly', 'guessing', 'heaven', 'ironic', 'manager', 'medical', 'perform', 'shape', 'stylish', 'suffered', 'trite', 'warn', 'wealthy', '##cked', '##forms', '##iss', '##sal', '##tedly', '##uch', '##ying', 'Bollywood', 'Britain', 'Carter', 'Check', 'Kill', 'amongst', 'chair', 'countries', 'enjoyment', 'glimpse', 'gripping', 'guard', 'marvelous', 'patient', 'performers', 'seeking', 'succeed', 'technique', 'uncomfortable', 'wasting', '##ank', '##aron', '##bility', '##icted', '##lves', '##ob', '##uns', 'Chaplin', 'Dog', 'Highly', 'Karloff', 'REALLY', 'cruel', 'dubbing', 'ensemble', 'franchise', 'initially', 'innocence', 'irony', 'ourselves', 'queen', 'separate', '##bo', '##icate', '##ivity', '##lla', '##rds', '##rified', '##ror', '##ulp', '##used', 'Andrew', 'Hill', 'Kurt', 'Nelson', 'Ralph', 'adding', 'aliens', 'connected', 'express', 'notable', 'nowadays', 'shines', 'tree', 'trial', 'un', 'van', '##CE', '##avage', '##bel', '##graphic', '##lob', '##mp', '##sen', '##tein', '##ulous', '##ustin', 'Arnold', 'Candy', 'EVER', 'Elvira', 'Flynn', 'aired', 'atmospheric', 'em', 'exceptional', 'forest', 'hundreds', 'neat', 'physically', 'plastic', 'pool', 'protagonists', 'racism', 'sexuality', 'tied', '##aging', '##aming', '##ators', '##coming', '##eo', '##fic', '##ugh', '##ult', '##uppet', 'Carpenter', 'Home', 'President', 'Universal', 'darkness', 'hint', 'month', 'scripts', 'sings', 'spin', 'suggests', 'thousands', 'upper', '##ashing', '##ech', '##ense', '##ify', '##ser', '##urn', '24', 'BAD', 'Personally', 'accepted', 'bag', 'cameos', 'consists', 'courage', 'develops', 'hoped', 'lessons', 'letting', 'meaningful', 'miles', 'nose', 'noted', 'raw', 'sentimental', 'shorts', '##KE', '##ag', '##gers', '##izes', '##ound', '##rrow', '##vate', '##zz', 'Foster', 'Lucas', 'MST3K', 'Oscars', 'Rating', 'Vincent', 'Woman', 'annoyed', 'assistant', 'candy', 'condition', 'contain', 'grave', 'hiding', 'ice', 'idiotic', 'jungle', 'lovable', 'lying', 'miscast', 'robot', 'spots', 'thrillers', 'trick', '##ID', '##abe', '##aries', '##nity', '##reak', '##tter', '##uated', '##uce', '##uit', '16', 'Golden', 'Stan', 'Unless', 'belongs', 'gain', 'hundred', 'larger', 'mirror', 'searching', 'shoots', 'steps', 'terrifying', 'wanna', '##cts', '##dly', '##ez', '##imate', '##ode', '##ules', 'Elvis', 'Final', 'Glover', 'Indeed', 'Pretty', 'Roberts', 'chases', 'equal', 'guilt', 'happily', 'mob', 'nation', 'neighborhood', 'object', 'troubled', 'turkey', '##cho', '##eer', '##ieu', '##pire', '##via', '1st', '2005', 'Boll', 'Catherine', 'Curtis', 'Dorothy', 'Grace', 'Hall', 'basement', 'colorful', 'concerns', 'demon', 'drink', 'eerie', 'entry', 'guts', 'proof', 'tune', 'underground', '##aps', '##cer', '##dated', '##ility', '##iro', '##istress', '##uation', '##yard', 'Hamlet', 'Hanks', 'achieved', 'complaint', 'contact', 'court', 'destruction', 'dialogs', 'endearing', 'expensive', 'hooked', 'horses', 'infamous', 'knife', 'per', 'saves', 'segments', 'shut', 'solve', 'terror', 'worry', '##acre', '##alt', '##ented', '##ew', '##ira', '##ord', '##ount', '##ston', '##ya', 'Denzel', 'Eastwood', 'Hudson', 'Lane', 'Lloyd', 'Mother', 'Walken', 'adapted', 'beach', 'competent', 'concert', 'dollar', 'dragged', 'essence', 'hang', 'imaginative', 'perfection', 'portrait', 'ripped', 'sends', 'split', 'tour', '##ashed', '##ception', '##ones', '##ows', '##pable', '##po', '##rous', '##while', 'Age', 'Castle', 'Club', 'Jeremy', 'Law', 'appearances', 'appearing', 'card', 'charisma', 'dealt', 'dinner', 'dramas', 'flaw', 'hopefully', 'multi', 'profound', 'spell', 'states', 'torn', 'tribute', 'ultra', 'urban', 'wave', 'weight', '##ILL', '##ette', '##eur', '##illian', '##rab', '##raph', '##sha', '##stone', '##ugs', 'Comedy', 'Cusack', 'Eva', 'Heston', 'Nevertheless', 'ad', 'chasing', 'checking', 'daily', 'fashioned', 'gag', 'host', 'millions', 'rushed', 'strangely', 'teach', 'unforgettable', '##EAD', '##ady', '##dding', '##ert', '##ica', '##rch', '##uted', '##vention', '1990', 'Almost', 'Canada', 'Chuck', 'III', 'PG', 'SO', 'boredom', 'closely', 'fitting', 'goal', 'hitting', 'plague', 'pointed', 'quote', 'reactions', 'repeat', 'sexually', 'shower', 'specific', 'stealing', 'striking', 'techniques', 'tricks', '##IGHT', '##astic', '##ault', '##ggy', '##lips', '##uming', 'Bobby', 'Ice', 'National', 'Neil', 'countless', 'cousin', 'covers', 'fool', 'grows', 'incoherent', 'knock', 'madness', 'neck', 'neighbor', 'oil', 'painting', 'revolution', 'riding', 'sky', 'stunts', 'thousand', '##aid', '##ana', '##aw', '##cent', '##lter', '##lton', '##mic', '##plies', '##ven', '##vision', '##wise', '##wl', 'Barry', 'Burns', 'Ghost', 'Hope', 'Ritter', 'Science', 'attempted', 'battles', 'beating', 'carefully', 'charismatic', 'colour', 'experiment', 'fish', 'hype', 'inspiring', 'intentions', 'surrounded', 'tear', 'virus', '##ambling', '##anity', '##ders', '##dication', '##eat', '##fying', '##gling', '##hs', '##ives', '##ollow', '##orm', '##ters', '##uppets', '##urse', '##uts', '1970s', 'Lake', 'Think', 'Wild', 'Zero', 'busy', 'easier', 'fired', 'homage', 'intention', 'relevant', 'represents', 'sons', 'stated', 'stronger', 'surrounding', 'thirty', 'walls', '##US', '##afia', '##iar', '##illa', '##ional', '##ja', '##oking', '##pect', '##pped', '##some', '##ttes', '##urity', '##ushing', '2002', 'Astaire', 'Cinema', 'Code', 'Cole', 'Cox', 'Excellent', 'Ian', 'dropped', 'enters', 'exercise', 'fortune', 'fourth', 'homeless', 'horrendous', 'importance', 'increasingly', 'invisible', 'kicks', 'messages', 'occurs', 'pack', 'requires', 'slight', 'stretch', 'suspects', 'unintentionally', '##atch', '##bled', '##ored', '##race', '##ssed', '##vity', 'Bakshi', 'Carol', 'Dawson', 'Father', 'Korean', 'Kubrick', 'LA', 'Miike', 'Poor', 'School', 'attached', 'believing', 'contract', 'dancer', 'disagree', 'drags', 'identify', 'inevitable', 'library', 'loser', 'stunt', '##TER', '##ase', '##cut', '##ek', '##ind', '##long', '##mar', '##tro', '1980s', 'Davies', 'East', 'Master', 'Rather', 'Reynolds', 'Sally', 'acceptable', 'briefly', 'brilliance', 'crisis', 'dare', 'demons', 'elsewhere', 'encounters', 'flight', 'glass', 'professor', 'projects', 'scientists', 'spending', 'thrills', 'videos', '##OM', '##ires', '##lade', '##nded', '##udos', '##vor', 'Carrey', 'Scooby', 'associated', 'attraction', 'corrupt', 'enter', 'killings', 'network', 'performing', 'resolution', 'sophisticated', 'toilet', 'worker', '##ab', '##aint', '##any', '##craft', '##eal', '##ote', '##ulk', '##vo', 'Church', 'Eye', 'Jamie', 'Living', 'Thanks', 'Uncle', 'bridge', 'commit', 'creation', 'fest', 'handful', 'insulting', 'kidnapped', 'medium', 'pleased', 'stood', 'strip', 'struck', 'weapon', 'wreck', '##BS', '##CH', '##TH', '##graphy', '##hief', '##iling', '##itz', '##minated', '##ross', 'Australia', 'Brosnan', 'Die', 'Hunter', 'Navy', 'Plot', 'Spike', 'Whether', 'aforementioned', 'crimes', 'gift', 'hunt', 'hunting', 'importantly', 'menacing', 'pushed', 'reunion', 'revelation', 'selling', 'stranger', 'threatening', 'tremendous', 'useless', '##ages', '##cist', '##cover', '##hold', '##lee', '##mit', '##pse', '##rat', '##set', '##uin', '##urai', '##usted', '45', 'Aside', 'Jesse', 'Joey', 'Kane', 'allowing', 'continued', 'drivel', 'evident', 'flawless', 'honor', 'instantly', 'listed', 'nonetheless', 'nuclear', 'raped', 'realise', 'talked', 'technically', 'wake', 'wondered', '##cking', '##eep', '##gun', '##iamond', '##liness', '##of', '##piring', '##ption', '##ught', 'Add', 'Films', 'Satan', 'Worst', 'admire', 'beaten', 'beings', 'breasts', 'corner', 'creators', 'disease', 'individuals', 'investigation', 'photographed', 'pleasantly', 'rocks', 'secretary', 'sun', 'worthless', '##boy', '##fuse', '##inger', '##lie', '##lines', '##mission', '##nch', '##nia', '##pted', '##rained', '##si', '##ware', '##weet', 'CIA', 'Cagney', 'Catholic', 'Mitchell', 'Right', 'accomplished', 'appalling', 'attracted', 'bucks', 'buried', 'consequences', 'ego', 'estate', 'fears', 'fifteen', 'forgive', 'generous', 'hire', 'letter', 'overlooked', 'push', 'sacrifice', 'shadow', 'stiff', 'ticket', 'vague', '##ader', '##cker', '##front', '##ident', '##iny', '##jected', '##lf', '##nel', '##oker', '##olly', '##ortal', '##pare', '##ucky', '##urst', '20th', 'ABC', 'Alexander', 'Cameron', 'Falk', 'Francisco', 'Norman', 'Perry', 'Rex', 'ambitious', 'characterization', 'comics', 'curiosity', 'holiday', 'melodramatic', 'opposed', 'persona', 'planning', 'prevent', 'relative', 'repetitive', 'slightest', 'spiritual', 'string', 'vacation', 'watches', 'wonders', '##hining', '##itty', '##lair', '##lam', '##oses', '##rupt', '##stitution', '##sure', '##table', 'Craig', 'Dirty', 'Emily', 'Felix', 'Fire', 'Five', 'Gothic', 'Live', 'Picture', 'Remember', 'health', 'lacked', 'nine', 'poverty', 'redemption', 'revealing', 'size', 'spoiled', 'strike', 'subplot', 'titled', 'tons', '##east', '##eral', '##iler', '##ois', '##pa', '##pose', '##ria', '##rove', '##unky', '##zzy', 'Goldberg', 'Los', 'Lou', 'Ruth', 'cared', 'competition', 'conceived', 'critic', 'directorial', 'documentaries', 'factory', 'hearts', 'ignored', 'installment', 'jealous', 'logical', 'morality', 'motivation', 'national', 'outrageous', 'progress', 'remaining', 'shy', 'slap', 'splendid', 'strictly', 'subsequent', '##af', '##ague', '##alo', '##ec', '##ency', '##fire', '##gie', '##hale', '##ifies', '##ights', '##iles', '##ior', '##iously', '##izard', '##lands', '##leasing', '##liff', '##oly', '##rell', '##rest', '##rial', '##roll', '##tches', '##volution', '##zzling', 'Apart', 'Fay', 'Ken', 'Laurel', 'Murder', 'Point', 'Wes', 'bullets', 'burn', 'butt', 'cabin', 'captivating', 'clues', 'dig', 'distant', 'exaggerated', 'frustrated', 'jerk', 'mild', 'miserably', 'oddly', 'overdone', 'partly', 'pulling', 'response', 'smoking', 'spooky', 'superbly', 'whoever', '##ake', '##ander', '##ari', '##awn', '##ees', '##iallo', '##ification', '##key', '##olves', '##ural', '2004', '99', 'Angel', 'Fisher', 'Mann', 'Mel', 'NEVER', 'Secret', 'Turner', 'Verhoeven', 'Would', 'accused', 'achievement', 'boxing', 'dignity', 'distance', 'draws', 'explicit', 'eyed', 'futuristic', 'lifetime', 'noise', 'obscure', 'outcome', 'poster', 'reduced', 'tales', 'tea', 'uninspired', '##bidden', '##ept', '##gg', '##lical', '##look', '##lting', '##rin', '##rman', '##rnie', '##sies', '##tely', '##ully', '##unny', '##uting', '2003', 'Could', 'Dad', 'Dave', 'Ellen', 'Gandhi', 'Glenn', 'Hard', 'Indians', 'Kenneth', 'Season', 'St', 'Wells', 'cardboard', 'connect', 'darker', 'discussion', 'elaborate', 'elderly', 'explore', 'farce', 'hence', 'intrigued', 'psychiatrist', 'psychotic', 'reasonable', 'reasonably', 'returning', 'scientific', 'sticks', 'territory', 'toy', 'wow', '##ads', '##bra', '##orous', '##ployed', '##pressed', '##rah', '##rust', '##tto', '##vel', '##vis', '##wed', '1930s', 'Duke', 'Honestly', 'Inspector', 'Romero', 'Throughout', 'Timothy', 'Witch', 'aimed', 'areas', 'argument', 'chain', 'convoluted', 'duo', 'exposed', 'imagined', 'internet', 'jumping', 'magazine', 'minimal', 'notably', 'notorious', 'picking', 'pro', 'providing', 'rap', 'repeatedly', 'returned', 'scripted', 'shirt', 'slave', 'sole', 'throat', 'wannabe', '##lain', '##umbled', '##urs', '##vious', '##wers', 'Except', 'Grand', 'Matthew', 'Paulie', 'Real', 'Video', 'beer', 'blockbuster', 'childish', 'commercials', 'complain', 'cried', 'dire', 'editor', 'failing', 'hysterical', 'landscape', 'load', 'movements', 'parent', 'pet', 'photographer', 'press', 'reached', 'rid', 'shark', 'sloppy', 'suits', 'thick', 'tortured', '##aire', '##aves', '##breaking', '##esque', '##lle', '##nent', '##rich', '##uity', '##zon', 'Altman', 'Century', 'Cold', 'Danes', 'Dracula', 'Eyre', 'Karen', 'Kirk', 'Lily', 'Manhattan', 'Mildred', 'Princess', 'Warren', 'arrested', 'arrive', 'bond', 'cheek', 'choreography', 'conspiracy', 'extended', 'highlights', 'involvement', 'kiss', 'lab', 'lake', 'marks', 'narrator', 'occurred', 'unbearable', '##AS', '##ection', '##erve', '##ession', '##fies', '##oks', '##oop', '##ov', '##rank', '##rip', '##ros', '##rown', '##rum', '##sist', '##uddy', '##urance', '##welve', 'Beatty', 'Buck', 'Carrie', 'Eventually', 'Fortunately', 'Hamilton', 'Ireland', 'Modesty', 'ON', 'Set', 'Wallace', 'affected', 'afterwards', 'antics', 'blend', 'broad', 'dancers', 'definite', 'demands', 'differences', 'digital', 'displays', 'existed', 'flash', 'genres', 'grim', 'improved', 'intent', 'ought', 'population', 'precious', 'ranks', 'resembles', 'restaurant', 'studios', 'threat', 'timeless', 'typically', 'worried', '##ET', '##OD', '##SE', '##UT', '##ife', '##iful', '##istent', '##j', '##logical', '##mann', '##ona', '##ories', '##reen', '##ridge', '##rill', '##teen', '##tered', '##udging', '50s', 'Brazil', 'Craven', 'Make', 'Miles', 'Nazis', 'Pat', 'Soviet', 'Summer', 'absence', 'argue', 'bat', 'border', 'burned', 'chances', 'cowboy', 'devil', 'enjoys', 'fancy', 'gentle', 'gotta', 'grandmother', 'guest', 'idiots', 'occur', 'receive', 'recognized', 'ridiculously', 'sadistic', 'selfish', 'swear', 'symbolism', 'threw', 'trade', 'vicious', 'website', 'westerns', 'wing', '##VE', '##ason', '##bes', '##esis', '##igan', '##igo', '##min', '##raphy', '##rave', '##ws', 'Annie', 'Fonda', 'Greek', 'Hugh', 'Lawrence', 'Margaret', 'Nicholson', 'Quite', 'Spirit', 'Todd', 'Years', 'bathroom', 'birthday', 'broadcast', 'burning', 'concerning', 'dynamic', 'horrid', 'hunter', 'investigate', 'machines', 'merit', 'misses', 'mouse', 'overrated', 'pretend', 'proceedings', 'pseudo', 'sadness', 'screams', 'strikes', 'suited', 'superficial', '##ace', '##claimed', '##eck', '##fle', '##lic', '##licate', '##lity', '##olved', '##pies', '##uct', '##uid', '##uis', '##verted', '##vice', '2007', '2nd', 'Atlantis', 'BUT', 'Down', 'End', 'Eyes', 'Godfather', 'Granted', 'LOVE', 'Leonard', 'Lots', 'MAN', 'Rambo', 'Series', 'Stiller', 'Terry', 'comfortable', 'composed', 'daring', 'engaged', 'explosion', 'glory', 'harder', 'heroic', 'horrors', 'incident', 'piano', 'presumably', 'staged', 'styles', '##TY', '##eak', '##iable', '##live', '##ony', '##rily', '##tairs', '##tally', '##thology', '##uke', '##ulating', '##uri', '##vert', '##weight', 'Art', 'Based', 'Carl', 'Considering', 'Donna', 'Edie', 'Given', 'Kapoor', 'Madonna', 'Nice', 'Thus', 'Voight', 'aging', 'blows', 'clothing', 'code', 'contained', 'dear', 'ease', 'eccentric', 'escaped', 'freak', 'golden', 'gradually', 'intrigue', 'journalist', 'overwhelming', 'popcorn', 'row', 'tame', 'thankfully', 'thrill', 'unpleasant', '##ager', '##arn', '##iece', '##illing', '##isation', '##lent', '##minate', '##nis', '##ops', '##pin', '##rick', '##rol', '##terior', '##udd', '##van', '##yon', '1930', 'Blake', 'Brady', 'Child', 'Clint', 'Dream', 'Fulci', 'Kennedy', 'Lemmon', 'Palma', 'Walker', 'Worth', 'abilities', 'adequate', 'coherent', 'conventional', 'conversations', 'deliberately', 'detailed', 'devoted', 'disturbed', 'errors', 'folk', 'groups', 'innovative', 'liking', 'loosely', 'nearby', 'newspaper', 'noble', 'smoke', 'worlds', '##eld', '##ilk', '##lating', '##law', '##mes', '##nted', '##ort', '##ost', '##pion', '##quisite', '##rize', '##rse', '##uced', '##umb', '##urly', '1996', 'Cary', 'Certainly', 'Cuba', 'Cube', 'Ever', 'Grey', 'Lion', 'Price', 'Rings', 'banned', 'bare', 'brand', 'builds', 'cameras', 'craft', 'cringe', 'explosions', 'influenced', 'ingredients', 'kitchen', 'meat', 'murderous', 'notes', 'odds', 'offering', 'orders', 'philosophy', 'possibility', 'prostitute', 'react', 'relies', 'resemblance', 'rural', 'stone', 'thumbs', 'unbelievably', 'west', '##abel', '##arch', '##arden', '##cated', '##heart', '##how', '##isms', '##kie', '##mand', '##now', '##ography', '##ras', '##umble', '##vent', '##zes', '##´s', '##ée', '90s', 'According', 'Florida', 'HBO', 'Imagine', 'Li', 'Olivier', 'Polanski', 'Rain', 'Woods', 'aunt', 'bears', 'beast', 'beats', 'blowing', 'catches', 'causing', 'corpse', 'defeat', 'dentist', 'discuss', 'distracting', 'foul', 'implausible', 'kidding', 'lit', 'meaningless', 'occasion', 'passes', 'producing', 'removed', 'root', 'satisfied', 'scheme', 'sport', 'staying', 'succeeded', 'unintentional', 'unwatchable', 'wealth', '##ND', '##bits', '##enny', '##imer', '##nny', '##orman', '##rge', '##tern', '##xed', '1960', '1999', 'Brooklyn', 'Dawn', 'Hank', 'Jeffrey', 'Mad', 'Maggie', 'Seeing', 'Seven', 'Special', 'Through', 'angel', 'backdrop', 'bleak', 'careers', 'centered', 'classes', 'currently', 'drawing', 'explored', 'financial', 'juvenile', 'league', 'mistaken', 'moon', 'sentence', 'shine', 'souls', 'subjects', 'trap', 'vivid', 'wicked', '##IE', '##NT', '##born', '##ctions', '##cus', '##ghty', '##logist', '##mous', '##rict', '##tan', '##venge', 'Characters', 'Cook', 'Dragon', 'Harvey', 'Holly', 'Hurt', 'Linda', 'NOTHING', 'Streep', 'Thing', 'afford', 'disc', 'drunken', 'hates', 'impress', 'lifestyle', 'lust', 'measure', 'notion', 'offended', 'portion', 'president', 'primary', 'recorded', 'shall', 'sidekick', 'smaller', 'staff', 'triumph', 'uneven', 'unfolds', 'whereas', '##UST', '##aster', '##cles', '##ellow', '##fort', '##gal', '##gin', '##ican', '##icient', '##ios', '##making', '##pan', '##posing', '##pression', '##uckle', '##uction', '##uster', '3rd', 'Fu', 'Ginger', 'Hills', 'Mickey', 'Neither', 'Rick', 'River', 'Swedish', 'alas', 'clumsy', 'consistently', 'countryside', 'decisions', 'devoid', 'dialogues', 'doors', 'dozens', 'endings', 'explaining', 'frustration', 'leg', 'liberal', 'mixture', 'models', 'official', 'performer', 'represent', 'shadows', 'shelf', 'shoes', 'smooth', 'snow', 'superhero', 'thugs', 'tracks', 'web', '##andy', '##cean', '##lve', '##lying', '##munist', '##ological', '##ports', '##rite', '##tures', '##undance', 'AT', 'Amy', 'Diane', 'Garbo', 'Kid', 'Legend', 'Line', 'Roman', 'Scream', 'Tommy', 'audio', 'avoided', 'benefit', 'blatant', 'buddies', 'celluloid', 'cheating', 'coffee', 'crack', 'curse', 'dating', 'describes', 'directs', 'drops', 'duty', 'enemies', 'exotic', 'fetched', 'flop', 'fond', 'goodness', 'hatred', 'houses', 'politically', 'props', 'reaches', 'robots', 'storm', 'travels', 'trees', 'trio', '##acho', '##eers', '##ji', '##nte', '##ples', '##ported', '##ret', '##rice', '##riend', '##rit', '##stiny', '##ternal', '##uh', '##vez', '##vocative', '##world', 'Angeles', 'Bottom', 'Diana', 'Hartley', 'International', 'Macy', 'Shirley', 'Skip', 'Top', 'Vampire', 'authority', 'backgrounds', 'brains', 'buff', 'captain', 'combat', 'desperation', 'doomed', 'enormous', 'ha', 'hideous', 'highest', 'hints', 'immensely', 'lyrics', 'montage', 'outfit', 'painted', 'pays', 'possessed', 'primarily', 'ruthless', 'spirited', 'stinker', 'synopsis', 'urge', '##00', '##ately', '##bition', '##fall', '##fers', '##gies', '##ille', '##lance', '##lied', '##llo', '##nting', '##olin', '##ong', '##ora', '##orn', '##porting', '##rade', '##rim', '##round', '##sume', '##tance', '##test', '##uds', '1940', 'April', 'Doo', 'FX', 'Griffith', 'Homer', 'Hood', 'Lumet', 'Niro', 'advance', 'bedroom', 'block', 'claimed', 'commented', 'companion', 'damage', 'developing', 'disappear', 'emphasis', 'forms', 'generic', 'matches', 'motives', 'nevertheless', 'planned', 'relations', 'remarkably', 'secrets', 'senseless', 'signs', 'survival', 'vast', 'wont', '##LL', '##ading', '##ae', '##ament', '##dler', '##ending', '##ends', '##gion', '##hetic', '##iger', '##lined', '##lins', '##lized', '##lled', '##rect', '##rot', '##thing', '##tized', '##tz', '##ume', '##urg', '##urry', '##ux', 'Beautiful', 'Godzilla', 'Jonathan', 'Judy', 'ONE', 'Shaw', 'Super', 'Times', 'Uwe', 'Winters', 'adorable', 'awe', 'dedicated', 'disappeared', 'discovery', 'disjointed', 'displayed', 'endure', 'executive', 'focusing', 'guessed', 'interaction', 'introduces', 'involve', 'lasted', 'officers', 'rank', 'simplistic', 'stellar', 'tie', 'topless', 'transformation', 'unsettling', 'von', 'weakest', '##BC', '##aneously', '##bin', '##bound', '##buster', '##del', '##dict', '##eem', '##ella', '##ells', '##gger', '##hal', '##hop', '##iot', '##nk', '##screen', '##sses', '##star', '##tend', '##ucing', 'Akshay', 'Berlin', 'Charlotte', 'Fear', 'Hal', 'Hart', 'Note', 'Save', 'Saw', 'Wendy', 'aid', 'bullet', 'chased', 'disappoint', 'earned', 'farm', 'formulaic', 'funeral', 'grab', 'honesty', 'illogical', 'justify', 'mate', 'miserable', 'mountains', 'philosophical', 'possibilities', 'practice', 'represented', 'rooms', 'severe', 'silver', 'stereotype', 'surfing', 'terrorist', 'traveling', 'user', 'warming', 'winds', '##IBLE', '##bid', '##core', '##eds', '##erry', '##hrase', '##ination', '##iversity', '##las', '##laughter', '##leton', '##like', '##lishment', '##nibal', '##nment', '##oddy', '##oms', '##oned', '##osed', '##plane', '##ptic', '##taker', '##tone', '##vian', '##woman', '1972', 'ANY', 'Actor', 'Adams', 'Amanda', 'Brother', 'Campbell', 'Days', 'Franco', 'Friends', 'Morris', 'Nobody', 'Sandra', 'Scary', 'Somehow', 'Year', 'altogether', 'arrogant', 'cards', 'ears', 'faster', 'faults', 'flies', 'grasp', 'ideal', 'improve', 'instant', 'isolated', 'kicked', 'loyal', 'monkey', 'nervous', 'pitch', 'promised', 'settle', 'seventies', 'similarities', 'solely', 'sounding', 'thief', 'thru', 'toys', 'trashy', '##alking', '##can', '##crow', '##ean', '##erson', '##gging', '##ifts', '##ills', '##ivable', '##ool', '##pard', '##pense', '##rks', '##tical', '##uddled', '##volving', '##zer', '35', 'Christy', 'Cut', 'Gadget', 'Grinch', 'Kids', 'Leo', 'Orson', 'Women', 'agrees', 'blew', 'bold', 'cats', 'choreographed', 'cliche', 'concern', 'considerable', 'consistent', 'corruption', 'depressed', 'dinosaurs', 'forty', 'ignorant', 'inventive', 'link', 'passionate', 'pride', 'racial', 'silence', 'subtlety', 'tad', 'thoughtful', 'widow', '##IS', '##anding', '##anted', '##ause', '##bable', '##cky', '##duction', '##eta', '##fined', '##hem', '##iation', '##ital', '##ived', '##lunt', '##nor', '##pet', '##standing', '##umped', '##uries', '##vsky', 'Bergman', 'Dalton', 'Four', 'Midnight', 'Montana', 'Ollie', 'Roth', 'Sellers', 'Simpson', 'bone', 'buffs', 'constructed', 'defend', 'embarrassment', 'finger', 'glorious', 'hurts', 'inane', 'loads', 'mill', 'nomination', 'nostalgic', 'nurse', 'photos', 'plant', 'riveting', 'scope', 'sits', 'stress', 'switch', 'translation', 'treats', 'tunes', 'understandable', 'wished', '##AD', '##aising', '##antly', '##cate', '##ese', '##fty', '##ik', '##imp', '##lad', '##lies', '##lished', '##lobal', '##made', '##nap', '##ola', '##posure', '##uding', '##vant', '##ventions', '##zzled', '1983', 'Bela', 'Carradine', 'Connery', 'Dixon', 'Gore', 'Khan', 'Lena', 'Mario', 'Myers', 'Needless', 'Paltrow', 'Run', 'Shelley', 'Stevens', 'Timon', 'Usually', 'Wonderful', 'agents', 'cinematographer', 'contrary', 'corporate', 'cup', 'dances', 'delivering', 'downhill', 'eighties', 'hardcore', 'hill', 'humble', 'poetic', 'pretending', 'preview', 'purchase', 'rat', 'revolutionary', 'shortly', 'swimming', 'taught', 'tender', 'undoubtedly', 'useful', 'waited', 'wet', 'wore', '##HO', '##body', '##dal', '##horus', '##ila', '##iracle', '##lor', '##lot', '##mother', '##oid', '##ounds', '##pit', '##rief', '##ucated', '##vine', '##zo', '00', '1968', 'Amitabh', 'Book', 'Bush', 'Doc', 'GREAT', 'Heart', 'Hopper', 'Iran', 'Kyle', 'Recommended', 'SNL', 'Scottish', 'Scrooge', 'Sirk', 'Spoilers', 'Virginia', 'WHY', 'abysmal', 'affect', 'alcoholic', 'arrived', 'bang', 'climactic', 'closest', 'clown', 'confidence', 'convincingly', 'destroying', 'engage', 'fooled', 'hook', 'inferior', 'maintain', 'motivations', 'reads', 'relation', 'soccer', 'stole', 'suitable', 'tiresome', 'trained', 'valuable', 'voiced', 'wound', '##IC', '##OL', '##ac', '##acing', '##ared', '##cial', '##iker', '##ius', '##iver', '##lace', '##laus', '##lding', '##lephant', '##lusion', '##matically', '##nsion', '##plied', '##rix', '##rocodile', '##sters', '##uy', '##vised', '1960s', 'Early', 'Edgar', 'Jenny', 'MacArthur', 'Nicholas', 'Pie', 'Richardson', 'Spock', 'awake', 'behave', 'beliefs', 'boot', 'chest', 'closed', 'coach', 'conflicts', 'crush', 'dub', 'education', 'fatal', 'gangsters', 'helicopter', 'horrifying', 'jazz', 'jumped', 'laws', 'lowest', 'nightmares', 'porno', 'pot', 'sappy', 'secretly', 'shake', 'spirits', 'staring', 'transfer', 'unhappy', 'writes', 'yesterday', '##U', '##aft', '##anna', '##assy', '##burn', '##get', '##iably', '##icated', '##igs', '##ntal', '##nzo', '##onk', '##oral', '##ove', '##pic', '##pled', '##quare', '##ringing', '##toric', 'Dickens', 'Dutch', 'Everybody', 'Gerard', 'Germans', 'Gundam', 'REAL', 'Raymond', 'Richards', 'Robinson', 'Stallone', 'abusive', 'beneath', 'bin', 'buildings', 'button', 'catching', 'catchy', 'celebrity', 'couples', 'designs', 'desired', 'exploration', 'guarantee', 'guide', 'mysteries', 'plight', 'progresses', 'questionable', 'reaching', 'reflect', 'remarks', 'safety', 'scores', 'slick', 'spare', 'survived', 'tall', 'transition', 'vulnerable', 'winter', '##RY', '##amp', '##arily', '##bia', '##cal', '##ems', '##ervant', '##fold', '##graph', '##iew', '##leading', '##ndence', '##ology', '##oss', '##ou', '##uble', '##unior', 'Absolutely', 'Action', 'Boys', 'Chase', 'Chicago', 'Cowboy', 'Domino', 'Force', 'Forget', 'Francis', 'Frankie', 'Gabriel', 'Several', 'Vegas', 'Willis', 'Writer', 'access', 'advise', 'amounts', 'blank', 'blond', 'chaos', 'chess', 'construction', 'depicts', 'divorce', 'french', 'granted', 'homosexual', 'lengthy', 'messed', 'pants', 'poetry', 'principal', 'punk', 'purchased', 'quotes', 'recognition', 'simplicity', 'specifically', 'spoke', 'spread', 'trailers', 'wrapped', '##ONE', '##ONG', '##arc', '##aters', '##bal', '##ceiving', '##iam', '##ides', '##nse', '##okemon', '##oll', '##park', '##pulsive', '##rading', '##ribute', '##rise', '##rone', '##torney', '##umbles', '##using', '##vasion', '##zzle', '1973', 'Beyond', 'Biko', 'CD', 'Civil', 'Damon', 'Farrell', 'Frankenstein', 'Grayson', 'Hyde', 'June', 'Louise', 'Lundgren', 'Made', 'Monster', 'ONLY', 'September', 'Therefore', 'advertising', 'artificial', 'bands', 'bonus', 'brutally', 'cave', 'cheated', 'closet', 'complexity', 'conservative', 'copies', 'elegant', 'experiments', 'facing', 'fighter', 'fix', 'grandfather', 'heat', 'illegal', 'joined', 'kicking', 'limits', 'lord', 'nostalgia', 'potentially', 'prisoners', 'realizing', 'relatives', 'rendition', 'resources', 'sh', 'stilted', 'terrorists', 'understated', 'vaguely', '##9th', '##abbit', '##asing', '##axi', '##cratic', '##eather', '##eek', '##ere', '##hot', '##ician', '##iffer', '##ifying', '##lli', '##manding', '##olph', '##ols', '##onic', '##oting', '##path', '##pping', '##rad', '##reep', '##riel', '##riest', '##tones', '##ui', '##umps', 'Ah', 'Alien', 'Austen', 'Bacall', 'Barrymore', 'Carell', 'Citizen', 'DON', 'Dance', 'Drake', 'Ethan', 'Eve', 'Funny', 'Kay', 'Latin', 'Le', 'acid', 'alongside', 'attitudes', 'cake', 'challenging', 'cure', 'dinosaur', 'doll', 'fascinated', 'inappropriate', 'incomprehensible', 'intimate', 'letters', 'losers', 'matched', 'patients', 'persons', 'proceeds', 'rage', 'resort', 'responsibility', 'restored', 'ridden', 'saga', 'twin', 'viewings', 'visible', 'visits', 'wisdom', 'witnessed', 'worn', '##EE', '##ION', '##THING', '##acon', '##ange', '##asketball', '##assin', '##bbing', '##cognizable', '##enn', '##ete', '##ews', '##fense', '##ground', '##ico', '##iginal', '##ims', '##int', '##lass', '##livia', '##loom', '##minator', '##nounced', '##nter', '##nza', '##olt', '##ounty', '##own', '##pal', '##racy', '##rilla', '##thon', '##tling', 'Alison', 'Alone', 'CG', 'Christians', 'Either', 'Face', 'Secondly', 'Simply', 'Theater', 'advanced', 'appreciation', 'compelled', 'dreary', 'eager', 'ensues', 'equivalent', 'intentionally', 'lay', 'newly', 'opinions', 'satisfy', 'subplots', 'widely', 'yelling', '##abies', '##alley', '##anders', '##dition', '##erate', '##gating', '##gst', '##hapter', '##icking', '##inate', '##ishing', '##itude', '##jay', '##laring', '##ntial', '##ocal', '##onica', '##oof', '##oring', '##pid', '##pider', '##stal', '##tains', '##tributed', '##ubby', '##ublic', '##ucted', '##uish', '##utter', 'Amazing', 'Ashley', 'Belushi', 'Enjoy', 'GOOD', 'Girls', 'Hunt', 'Julian', 'Justin', 'Marion', 'Novak', 'Reid', 'Walsh', 'Wind', 'Zombies', 'armed', 'arrival', 'bath', 'bottle', 'capturing', 'centers', 'channels', 'defined', 'demented', 'eaten', 'et', 'floating', 'huh', 'illness', 'jaw', 'manipulative', 'mundane', 'namely', 'parties', 'plausible', 'pushing', 'rain', 'robbery', 'seeks', 'showcase', 'snake', 'survivors', 'tends', 'troops', 'wandering', 'wrap', '##ails', '##aut', '##ays', '##chi', '##eeding', '##hantom', '##iance', '##iers', '##ifted', '##ko', '##lowing', '##mine', '##orship', '##ran', '##rence', '##rett', '##riving', '##served', '##tack', '##uld', '##ulf', '##urvivor', '##uses', '##wilight', '1933', 'Alfred', 'Angela', 'Angels', 'Antwone', 'Better', 'Camp', 'Carla', 'Cassidy', 'Cruise', 'Earl', 'Furthermore', 'History', 'Iraq', 'Keith', 'Mars', 'NYC', 'Rooney', 'Ruby', 'Rukh', 'Sunshine', 'Third', 'Thompson', 'Watson', 'Willie', 'Zizek', 'Zone', 'alternate', 'bargain', 'belong', 'bird', 'capital', 'chooses', 'civilization', 'classical', 'cleverly', 'despair', 'dropping', 'exceptionally', 'frequent', 'irrelevant', 'masterpieces', 'mechanical', 'methods', 'opportunities', 'poem', 'polished', 'serving', 'sincere', 'vengeance', 'warmth', 'witnesses', 'wrestling', '##AVE', '##ORE', '##aa', '##alace', '##alker', '##ao', '##ario', '##arrow', '##aver', '##avour', '##cohol', '##dia', '##gment', '##hen', '##ien', '##ishes', '##mitation', '##onder', '##owe', '##paring', '##pel', '##ua', '##uffice', '##ulations', '##uration', '##vations', '##water', '1984', 'Happy', 'Israel', 'MY', 'Molly', 'Owen', 'Scotland', 'Von', 'agreed', 'analysis', 'arguably', 'awfully', 'bumbling', 'caliber', 'cities', 'combine', 'command', 'comparing', 'creativity', 'creator', 'distinct', 'dressing', 'empathy', 'equipment', 'excessive', 'fiancé', 'generated', 'gifted', 'hilariously', 'icon', 'incompetent', 'literature', 'masterful', 'mentions', 'method', 'minimum', 'nephew', 'online', 'performs', 'purposes', 'recording', 'resist', 'rotten', 'rubber', 'rush', 'sink', 'species', 'suspicious', 'travesty', '##AT', '##bers', '##book', '##borough', '##chester', '##cidence', '##cting', '##eel', '##gor', '##here', '##inja', '##irt', '##lug', '##lusive', '##olic', '##oming', '##orrow', '##ques', '##rease', '##ressed', '##ronic', '##science', '##tick', '##uly', '##ww', '1987', '1997', '30s', 'Abraham', 'Brenda', 'Darren', 'Directed', 'Eugene', 'Graham', 'Greg', 'Josh', 'Kurosawa', 'Luckily', 'Meryl', 'Miyazaki', 'Naturally', 'Orleans', 'Simmons', 'Soderbergh', 'Spain', 'Ustinov', 'Whoopi', 'absent', 'birds', 'counter', 'crucial', 'ear', 'gender', 'household', 'inducing', 'introduce', 'lately', 'lips', 'mall', 'marketing', 'mile', 'misery', 'neighbors', 'parallel', 'paranoia', 'phony', 'pops', 'popularity', 'prequel', 'randomly', 'rolled', 'ruins', 'signed', 'smiling', 'stretched', 'ties', 'tribe', 'unaware', 'versus', 'waitress', 'warrior', 'wishing', '##78', '##88', '##RS', '##aj', '##amination', '##bury', '##clude', '##come', '##dge', '##evitably', '##he', '##irection', '##ival', '##lose', '##lsen', '##mary', '##more', '##mpt', '##ndo', '##ndon', '##ork', '##ptical', '##rist', '##roy', '##shes', '##stinct', '##stitute', '##sty', '##wim', '##ycle', '1993', '2008', 'Antonioni', 'Bell', 'Betty', 'Damme', 'MTV', 'Marty', 'Nathan', 'Othello', 'Pamela', 'Quinn', 'Sabrina', 'Sheriff', 'Sid', 'Sound', 'Southern', 'Until', 'Whoever', 'accompanied', 'activities', 'assigned', 'assumed', 'attend', 'bite', 'businessman', 'calm', 'careful', 'definition', 'dimension', 'doubts', 'dragon', 'dust', 'educational', 'expressed', 'feminist', 'integrity', 'interests', 'mankind', 'mentioning', 'overacting', 'package', 'property', 'receives', 'respected', 'sneak', 'southern', 'surviving', 'tag', 'troubles', 'underlying', 'unoriginal', 'wives', '##39', '##IDS', '##MAN', '##ailor', '##arine', '##avy', '##bor', '##cess', '##ctic', '##dder', '##ef', '##emme', '##erness', '##esses', '##eys', '##forward', '##gance', '##kers', '##ledge', '##lications', '##outing', '##phia', '##rants', '##rought', '##ruit', '##spire', '##structive', '##sumed', '##tribution', '##unce', '##viour', '##works', '##yler', '1971', '1995', '3000', 'Colonel', 'Crawford', 'Detective', 'Dolph', 'Fiction', 'McLaglen', 'Murray', 'Muslim', 'Shame', 'Tarantino', 'Try', 'Ultimately', 'University', 'Ward', 'album', 'borrowed', 'correctly', 'deceased', 'depicting', 'directions', 'distribution', 'edgy', 'expedition', 'greatness', 'hop', 'laughably', 'legal', 'lively', 'map', 'menace', 'merits', 'metaphor', 'moody', 'nuts', 'photo', 'princess', 'punishment', 'quit', 'reflection', 'resulting', 'rocket', 'romp', 'showdown', 'sin', 'stale', 'stinks', 'suspend', 'trademark', 'unreal', 'wacky', 'wounded', '##ATCH', '##bilities', '##bration', '##cca', '##echnicolor', '##ect', '##eldom', '##gatory', '##hes', '##leck', '##luff', '##nist', '##ploitation', '##rayed', '##razed', '##rek', '##rture', '##ryn', '##sists', '##tically', '##tting', '##uctor', '##uto', '##zu', 'Dana', 'Empire', 'Fool', 'Gone', 'Joel', 'Looking', 'Phil', 'Preston', 'Sex', 'Strange', 'Stuart', 'Terrible', 'Truly', 'adaptations', 'ambiguous', 'balls', 'biography', 'brutality', 'clip', 'companies', 'contest', 'grabs', 'greedy', 'hopeless', 'invented', 'maid', 'moronic', 'nail', 'nonsensical', 'passable', 'patience', 'pressure', 'resemble', 'slice', 'solution', 'south', 'teaching', 'tv', 'virgin', 'witches', '##RA', '##VER', '##aine', '##alentine', '##ani', '##ater', '##atingly', '##aux', '##bian', '##burne', '##cast', '##cisely', '##cled', '##dd', '##ein', '##erves', '##ferred', '##fest', '##fly', '##hampionship', '##ipe', '##lake', '##lare', '##lavia', '##likable', '##miere', '##ncing', '##nesses', '##oach', '##oked', '##olation', '##ox', '##pered', '##raphs', '##rder', '##ributes', '##rustrating', '##stical', '##tra', '##uan', '##under', '##usion', '##verly', '##writer', '##xt', 'Alicia', 'Andre', 'Boyle', 'Classic', 'Din', 'Downey', 'Game', 'Human', 'Leon', 'Malone', 'Newman', 'Normally', 'Office', 'Palance', 'Pierce', 'Plan', 'Purple', 'Rita', 'Robbins', 'Russia', 'Speaking', 'Stars', 'Temple', 'WAS', 'bugs', 'circle', 'composer', 'conditions', 'confess', 'confrontation', 'conscious', 'demise', 'disliked', 'domestic', 'dreck', 'enthusiasm', 'exchange', 'fought', 'generations', 'harm', 'hippie', 'immediate', 'improvement', 'inability', 'kissing', 'landing', 'loyalty', 'objective', 'ordered', 'promises', 'psychic', 'retired', 'shaky', 'shed', 'significance', 'splatter', 'stunned', 'suggested', 'supported', 'tacky', 'tonight', 'unfair', 'unit', 'unpredictable', 'uplifting', 'wholly', 'ya', '##45', '##76', '##89', '##TE', '##ala', '##ano', '##arian', '##asts', '##case', '##chak', '##developed', '##gation', '##hand', '##idly', '##ific', '##iner', '##lishing', '##mite', '##ots', '##pher', '##poses', '##rely', '##rical', '##riends', '##rightened', '##seen', '##tonishing', '##tude', '##udes', '##uma', '##umbling', '##undant', '##usement', '##warming', '##ysfunctional', '13th', '1936', '22', 'Baldwin', 'Basinger', 'Believe', 'Bridget', 'Christianity', 'Dee', 'Fans', 'Fido', 'Foxx', 'Gregory', 'Hawke', 'Hot', 'Hotel', 'Kansas', 'Karl', 'Kumar', 'Logan', 'Marshall', 'Nicole', 'Omen', 'Pearl', 'Perfect', 'Peters', 'Raines', 'Ring', 'Ross', 'Sharon', 'Sissy', 'Title', 'Tone', 'Vance', 'WHAT', 'WWE', 'Written', 'accuracy', 'alternative', 'amused', 'bill', 'blast', 'checked', 'chicks', 'compassion', 'cracking', 'depression', 'difficulties', 'fascination', 'fox', 'ham', 'indulgent', 'infected', 'lackluster', 'museum', 'nerd', 'pursuit', 'rates', 'refused', 'remained', 'respectively', 'roots', 'subjected', 'vulgar', 'wretched', '##!', '##\"', '###', '##$', '##%', '##&', \"##'\", '##(', '##)', '##*', '##+', '##,', '##-', '##.', '##/', '##:', '##;', '##<', '##=', '##>', '##?', '##@', '##Q', '##Z', '##[', '##\\\\', '##]', '##^', '##_', '##`', '##q', '##{', '##|', '##}', '##~', '##', '##¡', '##¢', '##£', '##¤', '##¦', '##§', '##¨', '##«', '##®', '##°', '##³', '##´', '##·', '##º', '##»', '##½', '##¾', '##¿', '##À', '##Á', '##Ã', '##Ä', '##Å', '##È', '##É', '##Ê', '##Õ', '##Ø', '##Ü', '##ß', '##à', '##á', '##â', '##ã', '##ä', '##å', '##æ', '##ç', '##è', '##ê', '##ë', '##ì', '##í', '##î', '##ï', '##ð', '##ñ', '##ò', '##ó', '##ô', '##ö', '##ø', '##ù', '##ú', '##û', '##ü', '##ý', '##ō', '##–', '##‘', '##’', '##“', '##”', '##…', '##₤', '##\\uf0b7'])"
      ]
     },
     "execution_count": 12,
     "metadata": {},
     "output_type": "execute_result"
    }
   ],
   "source": [
    "# Print the subwords\n",
    "subword_tokenizer.get_vocabulary()"
   ]
  },
  {
   "cell_type": "markdown",
   "metadata": {
    "id": "kaRA9LBUwfHM"
   },
   "source": [
    "If you use it on the previous plain text sentence, you'll see that it won't have any OOVs even if it has a smaller vocab size (only around 8k compared to 10k above):"
   ]
  },
  {
   "cell_type": "code",
   "execution_count": 13,
   "metadata": {
    "id": "B8HSViuDGNco"
   },
   "outputs": [
    {
     "data": {
      "text/plain": [
       "7635"
      ]
     },
     "execution_count": 13,
     "metadata": {},
     "output_type": "execute_result"
    }
   ],
   "source": [
    "# Show the size of the subword vocabulary\n",
    "subword_tokenizer.vocabulary_size()"
   ]
  },
  {
   "cell_type": "code",
   "execution_count": 14,
   "metadata": {
    "id": "tn_eLaS5mR7H"
   },
   "outputs": [
    {
     "name": "stdout",
     "output_type": "stream",
     "text": [
      "Tokenized string is [ 209  175  195  674  630  178   15  680    8   85  189   77 2000  170\n",
      "  192 1766 4426  203  700   42 1864 2116   15 1961  185  255  328   13\n",
      "  182  173  392  535  189  231  442  390  170  740   15  597  231  255\n",
      "  282  263  186 1680 6036  173  178    8   84  908 1045   15  209  178\n",
      "  168  195  638 4963 1657 1422 3263  637   15  176  258 1648  312  234\n",
      "  330  223  164   36 1532 5576  758  326 4207  174  234  415  231 3925\n",
      "  180 4554  174   15 3651   36  363 6855 1985 2230 1828  303 1931 7070\n",
      "   13  165  202 5417   14  298 2118  179 4426  175  353  182   66 1648\n",
      " 1210   81 7017  170   66  178  172  175 5789  166  269  324 1606   15\n",
      "   42  427  938  172  219  185  266  199  173   13 3231  204  471    8\n",
      "   84  199 1766 4426    8   84  210  627   15   42  263 1575 1169  320\n",
      "  171   15]\n",
      "The original string: b\"This was an absolutely terrible movie . Don ' t be lured in by Christopher Walken or Michael Ironside . Both are great actors , but this must simply be their worst role in history . Even their great acting could not redeem this movie ' s ridiculous storyline . This movie is an early nineties US propaganda piece . The most pathetic scenes were those when the Columbian rebels were making their cases for revolutions . Maria Conchita Alonso appeared phony , and her pseudo - love affair with Walken was nothing but a pathetic emotional plug in a movie that was devoid of any real meaning . I am disappointed that there are movies like this , ruining actor ' s like Christopher Walken ' s good name . I could barely sit through it .\"\n"
     ]
    }
   ],
   "source": [
    "# Get a sample review\n",
    "sample_review = train_reviews.take(1).get_single_element()\n",
    "\n",
    "# Encode the first plaintext sentence using the subword text encoder\n",
    "tokenized_string = subword_tokenizer.tokenize(sample_review)\n",
    "print ('Tokenized string is {}'.format(tokenized_string))\n",
    "\n",
    "# Decode the sequence\n",
    "original_string = subword_tokenizer.detokenize(tokenized_string)\n",
    "\n",
    "# Print the result\n",
    "print('The original string: {}'.format(original_string))"
   ]
  },
  {
   "cell_type": "markdown",
   "metadata": {
    "id": "iL9O3hEqw4Bl"
   },
   "source": [
    "Subword encoding can even perform well on words that are not commonly found in movie reviews. First, see the result when using the full-word tokenizer. As expected, it will show many unknown words."
   ]
  },
  {
   "cell_type": "code",
   "execution_count": 15,
   "metadata": {
    "id": "MHRj1J0j8ApE"
   },
   "outputs": [
    {
     "name": "stdout",
     "output_type": "stream",
     "text": [
      "Tokenized string is [ 1 36  1  6  1]\n",
      "The original string: [UNK] from [UNK] to [UNK]\n"
     ]
    }
   ],
   "source": [
    "# Define sample sentence\n",
    "sample_string = 'TensorFlow, from basics to mastery'\n",
    "\n",
    "# Encode using the plain text tokenizer\n",
    "tokenized_string = vectorize_layer(sample_string)\n",
    "print ('Tokenized string is {}'.format(tokenized_string))\n",
    "\n",
    "# Decode and print the result\n",
    "decoded_text = [imdb_vocab_fullword[token] for token in tokenized_string]\n",
    "original_string = ' '.join(decoded_text)\n",
    "print ('The original string: {}'.format(original_string))"
   ]
  },
  {
   "cell_type": "markdown",
   "metadata": {
    "id": "ZhQ-4O-uxdbJ"
   },
   "source": [
    "Then compare to the subword tokenizer:"
   ]
  },
  {
   "cell_type": "code",
   "execution_count": 16,
   "metadata": {
    "id": "fPl2BXhYEHRP"
   },
   "outputs": [
    {
     "name": "stdout",
     "output_type": "stream",
     "text": [
      "Tokenized string is [  53 2235  543 1827 3024   13  198 1659  174  167 2220  238]\n",
      "The original string: TensorFlow , from basics to mastery\n"
     ]
    }
   ],
   "source": [
    "# Encode using the subword text encoder\n",
    "tokenized_string = subword_tokenizer.tokenize(sample_string)\n",
    "print('Tokenized string is {}'.format(tokenized_string))\n",
    "\n",
    "# Decode and print the results\n",
    "original_string = subword_tokenizer.detokenize(tokenized_string).numpy().decode(\"utf-8\")\n",
    "print('The original string: {}'.format(original_string))\n"
   ]
  },
  {
   "cell_type": "markdown",
   "metadata": {
    "id": "89sbfXjz0MSW"
   },
   "source": [
    "As you may notice, the sentence is correctly decoded. The downside is the token sequence is much longer. Instead of only 5 when using the full-word tokenizer, you ended up with 12 tokens instead. The mapping for this sentence is shown below:"
   ]
  },
  {
   "cell_type": "code",
   "execution_count": 17,
   "metadata": {
    "id": "_3t7vvNLEZml"
   },
   "outputs": [
    {
     "name": "stdout",
     "output_type": "stream",
     "text": [
      "53 ----> T\n",
      "2235 ----> ##ens\n",
      "543 ----> ##or\n",
      "1827 ----> ##F\n",
      "3024 ----> ##low\n",
      "13 ----> ,\n",
      "198 ----> from\n",
      "1659 ----> basic\n",
      "174 ----> ##s\n",
      "167 ----> to\n",
      "2220 ----> master\n",
      "238 ----> ##y\n"
     ]
    }
   ],
   "source": [
    "# Show token to subword mapping:\n",
    "for ts in tokenized_string:\n",
    "  print ('{} ----> {}'.format(ts, subword_tokenizer.detokenize([ts]).numpy().decode(\"utf-8\")))"
   ]
  },
  {
   "cell_type": "markdown",
   "metadata": {
    "id": "aZ22ugch1TFy"
   },
   "source": [
    "## Training the model\n",
    "\n",
    "You will now train your model using the subword-tokenized dataset using the same process as before."
   ]
  },
  {
   "cell_type": "code",
   "execution_count": 18,
   "metadata": {
    "id": "LVSTLBe_SOUr"
   },
   "outputs": [],
   "source": [
    "SHUFFLE_BUFFER_SIZE = 10000\n",
    "PREFETCH_BUFFER_SIZE = tf.data.AUTOTUNE\n",
    "BATCH_SIZE = 32\n",
    "\n",
    "# Generate integer sequences using the subword tokenizer\n",
    "train_sequences_subword = train_reviews.map(lambda review: subword_tokenizer.tokenize(review)).apply(padding_func)\n",
    "test_sequences_subword = test_reviews.map(lambda review: subword_tokenizer.tokenize(review)).apply(padding_func)\n",
    "\n",
    "# Combine the integer sequence and labels\n",
    "train_dataset_vectorized = tf.data.Dataset.zip(train_sequences_subword,train_labels)\n",
    "test_dataset_vectorized = tf.data.Dataset.zip(test_sequences_subword,test_labels)\n",
    "\n",
    "# Optimize the datasets for training\n",
    "train_dataset_final = (train_dataset_vectorized\n",
    "                       .shuffle(SHUFFLE_BUFFER_SIZE)\n",
    "                       .cache()\n",
    "                       .prefetch(buffer_size=PREFETCH_BUFFER_SIZE)\n",
    "                       .batch(BATCH_SIZE)\n",
    "                       )\n",
    "\n",
    "test_dataset_final = (test_dataset_vectorized\n",
    "                      .cache()\n",
    "                      .prefetch(buffer_size=PREFETCH_BUFFER_SIZE)\n",
    "                      .batch(BATCH_SIZE)\n",
    "                      )"
   ]
  },
  {
   "cell_type": "markdown",
   "metadata": {
    "id": "HCjHCG7s2sAR"
   },
   "source": [
    "Next, you will build the model. You can just use the architecture from the previous lab."
   ]
  },
  {
   "cell_type": "code",
   "execution_count": 21,
   "metadata": {
    "id": "5NEpdhb8AxID"
   },
   "outputs": [
    {
     "name": "stdout",
     "output_type": "stream",
     "text": [
      "Model: \"sequential_1\"\n",
      "_________________________________________________________________\n",
      " Layer (type)                Output Shape              Param #   \n",
      "=================================================================\n",
      " embedding_1 (Embedding)     (None, 120, 64)           488640    \n",
      "                                                                 \n",
      " global_average_pooling1d_1   (None, 64)               0         \n",
      " (GlobalAveragePooling1D)                                        \n",
      "                                                                 \n",
      " dense_2 (Dense)             (None, 6)                 390       \n",
      "                                                                 \n",
      " dense_3 (Dense)             (None, 1)                 7         \n",
      "                                                                 \n",
      "=================================================================\n",
      "Total params: 489,037\n",
      "Trainable params: 489,037\n",
      "Non-trainable params: 0\n",
      "_________________________________________________________________\n"
     ]
    }
   ],
   "source": [
    "# Define dimensionality of the embedding\n",
    "EMBEDDING_DIM = 64\n",
    "\n",
    "# Build the model\n",
    "model = tf.keras.Sequential([\n",
    "    tf.keras.Input(shape=(MAX_LENGTH,)),\n",
    "    tf.keras.layers.Embedding(subword_tokenizer.vocabulary_size(), EMBEDDING_DIM),\n",
    "    tf.keras.layers.GlobalAveragePooling1D(),\n",
    "    tf.keras.layers.Dense(6, activation='relu'),\n",
    "    tf.keras.layers.Dense(1, activation='sigmoid')\n",
    "])\n",
    "\n",
    "# Print the model summary\n",
    "model.summary()"
   ]
  },
  {
   "cell_type": "markdown",
   "metadata": {
    "id": "2aOn2bAc3AUj"
   },
   "source": [
    "Similarly, you can use the same parameters for training. In Colab, it will take around 10 to 15 seconds per epoch (without an accelerator) and you will reach around 92% training accuracy and 77% validation accuracy."
   ]
  },
  {
   "cell_type": "code",
   "execution_count": 20,
   "metadata": {
    "id": "fkt8c5dNuUlT"
   },
   "outputs": [
    {
     "name": "stdout",
     "output_type": "stream",
     "text": [
      "Epoch 1/10\n",
      "782/782 [==============================] - 8s 9ms/step - loss: 0.5273 - accuracy: 0.7488 - val_loss: 0.4304 - val_accuracy: 0.7991\n",
      "Epoch 2/10\n",
      "782/782 [==============================] - 6s 8ms/step - loss: 0.3492 - accuracy: 0.8506 - val_loss: 0.4235 - val_accuracy: 0.8036\n",
      "Epoch 3/10\n",
      "782/782 [==============================] - 6s 8ms/step - loss: 0.3017 - accuracy: 0.8752 - val_loss: 0.4470 - val_accuracy: 0.7988\n",
      "Epoch 4/10\n",
      "782/782 [==============================] - 6s 8ms/step - loss: 0.2760 - accuracy: 0.8882 - val_loss: 0.4758 - val_accuracy: 0.7922\n",
      "Epoch 5/10\n",
      "782/782 [==============================] - 6s 8ms/step - loss: 0.2587 - accuracy: 0.8952 - val_loss: 0.5050 - val_accuracy: 0.7876\n",
      "Epoch 6/10\n",
      "782/782 [==============================] - 6s 8ms/step - loss: 0.2457 - accuracy: 0.9019 - val_loss: 0.5336 - val_accuracy: 0.7832\n",
      "Epoch 7/10\n",
      "782/782 [==============================] - 6s 8ms/step - loss: 0.2352 - accuracy: 0.9070 - val_loss: 0.5614 - val_accuracy: 0.7803\n",
      "Epoch 8/10\n",
      "782/782 [==============================] - 6s 7ms/step - loss: 0.2266 - accuracy: 0.9111 - val_loss: 0.5885 - val_accuracy: 0.7773\n",
      "Epoch 9/10\n",
      "782/782 [==============================] - 6s 8ms/step - loss: 0.2192 - accuracy: 0.9151 - val_loss: 0.6138 - val_accuracy: 0.7745\n",
      "Epoch 10/10\n",
      "782/782 [==============================] - 6s 8ms/step - loss: 0.2127 - accuracy: 0.9191 - val_loss: 0.6398 - val_accuracy: 0.7722\n"
     ]
    }
   ],
   "source": [
    "num_epochs = 10\n",
    "\n",
    "# Set the training parameters\n",
    "model.compile(loss='binary_crossentropy',optimizer='adam',metrics=['accuracy'])\n",
    "\n",
    "# Start training\n",
    "history = model.fit(train_dataset_final, epochs=num_epochs, validation_data=test_dataset_final)"
   ]
  },
  {
   "cell_type": "markdown",
   "metadata": {
    "id": "3ygYaD6H3qGX"
   },
   "source": [
    "## Visualize the results\n",
    "\n",
    "You can use the cell below to plot the training results. See if you can improve it by tweaking the parameters such as the size of the embedding and number of epochs."
   ]
  },
  {
   "cell_type": "code",
   "execution_count": 22,
   "metadata": {
    "id": "-_rMnm7WxQGT"
   },
   "outputs": [
    {
     "data": {
      "image/png": "[encoded data removed]",
      "text/plain": [
       "<Figure size 1200x600 with 2 Axes>"
      ]
     },
     "metadata": {},
     "output_type": "display_data"
    }
   ],
   "source": [
    "def plot_loss_acc(history):\n",
    "  '''Plots the training and validation loss and accuracy from a history object'''\n",
    "  acc = history.history['accuracy']\n",
    "  val_acc = history.history['val_accuracy']\n",
    "  loss = history.history['loss']\n",
    "  val_loss = history.history['val_loss']\n",
    "\n",
    "  epochs = range(len(acc))\n",
    "\n",
    "  fig, ax = plt.subplots(1,2, figsize=(12, 6))\n",
    "  ax[0].plot(epochs, acc, 'bo', label='Training accuracy')\n",
    "  ax[0].plot(epochs, val_acc, 'b', label='Validation accuracy')\n",
    "  ax[0].set_title('Training and validation accuracy')\n",
    "  ax[0].set_xlabel('epochs')\n",
    "  ax[0].set_ylabel('accuracy')\n",
    "  ax[0].legend()\n",
    "\n",
    "  ax[1].plot(epochs, loss, 'bo', label='Training Loss')\n",
    "  ax[1].plot(epochs, val_loss, 'b', label='Validation Loss')\n",
    "  ax[1].set_title('Training and validation loss')\n",
    "  ax[1].set_xlabel('epochs')\n",
    "  ax[1].set_ylabel('loss')\n",
    "  ax[1].legend()\n",
    "\n",
    "  plt.show()\n",
    "\n",
    "plot_loss_acc(history)"
   ]
  },
  {
   "cell_type": "markdown",
   "metadata": {
    "id": "R0TRE-Lb4C5b"
   },
   "source": [
    "## Wrap Up\n",
    "\n",
    "In this lab, you saw how subword tokenization can be a robust technique to avoid out-of-vocabulary tokens. It can decode uncommon words it hasn't seen before even with a relatively small vocab size. Consequently, it results in longer token sequences when compared to full word tokenization. Next week, you will look at other architectures that you can use when building your classifier. These will be recurrent neural networks and convolutional neural networks."
   ]
  }
 ],
 "metadata": {
  "colab": {
   "private_outputs": true,
   "provenance": []
  },
  "kernelspec": {
   "display_name": "Python 3 (ipykernel)",
   "language": "python",
   "name": "python3"
  },
  "language_info": {
   "codemirror_mode": {
    "name": "ipython",
    "version": 3
   },
   "file_extension": ".py",
   "mimetype": "text/x-python",
   "name": "python",
   "nbconvert_exporter": "python",
   "pygments_lexer": "ipython3",
   "version": "3.9.19"
  }
 },
 "nbformat": 4,
 "nbformat_minor": 4
}
